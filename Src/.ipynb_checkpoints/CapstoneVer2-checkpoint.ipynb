{
 "cells": [
  {
   "cell_type": "markdown",
   "metadata": {},
   "source": [
    "Package Installation"
   ]
  },
  {
   "cell_type": "code",
   "execution_count": 1,
   "metadata": {},
   "outputs": [],
   "source": [
    "#!pip install src\n",
    "#!pip install lifelines"
   ]
  },
  {
   "cell_type": "markdown",
   "metadata": {},
   "source": [
    "Load packages to use"
   ]
  },
  {
   "cell_type": "code",
   "execution_count": 2,
   "metadata": {},
   "outputs": [],
   "source": [
    "# load packages\n",
    "import numpy as np\n",
    "import pandas as pd\n",
    "import matplotlib.pyplot as plt\n",
    "%matplotlib inline\n",
    "plt.style.use(\"ggplot\")\n",
    "\n",
    "import seaborn as sns\n",
    "import statsmodels.api as sm # give you lots of stat\n",
    "\n",
    "from sklearn.datasets import make_classification\n",
    "from sklearn.linear_model import LogisticRegression\n",
    "from sklearn.model_selection import KFold, train_test_split\n",
    "from sklearn.metrics import accuracy_score, precision_score, recall_score\n",
    "import lifelines\n",
    "from datetime import date"
   ]
  },
  {
   "cell_type": "markdown",
   "metadata": {},
   "source": [
    "Load raw Dataset"
   ]
  },
  {
   "cell_type": "code",
   "execution_count": 3,
   "metadata": {},
   "outputs": [
    {
     "data": {
      "text/html": [
       "<div>\n",
       "<style scoped>\n",
       "    .dataframe tbody tr th:only-of-type {\n",
       "        vertical-align: middle;\n",
       "    }\n",
       "\n",
       "    .dataframe tbody tr th {\n",
       "        vertical-align: top;\n",
       "    }\n",
       "\n",
       "    .dataframe thead th {\n",
       "        text-align: right;\n",
       "    }\n",
       "</style>\n",
       "<table border=\"1\" class=\"dataframe\">\n",
       "  <thead>\n",
       "    <tr style=\"text-align: right;\">\n",
       "      <th></th>\n",
       "      <th>Country</th>\n",
       "      <th>Employee_Pay_ST</th>\n",
       "      <th>Track</th>\n",
       "      <th>Level_Cat</th>\n",
       "      <th>Level</th>\n",
       "      <th>Effective_Start_DT</th>\n",
       "      <th>Effective_Ending_DT</th>\n",
       "      <th>Termination_Reason</th>\n",
       "      <th>Birth_DT</th>\n",
       "      <th>Edad</th>\n",
       "      <th>...</th>\n",
       "      <th>Media_hora_curso</th>\n",
       "      <th>Estado</th>\n",
       "      <th>Total_number_received_Feedback</th>\n",
       "      <th>Performance_feedback_AVG</th>\n",
       "      <th>Performance_Level_CD</th>\n",
       "      <th>Performance_Level</th>\n",
       "      <th>Potential_Level_CD</th>\n",
       "      <th>Potential_Level</th>\n",
       "      <th>Track_Code</th>\n",
       "      <th>TotalNumberOfficeEmployees</th>\n",
       "    </tr>\n",
       "    <tr>\n",
       "      <th>ID_Country</th>\n",
       "      <th></th>\n",
       "      <th></th>\n",
       "      <th></th>\n",
       "      <th></th>\n",
       "      <th></th>\n",
       "      <th></th>\n",
       "      <th></th>\n",
       "      <th></th>\n",
       "      <th></th>\n",
       "      <th></th>\n",
       "      <th></th>\n",
       "      <th></th>\n",
       "      <th></th>\n",
       "      <th></th>\n",
       "      <th></th>\n",
       "      <th></th>\n",
       "      <th></th>\n",
       "      <th></th>\n",
       "      <th></th>\n",
       "      <th></th>\n",
       "      <th></th>\n",
       "    </tr>\n",
       "  </thead>\n",
       "  <tbody>\n",
       "    <tr>\n",
       "      <th>2</th>\n",
       "      <td>MX</td>\n",
       "      <td>Active</td>\n",
       "      <td>SYINCO</td>\n",
       "      <td>5</td>\n",
       "      <td>Sr. Consultant</td>\n",
       "      <td>12/01/2001</td>\n",
       "      <td>1/29/2021</td>\n",
       "      <td>Still Active</td>\n",
       "      <td>16/09/1971</td>\n",
       "      <td>49</td>\n",
       "      <td>...</td>\n",
       "      <td>16.0</td>\n",
       "      <td>Activo</td>\n",
       "      <td>0.0</td>\n",
       "      <td>91.789248</td>\n",
       "      <td>2</td>\n",
       "      <td>Medium</td>\n",
       "      <td>0</td>\n",
       "      <td>No Employee info</td>\n",
       "      <td>8</td>\n",
       "      <td>1441</td>\n",
       "    </tr>\n",
       "    <tr>\n",
       "      <th>2</th>\n",
       "      <td>MX</td>\n",
       "      <td>Active</td>\n",
       "      <td>DEVELO</td>\n",
       "      <td>5</td>\n",
       "      <td>Sr. Consultant</td>\n",
       "      <td>8/23/2018</td>\n",
       "      <td>1/29/2021</td>\n",
       "      <td>Still Active</td>\n",
       "      <td>10/10/1966</td>\n",
       "      <td>54</td>\n",
       "      <td>...</td>\n",
       "      <td>10.0</td>\n",
       "      <td>Activo</td>\n",
       "      <td>19.0</td>\n",
       "      <td>91.630000</td>\n",
       "      <td>2</td>\n",
       "      <td>Medium</td>\n",
       "      <td>0</td>\n",
       "      <td>No Employee info</td>\n",
       "      <td>3</td>\n",
       "      <td>1441</td>\n",
       "    </tr>\n",
       "    <tr>\n",
       "      <th>2</th>\n",
       "      <td>MX</td>\n",
       "      <td>Active</td>\n",
       "      <td>CONSUL</td>\n",
       "      <td>6</td>\n",
       "      <td>Manager / Master</td>\n",
       "      <td>08/01/2009</td>\n",
       "      <td>1/29/2021</td>\n",
       "      <td>Still Active</td>\n",
       "      <td>03/09/1972</td>\n",
       "      <td>48</td>\n",
       "      <td>...</td>\n",
       "      <td>2.0</td>\n",
       "      <td>Activo</td>\n",
       "      <td>0.0</td>\n",
       "      <td>91.789248</td>\n",
       "      <td>0</td>\n",
       "      <td>High</td>\n",
       "      <td>0</td>\n",
       "      <td>No Employee info</td>\n",
       "      <td>2</td>\n",
       "      <td>1441</td>\n",
       "    </tr>\n",
       "    <tr>\n",
       "      <th>2</th>\n",
       "      <td>MX</td>\n",
       "      <td>Active</td>\n",
       "      <td>MNGSER</td>\n",
       "      <td>3</td>\n",
       "      <td>Experienced Consultant</td>\n",
       "      <td>11/16/2017</td>\n",
       "      <td>1/29/2021</td>\n",
       "      <td>Still Active</td>\n",
       "      <td>22/11/1970</td>\n",
       "      <td>49</td>\n",
       "      <td>...</td>\n",
       "      <td>14.0</td>\n",
       "      <td>Activo</td>\n",
       "      <td>0.0</td>\n",
       "      <td>91.789248</td>\n",
       "      <td>2</td>\n",
       "      <td>Medium</td>\n",
       "      <td>0</td>\n",
       "      <td>No Employee info</td>\n",
       "      <td>4</td>\n",
       "      <td>1441</td>\n",
       "    </tr>\n",
       "    <tr>\n",
       "      <th>2</th>\n",
       "      <td>MX</td>\n",
       "      <td>Active</td>\n",
       "      <td>PROJCT</td>\n",
       "      <td>6</td>\n",
       "      <td>Manager / Master</td>\n",
       "      <td>10/01/1995</td>\n",
       "      <td>1/29/2021</td>\n",
       "      <td>Still Active</td>\n",
       "      <td>25/06/1974</td>\n",
       "      <td>46</td>\n",
       "      <td>...</td>\n",
       "      <td>4.0</td>\n",
       "      <td>Activo</td>\n",
       "      <td>2.0</td>\n",
       "      <td>50.000000</td>\n",
       "      <td>2</td>\n",
       "      <td>Medium</td>\n",
       "      <td>1</td>\n",
       "      <td>RISING TALENT</td>\n",
       "      <td>5</td>\n",
       "      <td>1441</td>\n",
       "    </tr>\n",
       "  </tbody>\n",
       "</table>\n",
       "<p>5 rows × 65 columns</p>\n",
       "</div>"
      ],
      "text/plain": [
       "           Country Employee_Pay_ST   Track  Level_Cat                   Level  \\\n",
       "ID_Country                                                                      \n",
       "2               MX          Active  SYINCO          5          Sr. Consultant   \n",
       "2               MX          Active  DEVELO          5          Sr. Consultant   \n",
       "2               MX          Active  CONSUL          6        Manager / Master   \n",
       "2               MX          Active  MNGSER          3  Experienced Consultant   \n",
       "2               MX          Active  PROJCT          6        Manager / Master   \n",
       "\n",
       "           Effective_Start_DT Effective_Ending_DT Termination_Reason  \\\n",
       "ID_Country                                                             \n",
       "2                  12/01/2001           1/29/2021       Still Active   \n",
       "2                   8/23/2018           1/29/2021       Still Active   \n",
       "2                  08/01/2009           1/29/2021       Still Active   \n",
       "2                  11/16/2017           1/29/2021       Still Active   \n",
       "2                  10/01/1995           1/29/2021       Still Active   \n",
       "\n",
       "              Birth_DT  Edad  ...  Media_hora_curso  Estado  \\\n",
       "ID_Country                    ...                             \n",
       "2           16/09/1971    49  ...              16.0  Activo   \n",
       "2           10/10/1966    54  ...              10.0  Activo   \n",
       "2           03/09/1972    48  ...               2.0  Activo   \n",
       "2           22/11/1970    49  ...              14.0  Activo   \n",
       "2           25/06/1974    46  ...               4.0  Activo   \n",
       "\n",
       "            Total_number_received_Feedback  Performance_feedback_AVG  \\\n",
       "ID_Country                                                             \n",
       "2                                      0.0                 91.789248   \n",
       "2                                     19.0                 91.630000   \n",
       "2                                      0.0                 91.789248   \n",
       "2                                      0.0                 91.789248   \n",
       "2                                      2.0                 50.000000   \n",
       "\n",
       "            Performance_Level_CD  Performance_Level  Potential_Level_CD  \\\n",
       "ID_Country                                                                \n",
       "2                              2             Medium                   0   \n",
       "2                              2             Medium                   0   \n",
       "2                              0               High                   0   \n",
       "2                              2             Medium                   0   \n",
       "2                              2             Medium                   1   \n",
       "\n",
       "             Potential_Level  Track_Code  TotalNumberOfficeEmployees  \n",
       "ID_Country                                                            \n",
       "2           No Employee info           8                        1441  \n",
       "2           No Employee info           3                        1441  \n",
       "2           No Employee info           2                        1441  \n",
       "2           No Employee info           4                        1441  \n",
       "2              RISING TALENT           5                        1441  \n",
       "\n",
       "[5 rows x 65 columns]"
      ]
     },
     "execution_count": 3,
     "metadata": {},
     "output_type": "execute_result"
    }
   ],
   "source": [
    "df = pd.read_csv('../Data/data_churn_model.csv', index_col=0)\n",
    "df.head()"
   ]
  },
  {
   "cell_type": "markdown",
   "metadata": {},
   "source": [
    "### Descartamos columnas poco significativas para el análisis\n",
    "\n",
    "##### 1) Gender\n",
    "##### 2) Effective Start Date\n",
    "##### 3) Effectivo Ending Date\n",
    "##### 4) Marital_ST\n",
    "##### 5) DateOfBirth"
   ]
  },
  {
   "cell_type": "code",
   "execution_count": 4,
   "metadata": {},
   "outputs": [],
   "source": [
    "DropColumns = ['Gender','Effective_Start_DT','Effective_Ending_DT','Marital_ST','Birth_DT']\n",
    "df.drop(DropColumns, axis=1, inplace=True)"
   ]
  },
  {
   "cell_type": "markdown",
   "metadata": {},
   "source": [
    "### Convertimos a código numérico los valores de la columna TRACK en TRACK_CD\n",
    "\n",
    "##### 1=ARCHTC\n",
    "##### 2=CONSUL\n",
    "##### 3=DEVELO\n",
    "##### 4=MNGSER\n",
    "##### 5=PROJCT\n",
    "##### 6=SERMGT\n",
    "##### 7=SUPPOR\n",
    "##### 8=SYINCO"
   ]
  },
  {
   "cell_type": "code",
   "execution_count": 23,
   "metadata": {},
   "outputs": [],
   "source": [
    "def categorizar(fila):\n",
    "    Track = fila.Track\n",
    "    if Track == 'ARCHTC':\n",
    "        return 1\n",
    "    elif Track == 'CONSUL':\n",
    "        return 2\n",
    "    elif Track == 'DEVELO':\n",
    "        return 3\n",
    "    elif Track == 'MNGSER':\n",
    "        return 4\n",
    "    elif Track == 'PROJCT':\n",
    "        return 5\n",
    "    elif Track == 'SERMGT':\n",
    "        return 6\n",
    "    elif Track == 'SUPPOR':\n",
    "        return 7\n",
    "    elif Track == 'SYINCO':\n",
    "        return 8\n",
    "    else:    \n",
    "        return 99"
   ]
  },
  {
   "cell_type": "code",
   "execution_count": 24,
   "metadata": {},
   "outputs": [
    {
     "data": {
      "text/plain": [
       "array([3, 4, 5, 2, 8, 1, 6, 7], dtype=int64)"
      ]
     },
     "execution_count": 24,
     "metadata": {},
     "output_type": "execute_result"
    }
   ],
   "source": [
    "df[\"Track_CD\"] = df.apply(categorizar, axis=1)\n",
    "df[\"Track_CD\"].unique()"
   ]
  },
  {
   "cell_type": "code",
   "execution_count": 5,
   "metadata": {},
   "outputs": [
    {
     "data": {
      "text/html": [
       "<div>\n",
       "<style scoped>\n",
       "    .dataframe tbody tr th:only-of-type {\n",
       "        vertical-align: middle;\n",
       "    }\n",
       "\n",
       "    .dataframe tbody tr th {\n",
       "        vertical-align: top;\n",
       "    }\n",
       "\n",
       "    .dataframe thead th {\n",
       "        text-align: right;\n",
       "    }\n",
       "</style>\n",
       "<table border=\"1\" class=\"dataframe\">\n",
       "  <thead>\n",
       "    <tr style=\"text-align: right;\">\n",
       "      <th></th>\n",
       "      <th>Country</th>\n",
       "      <th>Employee_Pay_ST</th>\n",
       "      <th>Track</th>\n",
       "      <th>Level_Cat</th>\n",
       "      <th>Level</th>\n",
       "      <th>Termination_Reason</th>\n",
       "      <th>Edad</th>\n",
       "      <th>Marital_CD</th>\n",
       "      <th>SBR_AMT</th>\n",
       "      <th>SCR_AMT</th>\n",
       "      <th>...</th>\n",
       "      <th>Media_hora_curso</th>\n",
       "      <th>Estado</th>\n",
       "      <th>Total_number_received_Feedback</th>\n",
       "      <th>Performance_feedback_AVG</th>\n",
       "      <th>Performance_Level_CD</th>\n",
       "      <th>Performance_Level</th>\n",
       "      <th>Potential_Level_CD</th>\n",
       "      <th>Potential_Level</th>\n",
       "      <th>Track_Code</th>\n",
       "      <th>TotalNumberOfficeEmployees</th>\n",
       "    </tr>\n",
       "    <tr>\n",
       "      <th>ID_Country</th>\n",
       "      <th></th>\n",
       "      <th></th>\n",
       "      <th></th>\n",
       "      <th></th>\n",
       "      <th></th>\n",
       "      <th></th>\n",
       "      <th></th>\n",
       "      <th></th>\n",
       "      <th></th>\n",
       "      <th></th>\n",
       "      <th></th>\n",
       "      <th></th>\n",
       "      <th></th>\n",
       "      <th></th>\n",
       "      <th></th>\n",
       "      <th></th>\n",
       "      <th></th>\n",
       "      <th></th>\n",
       "      <th></th>\n",
       "      <th></th>\n",
       "      <th></th>\n",
       "    </tr>\n",
       "  </thead>\n",
       "  <tbody>\n",
       "    <tr>\n",
       "      <th>2</th>\n",
       "      <td>MX</td>\n",
       "      <td>Active</td>\n",
       "      <td>SYINCO</td>\n",
       "      <td>5</td>\n",
       "      <td>Sr. Consultant</td>\n",
       "      <td>Still Active</td>\n",
       "      <td>49</td>\n",
       "      <td>2</td>\n",
       "      <td>106.80</td>\n",
       "      <td>30.50</td>\n",
       "      <td>...</td>\n",
       "      <td>16.0</td>\n",
       "      <td>Activo</td>\n",
       "      <td>0.0</td>\n",
       "      <td>91.789248</td>\n",
       "      <td>2</td>\n",
       "      <td>Medium</td>\n",
       "      <td>0</td>\n",
       "      <td>No Employee info</td>\n",
       "      <td>8</td>\n",
       "      <td>1441</td>\n",
       "    </tr>\n",
       "    <tr>\n",
       "      <th>2</th>\n",
       "      <td>MX</td>\n",
       "      <td>Active</td>\n",
       "      <td>DEVELO</td>\n",
       "      <td>5</td>\n",
       "      <td>Sr. Consultant</td>\n",
       "      <td>Still Active</td>\n",
       "      <td>54</td>\n",
       "      <td>2</td>\n",
       "      <td>79.21</td>\n",
       "      <td>22.58</td>\n",
       "      <td>...</td>\n",
       "      <td>10.0</td>\n",
       "      <td>Activo</td>\n",
       "      <td>19.0</td>\n",
       "      <td>91.630000</td>\n",
       "      <td>2</td>\n",
       "      <td>Medium</td>\n",
       "      <td>0</td>\n",
       "      <td>No Employee info</td>\n",
       "      <td>3</td>\n",
       "      <td>1441</td>\n",
       "    </tr>\n",
       "    <tr>\n",
       "      <th>2</th>\n",
       "      <td>MX</td>\n",
       "      <td>Active</td>\n",
       "      <td>CONSUL</td>\n",
       "      <td>6</td>\n",
       "      <td>Manager / Master</td>\n",
       "      <td>Still Active</td>\n",
       "      <td>48</td>\n",
       "      <td>2</td>\n",
       "      <td>161.50</td>\n",
       "      <td>46.10</td>\n",
       "      <td>...</td>\n",
       "      <td>2.0</td>\n",
       "      <td>Activo</td>\n",
       "      <td>0.0</td>\n",
       "      <td>91.789248</td>\n",
       "      <td>0</td>\n",
       "      <td>High</td>\n",
       "      <td>0</td>\n",
       "      <td>No Employee info</td>\n",
       "      <td>2</td>\n",
       "      <td>1441</td>\n",
       "    </tr>\n",
       "    <tr>\n",
       "      <th>2</th>\n",
       "      <td>MX</td>\n",
       "      <td>Active</td>\n",
       "      <td>MNGSER</td>\n",
       "      <td>3</td>\n",
       "      <td>Experienced Consultant</td>\n",
       "      <td>Still Active</td>\n",
       "      <td>49</td>\n",
       "      <td>2</td>\n",
       "      <td>42.00</td>\n",
       "      <td>12.00</td>\n",
       "      <td>...</td>\n",
       "      <td>14.0</td>\n",
       "      <td>Activo</td>\n",
       "      <td>0.0</td>\n",
       "      <td>91.789248</td>\n",
       "      <td>2</td>\n",
       "      <td>Medium</td>\n",
       "      <td>0</td>\n",
       "      <td>No Employee info</td>\n",
       "      <td>4</td>\n",
       "      <td>1441</td>\n",
       "    </tr>\n",
       "    <tr>\n",
       "      <th>2</th>\n",
       "      <td>MX</td>\n",
       "      <td>Active</td>\n",
       "      <td>PROJCT</td>\n",
       "      <td>6</td>\n",
       "      <td>Manager / Master</td>\n",
       "      <td>Still Active</td>\n",
       "      <td>46</td>\n",
       "      <td>1</td>\n",
       "      <td>172.00</td>\n",
       "      <td>49.10</td>\n",
       "      <td>...</td>\n",
       "      <td>4.0</td>\n",
       "      <td>Activo</td>\n",
       "      <td>2.0</td>\n",
       "      <td>50.000000</td>\n",
       "      <td>2</td>\n",
       "      <td>Medium</td>\n",
       "      <td>1</td>\n",
       "      <td>RISING TALENT</td>\n",
       "      <td>5</td>\n",
       "      <td>1441</td>\n",
       "    </tr>\n",
       "  </tbody>\n",
       "</table>\n",
       "<p>5 rows × 60 columns</p>\n",
       "</div>"
      ],
      "text/plain": [
       "           Country Employee_Pay_ST   Track  Level_Cat                   Level  \\\n",
       "ID_Country                                                                      \n",
       "2               MX          Active  SYINCO          5          Sr. Consultant   \n",
       "2               MX          Active  DEVELO          5          Sr. Consultant   \n",
       "2               MX          Active  CONSUL          6        Manager / Master   \n",
       "2               MX          Active  MNGSER          3  Experienced Consultant   \n",
       "2               MX          Active  PROJCT          6        Manager / Master   \n",
       "\n",
       "           Termination_Reason  Edad  Marital_CD  SBR_AMT  SCR_AMT  ...  \\\n",
       "ID_Country                                                         ...   \n",
       "2                Still Active    49           2   106.80    30.50  ...   \n",
       "2                Still Active    54           2    79.21    22.58  ...   \n",
       "2                Still Active    48           2   161.50    46.10  ...   \n",
       "2                Still Active    49           2    42.00    12.00  ...   \n",
       "2                Still Active    46           1   172.00    49.10  ...   \n",
       "\n",
       "            Media_hora_curso  Estado  Total_number_received_Feedback  \\\n",
       "ID_Country                                                             \n",
       "2                       16.0  Activo                             0.0   \n",
       "2                       10.0  Activo                            19.0   \n",
       "2                        2.0  Activo                             0.0   \n",
       "2                       14.0  Activo                             0.0   \n",
       "2                        4.0  Activo                             2.0   \n",
       "\n",
       "            Performance_feedback_AVG  Performance_Level_CD Performance_Level  \\\n",
       "ID_Country                                                                     \n",
       "2                          91.789248                     2            Medium   \n",
       "2                          91.630000                     2            Medium   \n",
       "2                          91.789248                     0              High   \n",
       "2                          91.789248                     2            Medium   \n",
       "2                          50.000000                     2            Medium   \n",
       "\n",
       "            Potential_Level_CD   Potential_Level  Track_Code  \\\n",
       "ID_Country                                                     \n",
       "2                            0  No Employee info           8   \n",
       "2                            0  No Employee info           3   \n",
       "2                            0  No Employee info           2   \n",
       "2                            0  No Employee info           4   \n",
       "2                            1     RISING TALENT           5   \n",
       "\n",
       "            TotalNumberOfficeEmployees  \n",
       "ID_Country                              \n",
       "2                                 1441  \n",
       "2                                 1441  \n",
       "2                                 1441  \n",
       "2                                 1441  \n",
       "2                                 1441  \n",
       "\n",
       "[5 rows x 60 columns]"
      ]
     },
     "execution_count": 5,
     "metadata": {},
     "output_type": "execute_result"
    }
   ],
   "source": [
    "df.head()"
   ]
  },
  {
   "cell_type": "code",
   "execution_count": 6,
   "metadata": {},
   "outputs": [],
   "source": [
    "#df['Estado'] = df['Estado'].replace(['Inactivo','Activo'],[int(1),int(0)])\n",
    "df.loc[df['Termination_Reason'] == 'Still Active', 'Churn'] = 0\n",
    "df.loc[df['Termination_Reason'] != 'Still Active', 'Churn'] = 1\n"
   ]
  },
  {
   "cell_type": "markdown",
   "metadata": {},
   "source": [
    "### Filtramos todos los registros con Month_Worked <= 72"
   ]
  },
  {
   "cell_type": "code",
   "execution_count": 7,
   "metadata": {},
   "outputs": [
    {
     "data": {
      "text/plain": [
       "3429"
      ]
     },
     "execution_count": 7,
     "metadata": {},
     "output_type": "execute_result"
    }
   ],
   "source": [
    "df['Level'].count() # Conteo antes de limitar a 72 meses de antiguedad"
   ]
  },
  {
   "cell_type": "code",
   "execution_count": 8,
   "metadata": {},
   "outputs": [],
   "source": [
    "df = df[df['Months_Worked'] <= 72]"
   ]
  },
  {
   "cell_type": "code",
   "execution_count": 9,
   "metadata": {},
   "outputs": [
    {
     "data": {
      "text/plain": [
       "array([29, 38, 32, 27, 26, 28,  3, 35, 42, 40, 65, 49, 12, 55, 47, 46, 71,\n",
       "       34, 43, 21, 17, 51, 23, 60,  5, 64, 30, 48, 19, 67, 18, 37, 61, 10,\n",
       "       33, 39, 36, 63, 53, 20, 52, 72, 57, 69, 68, 41, 62, 16, 59, 58, 56,\n",
       "       54,  9, 11, 50, 45, 44, 15, 14, 25, 31, 24, 22,  4, 13,  8,  7,  6,\n",
       "        2,  1,  0, 66, 70], dtype=int64)"
      ]
     },
     "execution_count": 9,
     "metadata": {},
     "output_type": "execute_result"
    }
   ],
   "source": [
    "df['Months_Worked'].unique()"
   ]
  },
  {
   "cell_type": "markdown",
   "metadata": {},
   "source": [
    "### Clasificamos el universo en M=Managers y T=Technicals en la columna TypeEmployee"
   ]
  },
  {
   "cell_type": "code",
   "execution_count": 10,
   "metadata": {},
   "outputs": [
    {
     "data": {
      "text/plain": [
       "2760"
      ]
     },
     "execution_count": 10,
     "metadata": {},
     "output_type": "execute_result"
    }
   ],
   "source": [
    "df['Level'].count() # Conteo antes del análisis por tipo de empleado MANAGER o TECHNICAL"
   ]
  },
  {
   "cell_type": "code",
   "execution_count": 11,
   "metadata": {},
   "outputs": [
    {
     "data": {
      "text/plain": [
       "2627"
      ]
     },
     "execution_count": 11,
     "metadata": {},
     "output_type": "execute_result"
    }
   ],
   "source": [
    "TypeManager = ['Associate Director','Manager / Master','Sr. Manager / SME']\n",
    "TypeTechnical = ['Analyst','Consultant','Experienced Consultant','Project / Technical Lead','Sr. Consultant']\n",
    "df = df[df['Level'].isin(TypeTechnical)] # Cambiar la valiable para obtener un análisis diferente\n",
    "df['Level'].count()"
   ]
  },
  {
   "cell_type": "code",
   "execution_count": 12,
   "metadata": {},
   "outputs": [
    {
     "name": "stdout",
     "output_type": "stream",
     "text": [
      "<class 'pandas.core.frame.DataFrame'>\n",
      "Int64Index: 2627 entries, 2 to 16\n",
      "Data columns (total 61 columns):\n",
      " #   Column                          Non-Null Count  Dtype  \n",
      "---  ------                          --------------  -----  \n",
      " 0   Country                         2627 non-null   object \n",
      " 1   Employee_Pay_ST                 2627 non-null   object \n",
      " 2   Track                           2627 non-null   object \n",
      " 3   Level_Cat                       2627 non-null   int64  \n",
      " 4   Level                           2627 non-null   object \n",
      " 5   Termination_Reason              2627 non-null   object \n",
      " 6   Edad                            2627 non-null   int64  \n",
      " 7   Marital_CD                      2627 non-null   int64  \n",
      " 8   SBR_AMT                         2627 non-null   float64\n",
      " 9   SCR_AMT                         2627 non-null   float64\n",
      " 10  Region                          2562 non-null   float64\n",
      " 11  Office                          2627 non-null   int64  \n",
      " 12  Area                            2627 non-null   int64  \n",
      " 13  Division                        2627 non-null   int64  \n",
      " 14  Department_CD                   2627 non-null   int64  \n",
      " 15  Department                      2627 non-null   object \n",
      " 16  Billiability                    2627 non-null   int64  \n",
      " 17  Technology                      2627 non-null   int64  \n",
      " 18  Business_Unit                   2627 non-null   int64  \n",
      " 19  Std_Hrs_Week                    2627 non-null   float64\n",
      " 20  Prime_Skills_CD                 2627 non-null   int64  \n",
      " 21  Prime_Skills                    2627 non-null   object \n",
      " 22  2020                            2627 non-null   int64  \n",
      " 23  2019                            2627 non-null   int64  \n",
      " 24  Months_Worked                   2627 non-null   int64  \n",
      " 25  Level_Cat.1                     2627 non-null   int64  \n",
      " 26  Proportional_Days               2627 non-null   float64\n",
      " 27  Days_Taken                      2627 non-null   float64\n",
      " 28  Vacation_Ratio                  2627 non-null   float64\n",
      " 29  Number_Unique_Projects          2627 non-null   int64  \n",
      " 30  Number_Unique_Project_Type      2627 non-null   int64  \n",
      " 31  Abscence_Projects               2627 non-null   float64\n",
      " 32  Administrative_Functions        2627 non-null   float64\n",
      " 33  Awaiting_Projects               2627 non-null   float64\n",
      " 34  Billable_Projects               2627 non-null   float64\n",
      " 35  Corporate_Funded_Projects       2627 non-null   float64\n",
      " 36  Cost_Centers                    2627 non-null   float64\n",
      " 37  Indirect_Cost_Centers           2627 non-null   int64  \n",
      " 38  Internal_Investment_Projects    2627 non-null   float64\n",
      " 39  Internal_Programs               2627 non-null   float64\n",
      " 40  Proposals                       2627 non-null   float64\n",
      " 41  Proposals_General               2627 non-null   float64\n",
      " 42  Training_Programs               2627 non-null   float64\n",
      " 43  Increase_2018_2019              2627 non-null   float64\n",
      " 44  Increase_2019_2020              2627 non-null   float64\n",
      " 45  Bonus_2018                      2547 non-null   float64\n",
      " 46  Bonus_2019                      2547 non-null   float64\n",
      " 47  Course_Viewed                   2627 non-null   float64\n",
      " 48  Logs_Course_Viewed              2627 non-null   float64\n",
      " 49  Logs_Global_Campus              2627 non-null   float64\n",
      " 50  Media_hora_curso                2627 non-null   float64\n",
      " 51  Estado                          2547 non-null   object \n",
      " 52  Total_number_received_Feedback  2627 non-null   float64\n",
      " 53  Performance_feedback_AVG        2627 non-null   float64\n",
      " 54  Performance_Level_CD            2627 non-null   int64  \n",
      " 55  Performance_Level               2627 non-null   object \n",
      " 56  Potential_Level_CD              2627 non-null   int64  \n",
      " 57  Potential_Level                 2627 non-null   object \n",
      " 58  Track_Code                      2627 non-null   int64  \n",
      " 59  TotalNumberOfficeEmployees      2627 non-null   int64  \n",
      " 60  Churn                           2627 non-null   float64\n",
      "dtypes: float64(29), int64(22), object(10)\n",
      "memory usage: 1.2+ MB\n"
     ]
    }
   ],
   "source": [
    "df.info()"
   ]
  },
  {
   "cell_type": "code",
   "execution_count": 13,
   "metadata": {},
   "outputs": [
    {
     "data": {
      "text/plain": [
       "array([0., 1.])"
      ]
     },
     "execution_count": 13,
     "metadata": {},
     "output_type": "execute_result"
    }
   ],
   "source": [
    "df['Churn'].unique()"
   ]
  },
  {
   "cell_type": "code",
   "execution_count": 14,
   "metadata": {},
   "outputs": [
    {
     "name": "stdout",
     "output_type": "stream",
     "text": [
      "0.0    1740\n",
      "1.0     887\n",
      "Name: Churn, dtype: int64\n"
     ]
    }
   ],
   "source": [
    "item_counts = df[\"Churn\"].value_counts()\n",
    "print(item_counts)"
   ]
  },
  {
   "cell_type": "code",
   "execution_count": 15,
   "metadata": {},
   "outputs": [
    {
     "data": {
      "image/png": "[encoded data removed]",
      "text/plain": [
       "<Figure size 432x288 with 1 Axes>"
      ]
     },
     "metadata": {},
     "output_type": "display_data"
    }
   ],
   "source": [
    "churn_labels = 'Not Churned', 'Churned'\n",
    "plt.pie(item_counts, labels = churn_labels, autopct='%1.1f%%')\n",
    "plt.title('Churn Percentage')\n",
    "plt.axis('equal')\n",
    "plt.show()"
   ]
  },
  {
   "cell_type": "code",
   "execution_count": 16,
   "metadata": {},
   "outputs": [
    {
     "name": "stdout",
     "output_type": "stream",
     "text": [
      "Prime_Skills\n",
      ".NET DEVELOPER                                                        364\n",
      "ANGULAR                                                                48\n",
      "BUSINESS CONSULTANT (PMO + PROCESSES + CHANGE MGT + BUSINESS CASE)     52\n",
      "FINANCE                                                                 1\n",
      "FUNCTIONAL ANALYST                                                    134\n",
      "INFORMATICA POWERCENTER                                                24\n",
      "IT                                                                     61\n",
      "JAVA                                                                  335\n",
      "JIRA (ZEPHYR)                                                          70\n",
      "LINES OF SERVICES MANAGER                                               2\n",
      "MICROFOCUS QC/ALM                                                     125\n",
      "MICROSOFT DYNAMICS 365                                                 31\n",
      "ORACLE                                                                 47\n",
      "Other                                                                 733\n",
      "PHP                                                                    32\n",
      "PL SQL                                                                 35\n",
      "PMO                                                                    29\n",
      "PROJECT LEADER                                                         29\n",
      "PROJECT MANAGER                                                         9\n",
      "SALESFORCE                                                             29\n",
      "SAP                                                                   382\n",
      "TELCO                                                                  22\n",
      "USER EXPERIENCE DESIGNER (UX)                                          31\n",
      "VERTICAL MANAGER                                                        2\n",
      "Name: Churn, dtype: int64\n"
     ]
    }
   ],
   "source": [
    "print(df.groupby(\"Prime_Skills\")[\"Churn\"].count())"
   ]
  },
  {
   "cell_type": "code",
   "execution_count": 17,
   "metadata": {},
   "outputs": [
    {
     "name": "stdout",
     "output_type": "stream",
     "text": [
      "Prime_Skills\n",
      ".NET DEVELOPER                                                        138.0\n",
      "ANGULAR                                                                17.0\n",
      "BUSINESS CONSULTANT (PMO + PROCESSES + CHANGE MGT + BUSINESS CASE)     33.0\n",
      "FINANCE                                                                 0.0\n",
      "FUNCTIONAL ANALYST                                                     46.0\n",
      "INFORMATICA POWERCENTER                                                10.0\n",
      "IT                                                                     10.0\n",
      "JAVA                                                                  125.0\n",
      "JIRA (ZEPHYR)                                                          15.0\n",
      "LINES OF SERVICES MANAGER                                               0.0\n",
      "MICROFOCUS QC/ALM                                                      66.0\n",
      "MICROSOFT DYNAMICS 365                                                  8.0\n",
      "ORACLE                                                                 20.0\n",
      "Other                                                                 207.0\n",
      "PHP                                                                    12.0\n",
      "PL SQL                                                                 10.0\n",
      "PMO                                                                    15.0\n",
      "PROJECT LEADER                                                         12.0\n",
      "PROJECT MANAGER                                                         5.0\n",
      "SALESFORCE                                                             17.0\n",
      "SAP                                                                   105.0\n",
      "TELCO                                                                   6.0\n",
      "USER EXPERIENCE DESIGNER (UX)                                          10.0\n",
      "VERTICAL MANAGER                                                        0.0\n",
      "Name: Churn, dtype: float64\n"
     ]
    }
   ],
   "source": [
    "print(df.groupby(\"Prime_Skills\")[\"Churn\"].sum())"
   ]
  },
  {
   "cell_type": "code",
   "execution_count": 18,
   "metadata": {},
   "outputs": [
    {
     "name": "stdout",
     "output_type": "stream",
     "text": [
      "Track\n",
      "ARCHTC      25\n",
      "CONSUL     262\n",
      "DEVELO    1581\n",
      "MNGSER     227\n",
      "PROJCT      31\n",
      "SERMGT      17\n",
      "SUPPOR       3\n",
      "SYINCO     481\n",
      "Name: Churn, dtype: int64\n"
     ]
    }
   ],
   "source": [
    "print(df.groupby(\"Track\")[\"Churn\"].count())"
   ]
  },
  {
   "cell_type": "code",
   "execution_count": 19,
   "metadata": {},
   "outputs": [
    {
     "name": "stdout",
     "output_type": "stream",
     "text": [
      "Track\n",
      "ARCHTC      4.0\n",
      "CONSUL    101.0\n",
      "DEVELO    566.0\n",
      "MNGSER     50.0\n",
      "PROJCT     10.0\n",
      "SERMGT      3.0\n",
      "SUPPOR      1.0\n",
      "SYINCO    152.0\n",
      "Name: Churn, dtype: float64\n"
     ]
    }
   ],
   "source": [
    "print(df.groupby(\"Track\")[\"Churn\"].sum())"
   ]
  },
  {
   "cell_type": "code",
   "execution_count": null,
   "metadata": {},
   "outputs": [],
   "source": [
    "print(df.groupby(\"Termination_Reason\")[\"Churn\"].count())"
   ]
  },
  {
   "cell_type": "code",
   "execution_count": null,
   "metadata": {},
   "outputs": [],
   "source": [
    "print(df.groupby(\"Country\")[\"Churn\"].count())"
   ]
  },
  {
   "cell_type": "code",
   "execution_count": null,
   "metadata": {},
   "outputs": [],
   "source": [
    "print(df.groupby(\"Country\")[\"Churn\"].sum())"
   ]
  },
  {
   "cell_type": "code",
   "execution_count": null,
   "metadata": {},
   "outputs": [],
   "source": [
    "print(df.groupby(\"Months_Worked\")[\"Churn\"].count())"
   ]
  },
  {
   "cell_type": "code",
   "execution_count": null,
   "metadata": {},
   "outputs": [],
   "source": [
    "print(df.groupby(\"Months_Worked\")[\"Churn\"].sum())"
   ]
  },
  {
   "cell_type": "code",
   "execution_count": null,
   "metadata": {},
   "outputs": [],
   "source": [
    "df_by_month = df.groupby(\"Months_Worked\")[\"Churn\"].sum()"
   ]
  },
  {
   "cell_type": "code",
   "execution_count": null,
   "metadata": {},
   "outputs": [],
   "source": [
    "df_by_month.plot()"
   ]
  },
  {
   "cell_type": "code",
   "execution_count": null,
   "metadata": {},
   "outputs": [],
   "source": [
    "df_by_age = df.groupby(\"Edad\")[\"Churn\"].sum()"
   ]
  },
  {
   "cell_type": "code",
   "execution_count": null,
   "metadata": {},
   "outputs": [],
   "source": [
    "df_by_age.plot()"
   ]
  },
  {
   "cell_type": "code",
   "execution_count": null,
   "metadata": {},
   "outputs": [],
   "source": [
    "print(df.groupby(\"Department\")[\"Churn\"].count())"
   ]
  },
  {
   "cell_type": "code",
   "execution_count": null,
   "metadata": {},
   "outputs": [],
   "source": [
    "print(df.groupby(\"Department\")[\"Churn\"].sum())"
   ]
  },
  {
   "cell_type": "code",
   "execution_count": null,
   "metadata": {},
   "outputs": [],
   "source": [
    "print(df.groupby(\"Increase_2018_2019\")[\"Churn\"].count())"
   ]
  },
  {
   "cell_type": "code",
   "execution_count": null,
   "metadata": {},
   "outputs": [],
   "source": [
    "print(df.groupby(\"Increase_2018_2019\")[\"Churn\"].sum())"
   ]
  },
  {
   "cell_type": "code",
   "execution_count": null,
   "metadata": {},
   "outputs": [],
   "source": [
    "df_by_incr1 = df.groupby(\"Increase_2018_2019\")[\"Churn\"].sum()\n",
    "df_by_incr1.plot()"
   ]
  },
  {
   "cell_type": "code",
   "execution_count": null,
   "metadata": {},
   "outputs": [],
   "source": [
    "print(df.groupby(\"Increase_2019_2020\")[\"Churn\"].sum())"
   ]
  },
  {
   "cell_type": "code",
   "execution_count": null,
   "metadata": {},
   "outputs": [],
   "source": [
    "df_by_incr2 = df.groupby(\"Increase_2019_2020\")[\"Churn\"].sum()\n",
    "df_by_incr2.plot()"
   ]
  },
  {
   "cell_type": "code",
   "execution_count": null,
   "metadata": {},
   "outputs": [],
   "source": [
    "df_by_vacation = df.groupby(\"Vacation_Ratio\")[\"Churn\"].sum()\n",
    "df_by_vacation.plot()"
   ]
  },
  {
   "cell_type": "code",
   "execution_count": null,
   "metadata": {},
   "outputs": [],
   "source": [
    "print(df.groupby(\"Marital_ST\")[\"Churn\"].count())"
   ]
  },
  {
   "cell_type": "code",
   "execution_count": null,
   "metadata": {},
   "outputs": [],
   "source": [
    "print(df.groupby(\"Marital_ST\")[\"Churn\"].sum())"
   ]
  },
  {
   "cell_type": "code",
   "execution_count": null,
   "metadata": {},
   "outputs": [],
   "source": [
    "print(df.groupby(\"Gender\")[\"Churn\"].count())"
   ]
  },
  {
   "cell_type": "code",
   "execution_count": null,
   "metadata": {},
   "outputs": [],
   "source": [
    "print(df.groupby(\"Gender\")[\"Churn\"].sum())"
   ]
  },
  {
   "cell_type": "code",
   "execution_count": null,
   "metadata": {},
   "outputs": [],
   "source": [
    "print(df.groupby(\"Level\")[\"Churn\"].count())"
   ]
  },
  {
   "cell_type": "code",
   "execution_count": null,
   "metadata": {},
   "outputs": [],
   "source": [
    "print(df.groupby(\"Level\")[\"Churn\"].sum())"
   ]
  },
  {
   "cell_type": "code",
   "execution_count": null,
   "metadata": {},
   "outputs": [],
   "source": []
  }
 ],
 "metadata": {
  "kernelspec": {
   "display_name": "Python 3",
   "language": "python",
   "name": "python3"
  },
  "language_info": {
   "codemirror_mode": {
    "name": "ipython",
    "version": 3
   },
   "file_extension": ".py",
   "mimetype": "text/x-python",
   "name": "python",
   "nbconvert_exporter": "python",
   "pygments_lexer": "ipython3",
   "version": "3.8.3"
  }
 },
 "nbformat": 4,
 "nbformat_minor": 4
}
