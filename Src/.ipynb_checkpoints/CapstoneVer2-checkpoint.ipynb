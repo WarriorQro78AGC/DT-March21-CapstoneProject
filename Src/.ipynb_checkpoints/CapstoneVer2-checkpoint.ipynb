{
 "cells": [
  {
   "cell_type": "markdown",
   "metadata": {},
   "source": [
    "Package Installation"
   ]
  },
  {
   "cell_type": "code",
   "execution_count": 1,
   "metadata": {},
   "outputs": [],
   "source": [
    "#!pip install src\n",
    "#!pip install lifelines"
   ]
  },
  {
   "cell_type": "markdown",
   "metadata": {},
   "source": [
    "Load packages to use"
   ]
  },
  {
   "cell_type": "code",
   "execution_count": 2,
   "metadata": {},
   "outputs": [],
   "source": [
    "# load packages\n",
    "import numpy as np\n",
    "import pandas as pd\n",
    "import matplotlib.pyplot as plt\n",
    "%matplotlib inline\n",
    "plt.style.use(\"ggplot\")\n",
    "\n",
    "import seaborn as sns\n",
    "import statsmodels.api as sm # give you lots of stat\n",
    "\n",
    "from sklearn.datasets import make_classification\n",
    "from sklearn.linear_model import LogisticRegression\n",
    "from sklearn.model_selection import KFold, train_test_split\n",
    "from sklearn.metrics import accuracy_score, precision_score, recall_score\n",
    "import lifelines\n",
    "from datetime import date\n",
    "from sklearn.tree import DecisionTreeClassifier"
   ]
  },
  {
   "cell_type": "markdown",
   "metadata": {},
   "source": [
    "Load raw Dataset"
   ]
  },
  {
   "cell_type": "code",
   "execution_count": 3,
   "metadata": {},
   "outputs": [
    {
     "data": {
      "text/html": [
       "<div>\n",
       "<style scoped>\n",
       "    .dataframe tbody tr th:only-of-type {\n",
       "        vertical-align: middle;\n",
       "    }\n",
       "\n",
       "    .dataframe tbody tr th {\n",
       "        vertical-align: top;\n",
       "    }\n",
       "\n",
       "    .dataframe thead th {\n",
       "        text-align: right;\n",
       "    }\n",
       "</style>\n",
       "<table border=\"1\" class=\"dataframe\">\n",
       "  <thead>\n",
       "    <tr style=\"text-align: right;\">\n",
       "      <th></th>\n",
       "      <th>ID_Country</th>\n",
       "      <th>Country</th>\n",
       "      <th>Employee_Pay_ST</th>\n",
       "      <th>Track</th>\n",
       "      <th>Level_Cat</th>\n",
       "      <th>Level</th>\n",
       "      <th>Effective_Start_DT</th>\n",
       "      <th>Effective_Ending_DT</th>\n",
       "      <th>Termination_Reason</th>\n",
       "      <th>Birth_DT</th>\n",
       "      <th>...</th>\n",
       "      <th>Media_hora_curso</th>\n",
       "      <th>Estado</th>\n",
       "      <th>Total_number_received_Feedback</th>\n",
       "      <th>Performance_feedback_AVG</th>\n",
       "      <th>Performance_Level_CD</th>\n",
       "      <th>Performance_Level</th>\n",
       "      <th>Potential_Level_CD</th>\n",
       "      <th>Potential_Level</th>\n",
       "      <th>Track_Code</th>\n",
       "      <th>TotalNumberOfficeEmployees</th>\n",
       "    </tr>\n",
       "  </thead>\n",
       "  <tbody>\n",
       "    <tr>\n",
       "      <th>0</th>\n",
       "      <td>2</td>\n",
       "      <td>MX</td>\n",
       "      <td>Active</td>\n",
       "      <td>SYINCO</td>\n",
       "      <td>5</td>\n",
       "      <td>Sr. Consultant</td>\n",
       "      <td>12/01/2001</td>\n",
       "      <td>1/29/2021</td>\n",
       "      <td>Still Active</td>\n",
       "      <td>16/09/1971</td>\n",
       "      <td>...</td>\n",
       "      <td>16.0</td>\n",
       "      <td>Activo</td>\n",
       "      <td>0.0</td>\n",
       "      <td>91.789248</td>\n",
       "      <td>2</td>\n",
       "      <td>Medium</td>\n",
       "      <td>0</td>\n",
       "      <td>No Employee info</td>\n",
       "      <td>8</td>\n",
       "      <td>1441</td>\n",
       "    </tr>\n",
       "    <tr>\n",
       "      <th>1</th>\n",
       "      <td>2</td>\n",
       "      <td>MX</td>\n",
       "      <td>Active</td>\n",
       "      <td>DEVELO</td>\n",
       "      <td>5</td>\n",
       "      <td>Sr. Consultant</td>\n",
       "      <td>8/23/2018</td>\n",
       "      <td>1/29/2021</td>\n",
       "      <td>Still Active</td>\n",
       "      <td>10/10/1966</td>\n",
       "      <td>...</td>\n",
       "      <td>10.0</td>\n",
       "      <td>Activo</td>\n",
       "      <td>19.0</td>\n",
       "      <td>91.630000</td>\n",
       "      <td>2</td>\n",
       "      <td>Medium</td>\n",
       "      <td>0</td>\n",
       "      <td>No Employee info</td>\n",
       "      <td>3</td>\n",
       "      <td>1441</td>\n",
       "    </tr>\n",
       "    <tr>\n",
       "      <th>2</th>\n",
       "      <td>2</td>\n",
       "      <td>MX</td>\n",
       "      <td>Active</td>\n",
       "      <td>CONSUL</td>\n",
       "      <td>6</td>\n",
       "      <td>Manager / Master</td>\n",
       "      <td>08/01/2009</td>\n",
       "      <td>1/29/2021</td>\n",
       "      <td>Still Active</td>\n",
       "      <td>03/09/1972</td>\n",
       "      <td>...</td>\n",
       "      <td>2.0</td>\n",
       "      <td>Activo</td>\n",
       "      <td>0.0</td>\n",
       "      <td>91.789248</td>\n",
       "      <td>0</td>\n",
       "      <td>High</td>\n",
       "      <td>0</td>\n",
       "      <td>No Employee info</td>\n",
       "      <td>2</td>\n",
       "      <td>1441</td>\n",
       "    </tr>\n",
       "    <tr>\n",
       "      <th>3</th>\n",
       "      <td>2</td>\n",
       "      <td>MX</td>\n",
       "      <td>Active</td>\n",
       "      <td>MNGSER</td>\n",
       "      <td>3</td>\n",
       "      <td>Experienced Consultant</td>\n",
       "      <td>11/16/2017</td>\n",
       "      <td>1/29/2021</td>\n",
       "      <td>Still Active</td>\n",
       "      <td>22/11/1970</td>\n",
       "      <td>...</td>\n",
       "      <td>14.0</td>\n",
       "      <td>Activo</td>\n",
       "      <td>0.0</td>\n",
       "      <td>91.789248</td>\n",
       "      <td>2</td>\n",
       "      <td>Medium</td>\n",
       "      <td>0</td>\n",
       "      <td>No Employee info</td>\n",
       "      <td>4</td>\n",
       "      <td>1441</td>\n",
       "    </tr>\n",
       "    <tr>\n",
       "      <th>4</th>\n",
       "      <td>2</td>\n",
       "      <td>MX</td>\n",
       "      <td>Active</td>\n",
       "      <td>PROJCT</td>\n",
       "      <td>6</td>\n",
       "      <td>Manager / Master</td>\n",
       "      <td>10/01/1995</td>\n",
       "      <td>1/29/2021</td>\n",
       "      <td>Still Active</td>\n",
       "      <td>25/06/1974</td>\n",
       "      <td>...</td>\n",
       "      <td>4.0</td>\n",
       "      <td>Activo</td>\n",
       "      <td>2.0</td>\n",
       "      <td>50.000000</td>\n",
       "      <td>2</td>\n",
       "      <td>Medium</td>\n",
       "      <td>1</td>\n",
       "      <td>RISING TALENT</td>\n",
       "      <td>5</td>\n",
       "      <td>1441</td>\n",
       "    </tr>\n",
       "  </tbody>\n",
       "</table>\n",
       "<p>5 rows × 66 columns</p>\n",
       "</div>"
      ],
      "text/plain": [
       "   ID_Country Country Employee_Pay_ST   Track  Level_Cat  \\\n",
       "0           2      MX          Active  SYINCO          5   \n",
       "1           2      MX          Active  DEVELO          5   \n",
       "2           2      MX          Active  CONSUL          6   \n",
       "3           2      MX          Active  MNGSER          3   \n",
       "4           2      MX          Active  PROJCT          6   \n",
       "\n",
       "                    Level Effective_Start_DT Effective_Ending_DT  \\\n",
       "0          Sr. Consultant         12/01/2001           1/29/2021   \n",
       "1          Sr. Consultant          8/23/2018           1/29/2021   \n",
       "2        Manager / Master         08/01/2009           1/29/2021   \n",
       "3  Experienced Consultant         11/16/2017           1/29/2021   \n",
       "4        Manager / Master         10/01/1995           1/29/2021   \n",
       "\n",
       "  Termination_Reason    Birth_DT  ...  Media_hora_curso  Estado  \\\n",
       "0       Still Active  16/09/1971  ...              16.0  Activo   \n",
       "1       Still Active  10/10/1966  ...              10.0  Activo   \n",
       "2       Still Active  03/09/1972  ...               2.0  Activo   \n",
       "3       Still Active  22/11/1970  ...              14.0  Activo   \n",
       "4       Still Active  25/06/1974  ...               4.0  Activo   \n",
       "\n",
       "  Total_number_received_Feedback  Performance_feedback_AVG  \\\n",
       "0                            0.0                 91.789248   \n",
       "1                           19.0                 91.630000   \n",
       "2                            0.0                 91.789248   \n",
       "3                            0.0                 91.789248   \n",
       "4                            2.0                 50.000000   \n",
       "\n",
       "   Performance_Level_CD  Performance_Level  Potential_Level_CD  \\\n",
       "0                     2             Medium                   0   \n",
       "1                     2             Medium                   0   \n",
       "2                     0               High                   0   \n",
       "3                     2             Medium                   0   \n",
       "4                     2             Medium                   1   \n",
       "\n",
       "    Potential_Level  Track_Code  TotalNumberOfficeEmployees  \n",
       "0  No Employee info           8                        1441  \n",
       "1  No Employee info           3                        1441  \n",
       "2  No Employee info           2                        1441  \n",
       "3  No Employee info           4                        1441  \n",
       "4     RISING TALENT           5                        1441  \n",
       "\n",
       "[5 rows x 66 columns]"
      ]
     },
     "execution_count": 3,
     "metadata": {},
     "output_type": "execute_result"
    }
   ],
   "source": [
    "df = pd.read_csv('../Data/data_churn_model.csv')\n",
    "df.head()"
   ]
  },
  {
   "cell_type": "markdown",
   "metadata": {},
   "source": [
    "### Discard non-meaningful features for the analysis\n",
    "\n",
    "##### 1)  Gender\n",
    "##### 2)  Effective Start Date\n",
    "##### 3)  Effectivo Ending Date\n",
    "##### 4)  Marital_ST\n",
    "##### 5)  DateOfBirth\n",
    "##### 6)  Proportional_Days\n",
    "##### 7)  Days_Taken\n",
    "##### 8)  2019\n",
    "##### 9)  2020"
   ]
  },
  {
   "cell_type": "code",
   "execution_count": 4,
   "metadata": {},
   "outputs": [],
   "source": [
    "DropColumns = ['Gender','Effective_Start_DT','Effective_Ending_DT','Marital_ST','Birth_DT','Proportional_Days','Days_Taken','2019','2020']\n",
    "df.drop(DropColumns, axis=1, inplace=True)"
   ]
  },
  {
   "cell_type": "code",
   "execution_count": 5,
   "metadata": {},
   "outputs": [
    {
     "data": {
      "text/html": [
       "<div>\n",
       "<style scoped>\n",
       "    .dataframe tbody tr th:only-of-type {\n",
       "        vertical-align: middle;\n",
       "    }\n",
       "\n",
       "    .dataframe tbody tr th {\n",
       "        vertical-align: top;\n",
       "    }\n",
       "\n",
       "    .dataframe thead th {\n",
       "        text-align: right;\n",
       "    }\n",
       "</style>\n",
       "<table border=\"1\" class=\"dataframe\">\n",
       "  <thead>\n",
       "    <tr style=\"text-align: right;\">\n",
       "      <th></th>\n",
       "      <th>ID_Country</th>\n",
       "      <th>Country</th>\n",
       "      <th>Employee_Pay_ST</th>\n",
       "      <th>Track</th>\n",
       "      <th>Level_Cat</th>\n",
       "      <th>Level</th>\n",
       "      <th>Termination_Reason</th>\n",
       "      <th>Edad</th>\n",
       "      <th>Marital_CD</th>\n",
       "      <th>SBR_AMT</th>\n",
       "      <th>...</th>\n",
       "      <th>Media_hora_curso</th>\n",
       "      <th>Estado</th>\n",
       "      <th>Total_number_received_Feedback</th>\n",
       "      <th>Performance_feedback_AVG</th>\n",
       "      <th>Performance_Level_CD</th>\n",
       "      <th>Performance_Level</th>\n",
       "      <th>Potential_Level_CD</th>\n",
       "      <th>Potential_Level</th>\n",
       "      <th>Track_Code</th>\n",
       "      <th>TotalNumberOfficeEmployees</th>\n",
       "    </tr>\n",
       "  </thead>\n",
       "  <tbody>\n",
       "    <tr>\n",
       "      <th>0</th>\n",
       "      <td>2</td>\n",
       "      <td>MX</td>\n",
       "      <td>Active</td>\n",
       "      <td>SYINCO</td>\n",
       "      <td>5</td>\n",
       "      <td>Sr. Consultant</td>\n",
       "      <td>Still Active</td>\n",
       "      <td>49</td>\n",
       "      <td>2</td>\n",
       "      <td>106.80</td>\n",
       "      <td>...</td>\n",
       "      <td>16.0</td>\n",
       "      <td>Activo</td>\n",
       "      <td>0.0</td>\n",
       "      <td>91.789248</td>\n",
       "      <td>2</td>\n",
       "      <td>Medium</td>\n",
       "      <td>0</td>\n",
       "      <td>No Employee info</td>\n",
       "      <td>8</td>\n",
       "      <td>1441</td>\n",
       "    </tr>\n",
       "    <tr>\n",
       "      <th>1</th>\n",
       "      <td>2</td>\n",
       "      <td>MX</td>\n",
       "      <td>Active</td>\n",
       "      <td>DEVELO</td>\n",
       "      <td>5</td>\n",
       "      <td>Sr. Consultant</td>\n",
       "      <td>Still Active</td>\n",
       "      <td>54</td>\n",
       "      <td>2</td>\n",
       "      <td>79.21</td>\n",
       "      <td>...</td>\n",
       "      <td>10.0</td>\n",
       "      <td>Activo</td>\n",
       "      <td>19.0</td>\n",
       "      <td>91.630000</td>\n",
       "      <td>2</td>\n",
       "      <td>Medium</td>\n",
       "      <td>0</td>\n",
       "      <td>No Employee info</td>\n",
       "      <td>3</td>\n",
       "      <td>1441</td>\n",
       "    </tr>\n",
       "    <tr>\n",
       "      <th>2</th>\n",
       "      <td>2</td>\n",
       "      <td>MX</td>\n",
       "      <td>Active</td>\n",
       "      <td>CONSUL</td>\n",
       "      <td>6</td>\n",
       "      <td>Manager / Master</td>\n",
       "      <td>Still Active</td>\n",
       "      <td>48</td>\n",
       "      <td>2</td>\n",
       "      <td>161.50</td>\n",
       "      <td>...</td>\n",
       "      <td>2.0</td>\n",
       "      <td>Activo</td>\n",
       "      <td>0.0</td>\n",
       "      <td>91.789248</td>\n",
       "      <td>0</td>\n",
       "      <td>High</td>\n",
       "      <td>0</td>\n",
       "      <td>No Employee info</td>\n",
       "      <td>2</td>\n",
       "      <td>1441</td>\n",
       "    </tr>\n",
       "    <tr>\n",
       "      <th>3</th>\n",
       "      <td>2</td>\n",
       "      <td>MX</td>\n",
       "      <td>Active</td>\n",
       "      <td>MNGSER</td>\n",
       "      <td>3</td>\n",
       "      <td>Experienced Consultant</td>\n",
       "      <td>Still Active</td>\n",
       "      <td>49</td>\n",
       "      <td>2</td>\n",
       "      <td>42.00</td>\n",
       "      <td>...</td>\n",
       "      <td>14.0</td>\n",
       "      <td>Activo</td>\n",
       "      <td>0.0</td>\n",
       "      <td>91.789248</td>\n",
       "      <td>2</td>\n",
       "      <td>Medium</td>\n",
       "      <td>0</td>\n",
       "      <td>No Employee info</td>\n",
       "      <td>4</td>\n",
       "      <td>1441</td>\n",
       "    </tr>\n",
       "    <tr>\n",
       "      <th>4</th>\n",
       "      <td>2</td>\n",
       "      <td>MX</td>\n",
       "      <td>Active</td>\n",
       "      <td>PROJCT</td>\n",
       "      <td>6</td>\n",
       "      <td>Manager / Master</td>\n",
       "      <td>Still Active</td>\n",
       "      <td>46</td>\n",
       "      <td>1</td>\n",
       "      <td>172.00</td>\n",
       "      <td>...</td>\n",
       "      <td>4.0</td>\n",
       "      <td>Activo</td>\n",
       "      <td>2.0</td>\n",
       "      <td>50.000000</td>\n",
       "      <td>2</td>\n",
       "      <td>Medium</td>\n",
       "      <td>1</td>\n",
       "      <td>RISING TALENT</td>\n",
       "      <td>5</td>\n",
       "      <td>1441</td>\n",
       "    </tr>\n",
       "  </tbody>\n",
       "</table>\n",
       "<p>5 rows × 57 columns</p>\n",
       "</div>"
      ],
      "text/plain": [
       "   ID_Country Country Employee_Pay_ST   Track  Level_Cat  \\\n",
       "0           2      MX          Active  SYINCO          5   \n",
       "1           2      MX          Active  DEVELO          5   \n",
       "2           2      MX          Active  CONSUL          6   \n",
       "3           2      MX          Active  MNGSER          3   \n",
       "4           2      MX          Active  PROJCT          6   \n",
       "\n",
       "                    Level Termination_Reason  Edad  Marital_CD  SBR_AMT  ...  \\\n",
       "0          Sr. Consultant       Still Active    49           2   106.80  ...   \n",
       "1          Sr. Consultant       Still Active    54           2    79.21  ...   \n",
       "2        Manager / Master       Still Active    48           2   161.50  ...   \n",
       "3  Experienced Consultant       Still Active    49           2    42.00  ...   \n",
       "4        Manager / Master       Still Active    46           1   172.00  ...   \n",
       "\n",
       "   Media_hora_curso  Estado  Total_number_received_Feedback  \\\n",
       "0              16.0  Activo                             0.0   \n",
       "1              10.0  Activo                            19.0   \n",
       "2               2.0  Activo                             0.0   \n",
       "3              14.0  Activo                             0.0   \n",
       "4               4.0  Activo                             2.0   \n",
       "\n",
       "   Performance_feedback_AVG  Performance_Level_CD  Performance_Level  \\\n",
       "0                 91.789248                     2             Medium   \n",
       "1                 91.630000                     2             Medium   \n",
       "2                 91.789248                     0               High   \n",
       "3                 91.789248                     2             Medium   \n",
       "4                 50.000000                     2             Medium   \n",
       "\n",
       "  Potential_Level_CD   Potential_Level  Track_Code  TotalNumberOfficeEmployees  \n",
       "0                  0  No Employee info           8                        1441  \n",
       "1                  0  No Employee info           3                        1441  \n",
       "2                  0  No Employee info           2                        1441  \n",
       "3                  0  No Employee info           4                        1441  \n",
       "4                  1     RISING TALENT           5                        1441  \n",
       "\n",
       "[5 rows x 57 columns]"
      ]
     },
     "execution_count": 5,
     "metadata": {},
     "output_type": "execute_result"
    }
   ],
   "source": [
    "df.head()"
   ]
  },
  {
   "cell_type": "code",
   "execution_count": 6,
   "metadata": {},
   "outputs": [],
   "source": [
    "#df['Estado'] = df['Estado'].replace(['Inactivo','Activo'],[int(1),int(0)])\n",
    "df.loc[df['Termination_Reason'] == 'Still Active', 'Churn'] = 0\n",
    "df.loc[df['Termination_Reason'] != 'Still Active', 'Churn'] = 1\n"
   ]
  },
  {
   "cell_type": "markdown",
   "metadata": {},
   "source": [
    "### Filter all the records with Months Worked <= 72"
   ]
  },
  {
   "cell_type": "code",
   "execution_count": 7,
   "metadata": {},
   "outputs": [
    {
     "data": {
      "text/plain": [
       "3429"
      ]
     },
     "execution_count": 7,
     "metadata": {},
     "output_type": "execute_result"
    }
   ],
   "source": [
    "df['Level'].count() # Conteo antes de limitar a 72 meses de antiguedad"
   ]
  },
  {
   "cell_type": "code",
   "execution_count": 8,
   "metadata": {},
   "outputs": [],
   "source": [
    "df = df[df['Months_Worked'] <= 72]"
   ]
  },
  {
   "cell_type": "code",
   "execution_count": 9,
   "metadata": {},
   "outputs": [
    {
     "data": {
      "text/plain": [
       "array([29, 38, 32, 27, 26, 28,  3, 35, 42, 40, 65, 49, 12, 55, 47, 46, 71,\n",
       "       34, 43, 21, 17, 51, 23, 60,  5, 64, 30, 48, 19, 67, 18, 37, 61, 10,\n",
       "       33, 39, 36, 63, 53, 20, 52, 72, 57, 69, 68, 41, 62, 16, 59, 58, 56,\n",
       "       54,  9, 11, 50, 45, 44, 15, 14, 25, 31, 24, 22,  4, 13,  8,  7,  6,\n",
       "        2,  1,  0, 66, 70], dtype=int64)"
      ]
     },
     "execution_count": 9,
     "metadata": {},
     "output_type": "execute_result"
    }
   ],
   "source": [
    "df['Months_Worked'].unique()"
   ]
  },
  {
   "cell_type": "markdown",
   "metadata": {},
   "source": [
    "### Classify the Level with values M=Managers and T=Technicals in new column TypeEmployee"
   ]
  },
  {
   "cell_type": "code",
   "execution_count": 10,
   "metadata": {},
   "outputs": [
    {
     "data": {
      "text/plain": [
       "2760"
      ]
     },
     "execution_count": 10,
     "metadata": {},
     "output_type": "execute_result"
    }
   ],
   "source": [
    "df['Level'].count() # Count before the analysis by type of employee MANAGER or TECHNICAL\n"
   ]
  },
  {
   "cell_type": "code",
   "execution_count": 11,
   "metadata": {},
   "outputs": [
    {
     "data": {
      "text/plain": [
       "2627"
      ]
     },
     "execution_count": 11,
     "metadata": {},
     "output_type": "execute_result"
    }
   ],
   "source": [
    "TypeManager = ['Associate Director','Manager / Master','Sr. Manager / SME']\n",
    "TypeTechnical = ['Analyst','Consultant','Experienced Consultant','Project / Technical Lead','Sr. Consultant']\n",
    "df = df[df['Level'].isin(TypeTechnical)] # Change the variable to obtain a different analysis\n",
    "df['Level'].count()\n"
   ]
  },
  {
   "cell_type": "code",
   "execution_count": 12,
   "metadata": {},
   "outputs": [
    {
     "name": "stdout",
     "output_type": "stream",
     "text": [
      "<class 'pandas.core.frame.DataFrame'>\n",
      "Int64Index: 2627 entries, 1 to 3428\n",
      "Data columns (total 58 columns):\n",
      " #   Column                          Non-Null Count  Dtype  \n",
      "---  ------                          --------------  -----  \n",
      " 0   ID_Country                      2627 non-null   int64  \n",
      " 1   Country                         2627 non-null   object \n",
      " 2   Employee_Pay_ST                 2627 non-null   object \n",
      " 3   Track                           2627 non-null   object \n",
      " 4   Level_Cat                       2627 non-null   int64  \n",
      " 5   Level                           2627 non-null   object \n",
      " 6   Termination_Reason              2627 non-null   object \n",
      " 7   Edad                            2627 non-null   int64  \n",
      " 8   Marital_CD                      2627 non-null   int64  \n",
      " 9   SBR_AMT                         2627 non-null   float64\n",
      " 10  SCR_AMT                         2627 non-null   float64\n",
      " 11  Region                          2562 non-null   float64\n",
      " 12  Office                          2627 non-null   int64  \n",
      " 13  Area                            2627 non-null   int64  \n",
      " 14  Division                        2627 non-null   int64  \n",
      " 15  Department_CD                   2627 non-null   int64  \n",
      " 16  Department                      2627 non-null   object \n",
      " 17  Billiability                    2627 non-null   int64  \n",
      " 18  Technology                      2627 non-null   int64  \n",
      " 19  Business_Unit                   2627 non-null   int64  \n",
      " 20  Std_Hrs_Week                    2627 non-null   float64\n",
      " 21  Prime_Skills_CD                 2627 non-null   int64  \n",
      " 22  Prime_Skills                    2627 non-null   object \n",
      " 23  Months_Worked                   2627 non-null   int64  \n",
      " 24  Level_Cat.1                     2627 non-null   int64  \n",
      " 25  Vacation_Ratio                  2627 non-null   float64\n",
      " 26  Number_Unique_Projects          2627 non-null   int64  \n",
      " 27  Number_Unique_Project_Type      2627 non-null   int64  \n",
      " 28  Abscence_Projects               2627 non-null   float64\n",
      " 29  Administrative_Functions        2627 non-null   float64\n",
      " 30  Awaiting_Projects               2627 non-null   float64\n",
      " 31  Billable_Projects               2627 non-null   float64\n",
      " 32  Corporate_Funded_Projects       2627 non-null   float64\n",
      " 33  Cost_Centers                    2627 non-null   float64\n",
      " 34  Indirect_Cost_Centers           2627 non-null   int64  \n",
      " 35  Internal_Investment_Projects    2627 non-null   float64\n",
      " 36  Internal_Programs               2627 non-null   float64\n",
      " 37  Proposals                       2627 non-null   float64\n",
      " 38  Proposals_General               2627 non-null   float64\n",
      " 39  Training_Programs               2627 non-null   float64\n",
      " 40  Increase_2018_2019              2627 non-null   float64\n",
      " 41  Increase_2019_2020              2627 non-null   float64\n",
      " 42  Bonus_2018                      2547 non-null   float64\n",
      " 43  Bonus_2019                      2547 non-null   float64\n",
      " 44  Course_Viewed                   2627 non-null   float64\n",
      " 45  Logs_Course_Viewed              2627 non-null   float64\n",
      " 46  Logs_Global_Campus              2627 non-null   float64\n",
      " 47  Media_hora_curso                2627 non-null   float64\n",
      " 48  Estado                          2547 non-null   object \n",
      " 49  Total_number_received_Feedback  2627 non-null   float64\n",
      " 50  Performance_feedback_AVG        2627 non-null   float64\n",
      " 51  Performance_Level_CD            2627 non-null   int64  \n",
      " 52  Performance_Level               2627 non-null   object \n",
      " 53  Potential_Level_CD              2627 non-null   int64  \n",
      " 54  Potential_Level                 2627 non-null   object \n",
      " 55  Track_Code                      2627 non-null   int64  \n",
      " 56  TotalNumberOfficeEmployees      2627 non-null   int64  \n",
      " 57  Churn                           2627 non-null   float64\n",
      "dtypes: float64(27), int64(21), object(10)\n",
      "memory usage: 1.2+ MB\n"
     ]
    }
   ],
   "source": [
    "df.info()"
   ]
  },
  {
   "cell_type": "code",
   "execution_count": 13,
   "metadata": {},
   "outputs": [
    {
     "data": {
      "text/plain": [
       "array([0., 1.])"
      ]
     },
     "execution_count": 13,
     "metadata": {},
     "output_type": "execute_result"
    }
   ],
   "source": [
    "df['Churn'].unique()"
   ]
  },
  {
   "cell_type": "code",
   "execution_count": 14,
   "metadata": {},
   "outputs": [
    {
     "name": "stdout",
     "output_type": "stream",
     "text": [
      "0.0    1740\n",
      "1.0     887\n",
      "Name: Churn, dtype: int64\n"
     ]
    }
   ],
   "source": [
    "item_counts = df[\"Churn\"].value_counts()\n",
    "print(item_counts)"
   ]
  },
  {
   "cell_type": "code",
   "execution_count": 15,
   "metadata": {},
   "outputs": [
    {
     "data": {
      "image/png": "[encoded data removed]",
      "text/plain": [
       "<Figure size 432x288 with 1 Axes>"
      ]
     },
     "metadata": {},
     "output_type": "display_data"
    }
   ],
   "source": [
    "churn_labels = 'Not Churned', 'Churned'\n",
    "plt.pie(item_counts, labels = churn_labels, autopct='%1.1f%%')\n",
    "plt.title('Churn Percentage')\n",
    "plt.axis('equal')\n",
    "plt.show()"
   ]
  },
  {
   "cell_type": "code",
   "execution_count": 16,
   "metadata": {},
   "outputs": [
    {
     "name": "stdout",
     "output_type": "stream",
     "text": [
      "Prime_Skills\n",
      ".NET DEVELOPER                                                        364\n",
      "ANGULAR                                                                48\n",
      "BUSINESS CONSULTANT (PMO + PROCESSES + CHANGE MGT + BUSINESS CASE)     52\n",
      "FINANCE                                                                 1\n",
      "FUNCTIONAL ANALYST                                                    134\n",
      "INFORMATICA POWERCENTER                                                24\n",
      "IT                                                                     61\n",
      "JAVA                                                                  335\n",
      "JIRA (ZEPHYR)                                                          70\n",
      "LINES OF SERVICES MANAGER                                               2\n",
      "MICROFOCUS QC/ALM                                                     125\n",
      "MICROSOFT DYNAMICS 365                                                 31\n",
      "ORACLE                                                                 47\n",
      "Other                                                                 733\n",
      "PHP                                                                    32\n",
      "PL SQL                                                                 35\n",
      "PMO                                                                    29\n",
      "PROJECT LEADER                                                         29\n",
      "PROJECT MANAGER                                                         9\n",
      "SALESFORCE                                                             29\n",
      "SAP                                                                   382\n",
      "TELCO                                                                  22\n",
      "USER EXPERIENCE DESIGNER (UX)                                          31\n",
      "VERTICAL MANAGER                                                        2\n",
      "Name: Churn, dtype: int64\n"
     ]
    }
   ],
   "source": [
    "print(df.groupby(\"Prime_Skills\")[\"Churn\"].count())"
   ]
  },
  {
   "cell_type": "code",
   "execution_count": 17,
   "metadata": {},
   "outputs": [
    {
     "name": "stdout",
     "output_type": "stream",
     "text": [
      "Prime_Skills\n",
      ".NET DEVELOPER                                                        138.0\n",
      "ANGULAR                                                                17.0\n",
      "BUSINESS CONSULTANT (PMO + PROCESSES + CHANGE MGT + BUSINESS CASE)     33.0\n",
      "FINANCE                                                                 0.0\n",
      "FUNCTIONAL ANALYST                                                     46.0\n",
      "INFORMATICA POWERCENTER                                                10.0\n",
      "IT                                                                     10.0\n",
      "JAVA                                                                  125.0\n",
      "JIRA (ZEPHYR)                                                          15.0\n",
      "LINES OF SERVICES MANAGER                                               0.0\n",
      "MICROFOCUS QC/ALM                                                      66.0\n",
      "MICROSOFT DYNAMICS 365                                                  8.0\n",
      "ORACLE                                                                 20.0\n",
      "Other                                                                 207.0\n",
      "PHP                                                                    12.0\n",
      "PL SQL                                                                 10.0\n",
      "PMO                                                                    15.0\n",
      "PROJECT LEADER                                                         12.0\n",
      "PROJECT MANAGER                                                         5.0\n",
      "SALESFORCE                                                             17.0\n",
      "SAP                                                                   105.0\n",
      "TELCO                                                                   6.0\n",
      "USER EXPERIENCE DESIGNER (UX)                                          10.0\n",
      "VERTICAL MANAGER                                                        0.0\n",
      "Name: Churn, dtype: float64\n"
     ]
    }
   ],
   "source": [
    "print(df.groupby(\"Prime_Skills\")[\"Churn\"].sum())"
   ]
  },
  {
   "cell_type": "code",
   "execution_count": 18,
   "metadata": {},
   "outputs": [
    {
     "data": {
      "text/plain": [
       "<matplotlib.axes._subplots.AxesSubplot at 0x21a47d066a0>"
      ]
     },
     "execution_count": 18,
     "metadata": {},
     "output_type": "execute_result"
    },
    {
     "data": {
      "image/png": "[encoded data removed]",
      "text/plain": [
       "<Figure size 432x288 with 1 Axes>"
      ]
     },
     "metadata": {},
     "output_type": "display_data"
    }
   ],
   "source": [
    "df_by_pskill = df.groupby(\"Prime_Skills\")[\"Churn\"].sum()\n",
    "df_by_pskill.plot()"
   ]
  },
  {
   "cell_type": "markdown",
   "metadata": {},
   "source": [
    "## ENCODE de la columna PRIME SKILLS\n",
    "\n",
    "##### 1=NET DEVELOPER {.NET DEVELOPER[0] + ANGULAR[1] + PHP[14]}\n",
    "##### 2=JAVA {JAVA[7]}\n",
    "##### 3=APP {MICROFOCUS QC/ALM[10] + MICROSOFT DYNAMICS 365[11]}\n",
    "##### 4=OTHER TECHNICAL SKILLS {INFORMATICA POWERCENTER[5]+IT[6]+ORACLE[12]+PL SQL[15]+SALESFORCE[19]+TELCO[21]}\n",
    "##### 5=SAP {SAP[5]}\n",
    "##### 6=OTHER ADMINISTRATIVE SKILLS {BUSINESS CONSULTANT (PMO + PROCESSES + CHANGE MGT + BUSINESS CASE)[2]+FINANCE[3]+FUNCTIONAL ANALYST[4]+JIRA (ZEPHYR)[8]+LINES OF SERVICES MANAGER[9]+PMO[16]+PROJECT LEADER[17]+PROJECT MANAGER[18]+USER EXPERIENCE DESIGNER (UX)[22]+VERTICAL MANAGER[23]}\n",
    "##### 7=Other[13]"
   ]
  },
  {
   "cell_type": "code",
   "execution_count": 19,
   "metadata": {},
   "outputs": [],
   "source": [
    "def categorizar(fila):\n",
    "    valor_actual = fila.Prime_Skills_CD\n",
    "    if valor_actual in [0,1,14]:\n",
    "        return 'PS_NetDeveloper'\n",
    "    elif valor_actual in [7]:\n",
    "        return 'PS_JAVA'    \n",
    "    elif valor_actual in [10,11]:\n",
    "        return 'PS_App'\n",
    "    elif valor_actual in [5,6,12,15,19,21]:\n",
    "        return 'PS_OtherTechnicalSkills'\n",
    "    elif valor_actual in [20]:\n",
    "        return 'PS_SAP'\n",
    "    elif valor_actual in [2,3,4,8,9,16,17,18,22,23]:\n",
    "        return 'PS_OtherAdministrativeSkills'\n",
    "    elif valor_actual in [13]:\n",
    "        return 'PS_Other'\n",
    "    else:\n",
    "        return 'PS_Desconocido'"
   ]
  },
  {
   "cell_type": "code",
   "execution_count": 20,
   "metadata": {},
   "outputs": [],
   "source": [
    "df[\"NewPrimeSkills\"] = df.apply(categorizar, axis=1)"
   ]
  },
  {
   "cell_type": "code",
   "execution_count": 21,
   "metadata": {},
   "outputs": [
    {
     "data": {
      "text/plain": [
       "array(['PS_Other', 'PS_OtherAdministrativeSkills', 'PS_NetDeveloper',\n",
       "       'PS_SAP', 'PS_OtherTechnicalSkills', 'PS_App', 'PS_JAVA'],\n",
       "      dtype=object)"
      ]
     },
     "execution_count": 21,
     "metadata": {},
     "output_type": "execute_result"
    }
   ],
   "source": [
    "df.NewPrimeSkills.unique()"
   ]
  },
  {
   "cell_type": "code",
   "execution_count": 22,
   "metadata": {},
   "outputs": [
    {
     "data": {
      "text/plain": [
       "[array(['PS_App', 'PS_JAVA', 'PS_NetDeveloper', 'PS_Other',\n",
       "        'PS_OtherAdministrativeSkills', 'PS_OtherTechnicalSkills',\n",
       "        'PS_SAP'], dtype=object)]"
      ]
     },
     "execution_count": 22,
     "metadata": {},
     "output_type": "execute_result"
    }
   ],
   "source": [
    "from sklearn.preprocessing import OneHotEncoder\n",
    "enc = OneHotEncoder(sparse='False')\n",
    "enc_df = pd.DataFrame(enc.fit_transform(df[['NewPrimeSkills']]).toarray(),\n",
    "                     columns=['PS_App', 'PS_JAVA', 'PS_NetDeveloper', 'PS_OtherAdministrativeSkills',\n",
    "        'PS_OtherTechnicalSkills', 'PS_Other', 'PS_SAP'])\n",
    "enc.categories_  "
   ]
  },
  {
   "cell_type": "code",
   "execution_count": 23,
   "metadata": {},
   "outputs": [
    {
     "name": "stdout",
     "output_type": "stream",
     "text": [
      "<class 'pandas.core.frame.DataFrame'>\n",
      "RangeIndex: 2627 entries, 0 to 2626\n",
      "Data columns (total 7 columns):\n",
      " #   Column                        Non-Null Count  Dtype  \n",
      "---  ------                        --------------  -----  \n",
      " 0   PS_App                        2627 non-null   float64\n",
      " 1   PS_JAVA                       2627 non-null   float64\n",
      " 2   PS_NetDeveloper               2627 non-null   float64\n",
      " 3   PS_OtherAdministrativeSkills  2627 non-null   float64\n",
      " 4   PS_OtherTechnicalSkills       2627 non-null   float64\n",
      " 5   PS_Other                      2627 non-null   float64\n",
      " 6   PS_SAP                        2627 non-null   float64\n",
      "dtypes: float64(7)\n",
      "memory usage: 143.8 KB\n"
     ]
    }
   ],
   "source": [
    "enc_df.info()"
   ]
  },
  {
   "cell_type": "code",
   "execution_count": 24,
   "metadata": {},
   "outputs": [],
   "source": [
    "df = df.join(enc_df.set_index(df.index))"
   ]
  },
  {
   "cell_type": "code",
   "execution_count": 25,
   "metadata": {},
   "outputs": [],
   "source": [
    "# Descomentar las siguientes 2 líneas para eliminar las columnas reemplazadas por las transpuestas con ENCODE\n",
    "columnas_drop=['Prime_Skills_CD','Prime_Skills','NewPrimeSkills']\n",
    "df.drop(columnas_drop, axis=1, inplace=True)"
   ]
  },
  {
   "cell_type": "code",
   "execution_count": 26,
   "metadata": {},
   "outputs": [
    {
     "data": {
      "text/html": [
       "<div>\n",
       "<style scoped>\n",
       "    .dataframe tbody tr th:only-of-type {\n",
       "        vertical-align: middle;\n",
       "    }\n",
       "\n",
       "    .dataframe tbody tr th {\n",
       "        vertical-align: top;\n",
       "    }\n",
       "\n",
       "    .dataframe thead th {\n",
       "        text-align: right;\n",
       "    }\n",
       "</style>\n",
       "<table border=\"1\" class=\"dataframe\">\n",
       "  <thead>\n",
       "    <tr style=\"text-align: right;\">\n",
       "      <th></th>\n",
       "      <th>ID_Country</th>\n",
       "      <th>Country</th>\n",
       "      <th>Employee_Pay_ST</th>\n",
       "      <th>Track</th>\n",
       "      <th>Level_Cat</th>\n",
       "      <th>Level</th>\n",
       "      <th>Termination_Reason</th>\n",
       "      <th>Edad</th>\n",
       "      <th>Marital_CD</th>\n",
       "      <th>SBR_AMT</th>\n",
       "      <th>...</th>\n",
       "      <th>Track_Code</th>\n",
       "      <th>TotalNumberOfficeEmployees</th>\n",
       "      <th>Churn</th>\n",
       "      <th>PS_App</th>\n",
       "      <th>PS_JAVA</th>\n",
       "      <th>PS_NetDeveloper</th>\n",
       "      <th>PS_OtherAdministrativeSkills</th>\n",
       "      <th>PS_OtherTechnicalSkills</th>\n",
       "      <th>PS_Other</th>\n",
       "      <th>PS_SAP</th>\n",
       "    </tr>\n",
       "  </thead>\n",
       "  <tbody>\n",
       "    <tr>\n",
       "      <th>1</th>\n",
       "      <td>2</td>\n",
       "      <td>MX</td>\n",
       "      <td>Active</td>\n",
       "      <td>DEVELO</td>\n",
       "      <td>5</td>\n",
       "      <td>Sr. Consultant</td>\n",
       "      <td>Still Active</td>\n",
       "      <td>54</td>\n",
       "      <td>2</td>\n",
       "      <td>79.21</td>\n",
       "      <td>...</td>\n",
       "      <td>3</td>\n",
       "      <td>1441</td>\n",
       "      <td>0.0</td>\n",
       "      <td>0.0</td>\n",
       "      <td>0.0</td>\n",
       "      <td>0.0</td>\n",
       "      <td>1.0</td>\n",
       "      <td>0.0</td>\n",
       "      <td>0.0</td>\n",
       "      <td>0.0</td>\n",
       "    </tr>\n",
       "    <tr>\n",
       "      <th>3</th>\n",
       "      <td>2</td>\n",
       "      <td>MX</td>\n",
       "      <td>Active</td>\n",
       "      <td>MNGSER</td>\n",
       "      <td>3</td>\n",
       "      <td>Experienced Consultant</td>\n",
       "      <td>Still Active</td>\n",
       "      <td>49</td>\n",
       "      <td>2</td>\n",
       "      <td>42.00</td>\n",
       "      <td>...</td>\n",
       "      <td>4</td>\n",
       "      <td>1441</td>\n",
       "      <td>0.0</td>\n",
       "      <td>0.0</td>\n",
       "      <td>0.0</td>\n",
       "      <td>0.0</td>\n",
       "      <td>1.0</td>\n",
       "      <td>0.0</td>\n",
       "      <td>0.0</td>\n",
       "      <td>0.0</td>\n",
       "    </tr>\n",
       "    <tr>\n",
       "      <th>6</th>\n",
       "      <td>2</td>\n",
       "      <td>MX</td>\n",
       "      <td>Active</td>\n",
       "      <td>PROJCT</td>\n",
       "      <td>4</td>\n",
       "      <td>Project / Technical Lead</td>\n",
       "      <td>Still Active</td>\n",
       "      <td>47</td>\n",
       "      <td>2</td>\n",
       "      <td>103.30</td>\n",
       "      <td>...</td>\n",
       "      <td>5</td>\n",
       "      <td>1441</td>\n",
       "      <td>0.0</td>\n",
       "      <td>0.0</td>\n",
       "      <td>0.0</td>\n",
       "      <td>0.0</td>\n",
       "      <td>0.0</td>\n",
       "      <td>1.0</td>\n",
       "      <td>0.0</td>\n",
       "      <td>0.0</td>\n",
       "    </tr>\n",
       "    <tr>\n",
       "      <th>9</th>\n",
       "      <td>2</td>\n",
       "      <td>MX</td>\n",
       "      <td>Active</td>\n",
       "      <td>DEVELO</td>\n",
       "      <td>5</td>\n",
       "      <td>Sr. Consultant</td>\n",
       "      <td>Still Active</td>\n",
       "      <td>47</td>\n",
       "      <td>2</td>\n",
       "      <td>146.60</td>\n",
       "      <td>...</td>\n",
       "      <td>3</td>\n",
       "      <td>1441</td>\n",
       "      <td>0.0</td>\n",
       "      <td>0.0</td>\n",
       "      <td>0.0</td>\n",
       "      <td>1.0</td>\n",
       "      <td>0.0</td>\n",
       "      <td>0.0</td>\n",
       "      <td>0.0</td>\n",
       "      <td>0.0</td>\n",
       "    </tr>\n",
       "    <tr>\n",
       "      <th>28</th>\n",
       "      <td>2</td>\n",
       "      <td>MX</td>\n",
       "      <td>Active</td>\n",
       "      <td>DEVELO</td>\n",
       "      <td>5</td>\n",
       "      <td>Sr. Consultant</td>\n",
       "      <td>Still Active</td>\n",
       "      <td>47</td>\n",
       "      <td>2</td>\n",
       "      <td>115.30</td>\n",
       "      <td>...</td>\n",
       "      <td>3</td>\n",
       "      <td>1441</td>\n",
       "      <td>0.0</td>\n",
       "      <td>0.0</td>\n",
       "      <td>0.0</td>\n",
       "      <td>0.0</td>\n",
       "      <td>1.0</td>\n",
       "      <td>0.0</td>\n",
       "      <td>0.0</td>\n",
       "      <td>0.0</td>\n",
       "    </tr>\n",
       "  </tbody>\n",
       "</table>\n",
       "<p>5 rows × 63 columns</p>\n",
       "</div>"
      ],
      "text/plain": [
       "    ID_Country Country Employee_Pay_ST   Track  Level_Cat  \\\n",
       "1            2      MX          Active  DEVELO          5   \n",
       "3            2      MX          Active  MNGSER          3   \n",
       "6            2      MX          Active  PROJCT          4   \n",
       "9            2      MX          Active  DEVELO          5   \n",
       "28           2      MX          Active  DEVELO          5   \n",
       "\n",
       "                       Level Termination_Reason  Edad  Marital_CD  SBR_AMT  \\\n",
       "1             Sr. Consultant       Still Active    54           2    79.21   \n",
       "3     Experienced Consultant       Still Active    49           2    42.00   \n",
       "6   Project / Technical Lead       Still Active    47           2   103.30   \n",
       "9             Sr. Consultant       Still Active    47           2   146.60   \n",
       "28            Sr. Consultant       Still Active    47           2   115.30   \n",
       "\n",
       "    ...  Track_Code  TotalNumberOfficeEmployees  Churn  PS_App  PS_JAVA  \\\n",
       "1   ...           3                        1441    0.0     0.0      0.0   \n",
       "3   ...           4                        1441    0.0     0.0      0.0   \n",
       "6   ...           5                        1441    0.0     0.0      0.0   \n",
       "9   ...           3                        1441    0.0     0.0      0.0   \n",
       "28  ...           3                        1441    0.0     0.0      0.0   \n",
       "\n",
       "    PS_NetDeveloper PS_OtherAdministrativeSkills  PS_OtherTechnicalSkills  \\\n",
       "1               0.0                          1.0                      0.0   \n",
       "3               0.0                          1.0                      0.0   \n",
       "6               0.0                          0.0                      1.0   \n",
       "9               1.0                          0.0                      0.0   \n",
       "28              0.0                          1.0                      0.0   \n",
       "\n",
       "    PS_Other  PS_SAP  \n",
       "1        0.0     0.0  \n",
       "3        0.0     0.0  \n",
       "6        0.0     0.0  \n",
       "9        0.0     0.0  \n",
       "28       0.0     0.0  \n",
       "\n",
       "[5 rows x 63 columns]"
      ]
     },
     "execution_count": 26,
     "metadata": {},
     "output_type": "execute_result"
    }
   ],
   "source": [
    "df.head()"
   ]
  },
  {
   "cell_type": "code",
   "execution_count": 27,
   "metadata": {},
   "outputs": [
    {
     "name": "stdout",
     "output_type": "stream",
     "text": [
      "Track_Code\n",
      "0      25\n",
      "2     262\n",
      "3    1581\n",
      "4     227\n",
      "5      31\n",
      "6      17\n",
      "7       3\n",
      "8     481\n",
      "Name: Churn, dtype: int64\n"
     ]
    }
   ],
   "source": [
    "print(df.groupby(\"Track_Code\")[\"Churn\"].count())"
   ]
  },
  {
   "cell_type": "code",
   "execution_count": 28,
   "metadata": {},
   "outputs": [
    {
     "name": "stdout",
     "output_type": "stream",
     "text": [
      "Track_Code\n",
      "0      4.0\n",
      "2    101.0\n",
      "3    566.0\n",
      "4     50.0\n",
      "5     10.0\n",
      "6      3.0\n",
      "7      1.0\n",
      "8    152.0\n",
      "Name: Churn, dtype: float64\n"
     ]
    }
   ],
   "source": [
    "print(df.groupby(\"Track_Code\")[\"Churn\"].sum())"
   ]
  },
  {
   "cell_type": "code",
   "execution_count": 29,
   "metadata": {},
   "outputs": [
    {
     "data": {
      "text/plain": [
       "<matplotlib.axes._subplots.AxesSubplot at 0x21a47c5b3d0>"
      ]
     },
     "execution_count": 29,
     "metadata": {},
     "output_type": "execute_result"
    },
    {
     "data": {
      "image/png": "[encoded data removed]",
      "text/plain": [
       "<Figure size 432x288 with 1 Axes>"
      ]
     },
     "metadata": {},
     "output_type": "display_data"
    }
   ],
   "source": [
    "df_by_track = df.groupby(\"Track_Code\")[\"Churn\"].sum()\n",
    "df_by_track.plot()"
   ]
  },
  {
   "cell_type": "markdown",
   "metadata": {},
   "source": [
    "## ENCODE de la columna TRACK\n",
    "##### 1) 'ARCHTC'=Architect\n",
    "##### 2) 'CONSUL'=Consultant\n",
    "##### 3) 'DEVELO'=Developer\n",
    "##### 4) 'MNGSER'=ManagementServices\n",
    "##### 5) 'PROJCT'=Project\n",
    "##### 6) 'SERMGT'=ServiceManager\n",
    "##### 7) 'SUPPOR'=Support\n",
    "##### 8) 'SYINCO'=SystemIntegration"
   ]
  },
  {
   "cell_type": "code",
   "execution_count": 30,
   "metadata": {},
   "outputs": [
    {
     "data": {
      "text/plain": [
       "array(['DEVELO', 'MNGSER', 'PROJCT', 'CONSUL', 'SYINCO', 'ARCHTC',\n",
       "       'SERMGT', 'SUPPOR'], dtype=object)"
      ]
     },
     "execution_count": 30,
     "metadata": {},
     "output_type": "execute_result"
    }
   ],
   "source": [
    "df.Track.unique()"
   ]
  },
  {
   "cell_type": "code",
   "execution_count": 31,
   "metadata": {},
   "outputs": [
    {
     "data": {
      "text/plain": [
       "[array(['ARCHTC', 'CONSUL', 'DEVELO', 'MNGSER', 'PROJCT', 'SERMGT',\n",
       "        'SUPPOR', 'SYINCO'], dtype=object)]"
      ]
     },
     "execution_count": 31,
     "metadata": {},
     "output_type": "execute_result"
    }
   ],
   "source": [
    "from sklearn.preprocessing import OneHotEncoder\n",
    "enc = OneHotEncoder(sparse='False')\n",
    "enc_df = pd.DataFrame(enc.fit_transform(df[['Track']]).toarray(),\n",
    "                     columns=['TRACK_Architect', 'TRACK_Consultant', 'TRACK_Developer', 'TRACK_ManagementServices', 'TRACK_Project', 'TRACK_ServiceManager',\n",
    "        'TRACK_Support', 'TRACK_SystemIntegration'])\n",
    "enc.categories_  "
   ]
  },
  {
   "cell_type": "code",
   "execution_count": 32,
   "metadata": {},
   "outputs": [
    {
     "name": "stdout",
     "output_type": "stream",
     "text": [
      "<class 'pandas.core.frame.DataFrame'>\n",
      "RangeIndex: 2627 entries, 0 to 2626\n",
      "Data columns (total 8 columns):\n",
      " #   Column                    Non-Null Count  Dtype  \n",
      "---  ------                    --------------  -----  \n",
      " 0   TRACK_Architect           2627 non-null   float64\n",
      " 1   TRACK_Consultant          2627 non-null   float64\n",
      " 2   TRACK_Developer           2627 non-null   float64\n",
      " 3   TRACK_ManagementServices  2627 non-null   float64\n",
      " 4   TRACK_Project             2627 non-null   float64\n",
      " 5   TRACK_ServiceManager      2627 non-null   float64\n",
      " 6   TRACK_Support             2627 non-null   float64\n",
      " 7   TRACK_SystemIntegration   2627 non-null   float64\n",
      "dtypes: float64(8)\n",
      "memory usage: 164.3 KB\n"
     ]
    }
   ],
   "source": [
    "enc_df.info()"
   ]
  },
  {
   "cell_type": "code",
   "execution_count": 33,
   "metadata": {},
   "outputs": [],
   "source": [
    "df = df.join(enc_df.set_index(df.index))"
   ]
  },
  {
   "cell_type": "code",
   "execution_count": 34,
   "metadata": {},
   "outputs": [],
   "source": [
    "# Descomentar las siguientes 2 líneas para eliminar las columnas reemplazadas por las transpuestas con ENCODE\n",
    "columnas_drop=['Track','Track_Code']\n",
    "df.drop(columnas_drop, axis=1, inplace=True)"
   ]
  },
  {
   "cell_type": "code",
   "execution_count": 35,
   "metadata": {},
   "outputs": [
    {
     "data": {
      "text/html": [
       "<div>\n",
       "<style scoped>\n",
       "    .dataframe tbody tr th:only-of-type {\n",
       "        vertical-align: middle;\n",
       "    }\n",
       "\n",
       "    .dataframe tbody tr th {\n",
       "        vertical-align: top;\n",
       "    }\n",
       "\n",
       "    .dataframe thead th {\n",
       "        text-align: right;\n",
       "    }\n",
       "</style>\n",
       "<table border=\"1\" class=\"dataframe\">\n",
       "  <thead>\n",
       "    <tr style=\"text-align: right;\">\n",
       "      <th></th>\n",
       "      <th>ID_Country</th>\n",
       "      <th>Country</th>\n",
       "      <th>Employee_Pay_ST</th>\n",
       "      <th>Level_Cat</th>\n",
       "      <th>Level</th>\n",
       "      <th>Termination_Reason</th>\n",
       "      <th>Edad</th>\n",
       "      <th>Marital_CD</th>\n",
       "      <th>SBR_AMT</th>\n",
       "      <th>SCR_AMT</th>\n",
       "      <th>...</th>\n",
       "      <th>PS_Other</th>\n",
       "      <th>PS_SAP</th>\n",
       "      <th>TRACK_Architect</th>\n",
       "      <th>TRACK_Consultant</th>\n",
       "      <th>TRACK_Developer</th>\n",
       "      <th>TRACK_ManagementServices</th>\n",
       "      <th>TRACK_Project</th>\n",
       "      <th>TRACK_ServiceManager</th>\n",
       "      <th>TRACK_Support</th>\n",
       "      <th>TRACK_SystemIntegration</th>\n",
       "    </tr>\n",
       "  </thead>\n",
       "  <tbody>\n",
       "    <tr>\n",
       "      <th>1</th>\n",
       "      <td>2</td>\n",
       "      <td>MX</td>\n",
       "      <td>Active</td>\n",
       "      <td>5</td>\n",
       "      <td>Sr. Consultant</td>\n",
       "      <td>Still Active</td>\n",
       "      <td>54</td>\n",
       "      <td>2</td>\n",
       "      <td>79.21</td>\n",
       "      <td>22.58</td>\n",
       "      <td>...</td>\n",
       "      <td>0.0</td>\n",
       "      <td>0.0</td>\n",
       "      <td>0.0</td>\n",
       "      <td>0.0</td>\n",
       "      <td>1.0</td>\n",
       "      <td>0.0</td>\n",
       "      <td>0.0</td>\n",
       "      <td>0.0</td>\n",
       "      <td>0.0</td>\n",
       "      <td>0.0</td>\n",
       "    </tr>\n",
       "    <tr>\n",
       "      <th>3</th>\n",
       "      <td>2</td>\n",
       "      <td>MX</td>\n",
       "      <td>Active</td>\n",
       "      <td>3</td>\n",
       "      <td>Experienced Consultant</td>\n",
       "      <td>Still Active</td>\n",
       "      <td>49</td>\n",
       "      <td>2</td>\n",
       "      <td>42.00</td>\n",
       "      <td>12.00</td>\n",
       "      <td>...</td>\n",
       "      <td>0.0</td>\n",
       "      <td>0.0</td>\n",
       "      <td>0.0</td>\n",
       "      <td>0.0</td>\n",
       "      <td>0.0</td>\n",
       "      <td>1.0</td>\n",
       "      <td>0.0</td>\n",
       "      <td>0.0</td>\n",
       "      <td>0.0</td>\n",
       "      <td>0.0</td>\n",
       "    </tr>\n",
       "    <tr>\n",
       "      <th>6</th>\n",
       "      <td>2</td>\n",
       "      <td>MX</td>\n",
       "      <td>Active</td>\n",
       "      <td>4</td>\n",
       "      <td>Project / Technical Lead</td>\n",
       "      <td>Still Active</td>\n",
       "      <td>47</td>\n",
       "      <td>2</td>\n",
       "      <td>103.30</td>\n",
       "      <td>29.50</td>\n",
       "      <td>...</td>\n",
       "      <td>0.0</td>\n",
       "      <td>0.0</td>\n",
       "      <td>0.0</td>\n",
       "      <td>0.0</td>\n",
       "      <td>0.0</td>\n",
       "      <td>0.0</td>\n",
       "      <td>1.0</td>\n",
       "      <td>0.0</td>\n",
       "      <td>0.0</td>\n",
       "      <td>0.0</td>\n",
       "    </tr>\n",
       "    <tr>\n",
       "      <th>9</th>\n",
       "      <td>2</td>\n",
       "      <td>MX</td>\n",
       "      <td>Active</td>\n",
       "      <td>5</td>\n",
       "      <td>Sr. Consultant</td>\n",
       "      <td>Still Active</td>\n",
       "      <td>47</td>\n",
       "      <td>2</td>\n",
       "      <td>146.60</td>\n",
       "      <td>41.90</td>\n",
       "      <td>...</td>\n",
       "      <td>0.0</td>\n",
       "      <td>0.0</td>\n",
       "      <td>0.0</td>\n",
       "      <td>0.0</td>\n",
       "      <td>1.0</td>\n",
       "      <td>0.0</td>\n",
       "      <td>0.0</td>\n",
       "      <td>0.0</td>\n",
       "      <td>0.0</td>\n",
       "      <td>0.0</td>\n",
       "    </tr>\n",
       "    <tr>\n",
       "      <th>28</th>\n",
       "      <td>2</td>\n",
       "      <td>MX</td>\n",
       "      <td>Active</td>\n",
       "      <td>5</td>\n",
       "      <td>Sr. Consultant</td>\n",
       "      <td>Still Active</td>\n",
       "      <td>47</td>\n",
       "      <td>2</td>\n",
       "      <td>115.30</td>\n",
       "      <td>32.90</td>\n",
       "      <td>...</td>\n",
       "      <td>0.0</td>\n",
       "      <td>0.0</td>\n",
       "      <td>0.0</td>\n",
       "      <td>0.0</td>\n",
       "      <td>1.0</td>\n",
       "      <td>0.0</td>\n",
       "      <td>0.0</td>\n",
       "      <td>0.0</td>\n",
       "      <td>0.0</td>\n",
       "      <td>0.0</td>\n",
       "    </tr>\n",
       "  </tbody>\n",
       "</table>\n",
       "<p>5 rows × 69 columns</p>\n",
       "</div>"
      ],
      "text/plain": [
       "    ID_Country Country Employee_Pay_ST  Level_Cat                     Level  \\\n",
       "1            2      MX          Active          5            Sr. Consultant   \n",
       "3            2      MX          Active          3    Experienced Consultant   \n",
       "6            2      MX          Active          4  Project / Technical Lead   \n",
       "9            2      MX          Active          5            Sr. Consultant   \n",
       "28           2      MX          Active          5            Sr. Consultant   \n",
       "\n",
       "   Termination_Reason  Edad  Marital_CD  SBR_AMT  SCR_AMT  ...  PS_Other  \\\n",
       "1        Still Active    54           2    79.21    22.58  ...       0.0   \n",
       "3        Still Active    49           2    42.00    12.00  ...       0.0   \n",
       "6        Still Active    47           2   103.30    29.50  ...       0.0   \n",
       "9        Still Active    47           2   146.60    41.90  ...       0.0   \n",
       "28       Still Active    47           2   115.30    32.90  ...       0.0   \n",
       "\n",
       "    PS_SAP  TRACK_Architect  TRACK_Consultant  TRACK_Developer  \\\n",
       "1      0.0              0.0               0.0              1.0   \n",
       "3      0.0              0.0               0.0              0.0   \n",
       "6      0.0              0.0               0.0              0.0   \n",
       "9      0.0              0.0               0.0              1.0   \n",
       "28     0.0              0.0               0.0              1.0   \n",
       "\n",
       "   TRACK_ManagementServices  TRACK_Project  TRACK_ServiceManager  \\\n",
       "1                       0.0            0.0                   0.0   \n",
       "3                       1.0            0.0                   0.0   \n",
       "6                       0.0            1.0                   0.0   \n",
       "9                       0.0            0.0                   0.0   \n",
       "28                      0.0            0.0                   0.0   \n",
       "\n",
       "    TRACK_Support  TRACK_SystemIntegration  \n",
       "1             0.0                      0.0  \n",
       "3             0.0                      0.0  \n",
       "6             0.0                      0.0  \n",
       "9             0.0                      0.0  \n",
       "28            0.0                      0.0  \n",
       "\n",
       "[5 rows x 69 columns]"
      ]
     },
     "execution_count": 35,
     "metadata": {},
     "output_type": "execute_result"
    }
   ],
   "source": [
    "df.head()"
   ]
  },
  {
   "cell_type": "code",
   "execution_count": 36,
   "metadata": {},
   "outputs": [
    {
     "name": "stdout",
     "output_type": "stream",
     "text": [
      "Country\n",
      "AR     530\n",
      "BR      62\n",
      "CL     118\n",
      "CO      47\n",
      "CZ      30\n",
      "ES     615\n",
      "IN      11\n",
      "MX    1179\n",
      "PE      24\n",
      "US      11\n",
      "Name: Churn, dtype: int64\n"
     ]
    }
   ],
   "source": [
    "print(df.groupby(\"Country\")[\"Churn\"].count())"
   ]
  },
  {
   "cell_type": "code",
   "execution_count": 37,
   "metadata": {},
   "outputs": [
    {
     "name": "stdout",
     "output_type": "stream",
     "text": [
      "Country\n",
      "AR    226.0\n",
      "BR     14.0\n",
      "CL     46.0\n",
      "CO     13.0\n",
      "CZ     19.0\n",
      "ES    223.0\n",
      "IN      1.0\n",
      "MX    334.0\n",
      "PE      7.0\n",
      "US      4.0\n",
      "Name: Churn, dtype: float64\n"
     ]
    }
   ],
   "source": [
    "print(df.groupby(\"Country\")[\"Churn\"].sum())"
   ]
  },
  {
   "cell_type": "code",
   "execution_count": 38,
   "metadata": {},
   "outputs": [
    {
     "data": {
      "text/plain": [
       "<matplotlib.axes._subplots.AxesSubplot at 0x21a47c51100>"
      ]
     },
     "execution_count": 38,
     "metadata": {},
     "output_type": "execute_result"
    },
    {
     "data": {
      "image/png": "[encoded data removed]",
      "text/plain": [
       "<Figure size 432x288 with 1 Axes>"
      ]
     },
     "metadata": {},
     "output_type": "display_data"
    }
   ],
   "source": [
    "df_by_Country = df.groupby(\"Country\")[\"Churn\"].sum()\n",
    "df_by_Country.plot()"
   ]
  },
  {
   "cell_type": "code",
   "execution_count": 39,
   "metadata": {},
   "outputs": [
    {
     "name": "stdout",
     "output_type": "stream",
     "text": [
      "Months_Worked\n",
      "0     15\n",
      "1     25\n",
      "2     54\n",
      "3     61\n",
      "4     57\n",
      "      ..\n",
      "68    11\n",
      "69     6\n",
      "70     6\n",
      "71     8\n",
      "72     9\n",
      "Name: Churn, Length: 73, dtype: int64\n"
     ]
    }
   ],
   "source": [
    "print(df.groupby(\"Months_Worked\")[\"Churn\"].count())"
   ]
  },
  {
   "cell_type": "code",
   "execution_count": 40,
   "metadata": {},
   "outputs": [
    {
     "name": "stdout",
     "output_type": "stream",
     "text": [
      "Months_Worked\n",
      "0     15.0\n",
      "1     25.0\n",
      "2     30.0\n",
      "3     25.0\n",
      "4     18.0\n",
      "      ... \n",
      "68     2.0\n",
      "69     1.0\n",
      "70     3.0\n",
      "71     1.0\n",
      "72     3.0\n",
      "Name: Churn, Length: 73, dtype: float64\n"
     ]
    }
   ],
   "source": [
    "print(df.groupby(\"Months_Worked\")[\"Churn\"].sum())"
   ]
  },
  {
   "cell_type": "code",
   "execution_count": 41,
   "metadata": {},
   "outputs": [],
   "source": [
    "df_by_month = df.groupby(\"Months_Worked\")[\"Churn\"].sum()"
   ]
  },
  {
   "cell_type": "code",
   "execution_count": 42,
   "metadata": {},
   "outputs": [
    {
     "data": {
      "text/plain": [
       "<matplotlib.axes._subplots.AxesSubplot at 0x21a4814e340>"
      ]
     },
     "execution_count": 42,
     "metadata": {},
     "output_type": "execute_result"
    },
    {
     "data": {
      "image/png": "[encoded data removed]",
      "text/plain": [
       "<Figure size 432x288 with 1 Axes>"
      ]
     },
     "metadata": {},
     "output_type": "display_data"
    }
   ],
   "source": [
    "df_by_month.plot()"
   ]
  },
  {
   "cell_type": "code",
   "execution_count": 43,
   "metadata": {},
   "outputs": [
    {
     "name": "stdout",
     "output_type": "stream",
     "text": [
      "Edad\n",
      "18      1\n",
      "19      1\n",
      "20      4\n",
      "21      9\n",
      "22     30\n",
      "23     60\n",
      "24     80\n",
      "25    125\n",
      "26    148\n",
      "27    185\n",
      "28    180\n",
      "29    157\n",
      "30    187\n",
      "31    129\n",
      "32    144\n",
      "33    147\n",
      "34     95\n",
      "35    110\n",
      "36    110\n",
      "37     94\n",
      "38     78\n",
      "39     67\n",
      "40     62\n",
      "41     47\n",
      "42     42\n",
      "43     41\n",
      "44     45\n",
      "45     36\n",
      "46     26\n",
      "47     37\n",
      "48     22\n",
      "49     24\n",
      "50     24\n",
      "51     16\n",
      "52     10\n",
      "53     11\n",
      "54      9\n",
      "55     10\n",
      "56      8\n",
      "57      4\n",
      "58      6\n",
      "59      1\n",
      "60      2\n",
      "61      2\n",
      "64      1\n",
      "Name: Churn, dtype: int64\n"
     ]
    }
   ],
   "source": [
    "print(df.groupby(\"Edad\")[\"Churn\"].count())"
   ]
  },
  {
   "cell_type": "code",
   "execution_count": 44,
   "metadata": {},
   "outputs": [
    {
     "name": "stdout",
     "output_type": "stream",
     "text": [
      "Edad\n",
      "18     1.0\n",
      "19     0.0\n",
      "20     0.0\n",
      "21     1.0\n",
      "22    11.0\n",
      "23    20.0\n",
      "24    30.0\n",
      "25    40.0\n",
      "26    65.0\n",
      "27    69.0\n",
      "28    73.0\n",
      "29    68.0\n",
      "30    61.0\n",
      "31    34.0\n",
      "32    59.0\n",
      "33    38.0\n",
      "34    33.0\n",
      "35    29.0\n",
      "36    38.0\n",
      "37    32.0\n",
      "38    26.0\n",
      "39    24.0\n",
      "40    16.0\n",
      "41    16.0\n",
      "42    14.0\n",
      "43    15.0\n",
      "44    11.0\n",
      "45     7.0\n",
      "46     4.0\n",
      "47     8.0\n",
      "48     7.0\n",
      "49     8.0\n",
      "50     8.0\n",
      "51     5.0\n",
      "52     2.0\n",
      "53     4.0\n",
      "54     2.0\n",
      "55     2.0\n",
      "56     2.0\n",
      "57     0.0\n",
      "58     2.0\n",
      "59     0.0\n",
      "60     0.0\n",
      "61     2.0\n",
      "64     0.0\n",
      "Name: Churn, dtype: float64\n"
     ]
    }
   ],
   "source": [
    "print(df.groupby(\"Edad\")[\"Churn\"].sum())"
   ]
  },
  {
   "cell_type": "code",
   "execution_count": 45,
   "metadata": {},
   "outputs": [],
   "source": [
    "df_by_age = df.groupby(\"Edad\")[\"Churn\"].sum()"
   ]
  },
  {
   "cell_type": "code",
   "execution_count": 46,
   "metadata": {},
   "outputs": [
    {
     "data": {
      "text/plain": [
       "<matplotlib.axes._subplots.AxesSubplot at 0x21a47e54af0>"
      ]
     },
     "execution_count": 46,
     "metadata": {},
     "output_type": "execute_result"
    },
    {
     "data": {
      "image/png": "[encoded data removed]",
      "text/plain": [
       "<Figure size 432x288 with 1 Axes>"
      ]
     },
     "metadata": {},
     "output_type": "display_data"
    }
   ],
   "source": [
    "df_by_age.plot()"
   ]
  },
  {
   "cell_type": "code",
   "execution_count": 47,
   "metadata": {},
   "outputs": [
    {
     "name": "stdout",
     "output_type": "stream",
     "text": [
      "Department\n",
      "303       22\n",
      "D72       33\n",
      "DH3       26\n",
      "H48       39\n",
      "Other    530\n",
      "S04      180\n",
      "S48       27\n",
      "S51       89\n",
      "S63      280\n",
      "S64      783\n",
      "S65       34\n",
      "S66       57\n",
      "S73       37\n",
      "S76      230\n",
      "T22       30\n",
      "T25       59\n",
      "T45       52\n",
      "T57       56\n",
      "T60       35\n",
      "ZZ3       28\n",
      "Name: Churn, dtype: int64\n"
     ]
    }
   ],
   "source": [
    "print(df.groupby(\"Department\")[\"Churn\"].count())"
   ]
  },
  {
   "cell_type": "code",
   "execution_count": 48,
   "metadata": {},
   "outputs": [
    {
     "name": "stdout",
     "output_type": "stream",
     "text": [
      "Department\n",
      "303        2.0\n",
      "D72        6.0\n",
      "DH3        0.0\n",
      "H48        1.0\n",
      "Other    300.0\n",
      "S04        0.0\n",
      "S48       27.0\n",
      "S51        6.0\n",
      "S63      280.0\n",
      "S64       34.0\n",
      "S65       34.0\n",
      "S66       57.0\n",
      "S73       37.0\n",
      "S76       55.0\n",
      "T22       30.0\n",
      "T25        1.0\n",
      "T45        6.0\n",
      "T57        7.0\n",
      "T60        4.0\n",
      "ZZ3        0.0\n",
      "Name: Churn, dtype: float64\n"
     ]
    }
   ],
   "source": [
    "print(df.groupby(\"Department\")[\"Churn\"].sum())"
   ]
  },
  {
   "cell_type": "code",
   "execution_count": 49,
   "metadata": {},
   "outputs": [
    {
     "name": "stdout",
     "output_type": "stream",
     "text": [
      "Increase_2018_2019\n",
      "0.000000     2546\n",
      "3.758906       80\n",
      "47.500000       1\n",
      "Name: Churn, dtype: int64\n"
     ]
    }
   ],
   "source": [
    "print(df.groupby(\"Increase_2018_2019\")[\"Churn\"].count())"
   ]
  },
  {
   "cell_type": "code",
   "execution_count": 50,
   "metadata": {},
   "outputs": [
    {
     "name": "stdout",
     "output_type": "stream",
     "text": [
      "Increase_2018_2019\n",
      "0.000000     887.0\n",
      "3.758906       0.0\n",
      "47.500000      0.0\n",
      "Name: Churn, dtype: float64\n"
     ]
    }
   ],
   "source": [
    "print(df.groupby(\"Increase_2018_2019\")[\"Churn\"].sum())"
   ]
  },
  {
   "cell_type": "code",
   "execution_count": 51,
   "metadata": {},
   "outputs": [
    {
     "data": {
      "text/plain": [
       "<matplotlib.axes._subplots.AxesSubplot at 0x21a47eabbe0>"
      ]
     },
     "execution_count": 51,
     "metadata": {},
     "output_type": "execute_result"
    },
    {
     "data": {
      "image/png": "[encoded data removed]",
      "text/plain": [
       "<Figure size 432x288 with 1 Axes>"
      ]
     },
     "metadata": {},
     "output_type": "display_data"
    }
   ],
   "source": [
    "df_by_incr1 = df.groupby(\"Increase_2018_2019\")[\"Churn\"].sum()\n",
    "df_by_incr1.plot()"
   ]
  },
  {
   "cell_type": "code",
   "execution_count": 52,
   "metadata": {},
   "outputs": [
    {
     "name": "stdout",
     "output_type": "stream",
     "text": [
      "Increase_2019_2020\n",
      "0.000000      602.0\n",
      "18.000000       0.0\n",
      "18.656007       0.0\n",
      "20.000000     262.0\n",
      "21.000000       0.0\n",
      "              ...  \n",
      "89.000000       0.0\n",
      "91.000000       0.0\n",
      "92.000000       0.0\n",
      "96.000000       0.0\n",
      "100.000000      1.0\n",
      "Name: Churn, Length: 62, dtype: float64\n"
     ]
    }
   ],
   "source": [
    "print(df.groupby(\"Increase_2019_2020\")[\"Churn\"].sum())"
   ]
  },
  {
   "cell_type": "code",
   "execution_count": 53,
   "metadata": {},
   "outputs": [
    {
     "data": {
      "text/plain": [
       "<matplotlib.axes._subplots.AxesSubplot at 0x21a47f09490>"
      ]
     },
     "execution_count": 53,
     "metadata": {},
     "output_type": "execute_result"
    },
    {
     "data": {
      "image/png": "[encoded data removed]",
      "text/plain": [
       "<Figure size 432x288 with 1 Axes>"
      ]
     },
     "metadata": {},
     "output_type": "display_data"
    }
   ],
   "source": [
    "df_by_incr2 = df.groupby(\"Increase_2019_2020\")[\"Churn\"].sum()\n",
    "df_by_incr2.plot()"
   ]
  },
  {
   "cell_type": "code",
   "execution_count": 54,
   "metadata": {},
   "outputs": [
    {
     "data": {
      "text/html": [
       "<div>\n",
       "<style scoped>\n",
       "    .dataframe tbody tr th:only-of-type {\n",
       "        vertical-align: middle;\n",
       "    }\n",
       "\n",
       "    .dataframe tbody tr th {\n",
       "        vertical-align: top;\n",
       "    }\n",
       "\n",
       "    .dataframe thead th {\n",
       "        text-align: right;\n",
       "    }\n",
       "</style>\n",
       "<table border=\"1\" class=\"dataframe\">\n",
       "  <thead>\n",
       "    <tr style=\"text-align: right;\">\n",
       "      <th></th>\n",
       "      <th>ID_Country</th>\n",
       "      <th>Country</th>\n",
       "      <th>Employee_Pay_ST</th>\n",
       "      <th>Level_Cat</th>\n",
       "      <th>Level</th>\n",
       "      <th>Termination_Reason</th>\n",
       "      <th>Edad</th>\n",
       "      <th>Marital_CD</th>\n",
       "      <th>SBR_AMT</th>\n",
       "      <th>SCR_AMT</th>\n",
       "      <th>...</th>\n",
       "      <th>PS_SAP</th>\n",
       "      <th>TRACK_Architect</th>\n",
       "      <th>TRACK_Consultant</th>\n",
       "      <th>TRACK_Developer</th>\n",
       "      <th>TRACK_ManagementServices</th>\n",
       "      <th>TRACK_Project</th>\n",
       "      <th>TRACK_ServiceManager</th>\n",
       "      <th>TRACK_Support</th>\n",
       "      <th>TRACK_SystemIntegration</th>\n",
       "      <th>Avg_Increase</th>\n",
       "    </tr>\n",
       "  </thead>\n",
       "  <tbody>\n",
       "    <tr>\n",
       "      <th>1</th>\n",
       "      <td>2</td>\n",
       "      <td>MX</td>\n",
       "      <td>Active</td>\n",
       "      <td>5</td>\n",
       "      <td>Sr. Consultant</td>\n",
       "      <td>Still Active</td>\n",
       "      <td>54</td>\n",
       "      <td>2</td>\n",
       "      <td>79.21</td>\n",
       "      <td>22.58</td>\n",
       "      <td>...</td>\n",
       "      <td>0.0</td>\n",
       "      <td>0.0</td>\n",
       "      <td>0.0</td>\n",
       "      <td>1.0</td>\n",
       "      <td>0.0</td>\n",
       "      <td>0.0</td>\n",
       "      <td>0.0</td>\n",
       "      <td>0.0</td>\n",
       "      <td>0.0</td>\n",
       "      <td>10.0</td>\n",
       "    </tr>\n",
       "    <tr>\n",
       "      <th>3</th>\n",
       "      <td>2</td>\n",
       "      <td>MX</td>\n",
       "      <td>Active</td>\n",
       "      <td>3</td>\n",
       "      <td>Experienced Consultant</td>\n",
       "      <td>Still Active</td>\n",
       "      <td>49</td>\n",
       "      <td>2</td>\n",
       "      <td>42.00</td>\n",
       "      <td>12.00</td>\n",
       "      <td>...</td>\n",
       "      <td>0.0</td>\n",
       "      <td>0.0</td>\n",
       "      <td>0.0</td>\n",
       "      <td>0.0</td>\n",
       "      <td>1.0</td>\n",
       "      <td>0.0</td>\n",
       "      <td>0.0</td>\n",
       "      <td>0.0</td>\n",
       "      <td>0.0</td>\n",
       "      <td>10.0</td>\n",
       "    </tr>\n",
       "    <tr>\n",
       "      <th>6</th>\n",
       "      <td>2</td>\n",
       "      <td>MX</td>\n",
       "      <td>Active</td>\n",
       "      <td>4</td>\n",
       "      <td>Project / Technical Lead</td>\n",
       "      <td>Still Active</td>\n",
       "      <td>47</td>\n",
       "      <td>2</td>\n",
       "      <td>103.30</td>\n",
       "      <td>29.50</td>\n",
       "      <td>...</td>\n",
       "      <td>0.0</td>\n",
       "      <td>0.0</td>\n",
       "      <td>0.0</td>\n",
       "      <td>0.0</td>\n",
       "      <td>0.0</td>\n",
       "      <td>1.0</td>\n",
       "      <td>0.0</td>\n",
       "      <td>0.0</td>\n",
       "      <td>0.0</td>\n",
       "      <td>10.0</td>\n",
       "    </tr>\n",
       "    <tr>\n",
       "      <th>9</th>\n",
       "      <td>2</td>\n",
       "      <td>MX</td>\n",
       "      <td>Active</td>\n",
       "      <td>5</td>\n",
       "      <td>Sr. Consultant</td>\n",
       "      <td>Still Active</td>\n",
       "      <td>47</td>\n",
       "      <td>2</td>\n",
       "      <td>146.60</td>\n",
       "      <td>41.90</td>\n",
       "      <td>...</td>\n",
       "      <td>0.0</td>\n",
       "      <td>0.0</td>\n",
       "      <td>0.0</td>\n",
       "      <td>1.0</td>\n",
       "      <td>0.0</td>\n",
       "      <td>0.0</td>\n",
       "      <td>0.0</td>\n",
       "      <td>0.0</td>\n",
       "      <td>0.0</td>\n",
       "      <td>10.0</td>\n",
       "    </tr>\n",
       "    <tr>\n",
       "      <th>28</th>\n",
       "      <td>2</td>\n",
       "      <td>MX</td>\n",
       "      <td>Active</td>\n",
       "      <td>5</td>\n",
       "      <td>Sr. Consultant</td>\n",
       "      <td>Still Active</td>\n",
       "      <td>47</td>\n",
       "      <td>2</td>\n",
       "      <td>115.30</td>\n",
       "      <td>32.90</td>\n",
       "      <td>...</td>\n",
       "      <td>0.0</td>\n",
       "      <td>0.0</td>\n",
       "      <td>0.0</td>\n",
       "      <td>1.0</td>\n",
       "      <td>0.0</td>\n",
       "      <td>0.0</td>\n",
       "      <td>0.0</td>\n",
       "      <td>0.0</td>\n",
       "      <td>0.0</td>\n",
       "      <td>10.0</td>\n",
       "    </tr>\n",
       "  </tbody>\n",
       "</table>\n",
       "<p>5 rows × 70 columns</p>\n",
       "</div>"
      ],
      "text/plain": [
       "    ID_Country Country Employee_Pay_ST  Level_Cat                     Level  \\\n",
       "1            2      MX          Active          5            Sr. Consultant   \n",
       "3            2      MX          Active          3    Experienced Consultant   \n",
       "6            2      MX          Active          4  Project / Technical Lead   \n",
       "9            2      MX          Active          5            Sr. Consultant   \n",
       "28           2      MX          Active          5            Sr. Consultant   \n",
       "\n",
       "   Termination_Reason  Edad  Marital_CD  SBR_AMT  SCR_AMT  ...  PS_SAP  \\\n",
       "1        Still Active    54           2    79.21    22.58  ...     0.0   \n",
       "3        Still Active    49           2    42.00    12.00  ...     0.0   \n",
       "6        Still Active    47           2   103.30    29.50  ...     0.0   \n",
       "9        Still Active    47           2   146.60    41.90  ...     0.0   \n",
       "28       Still Active    47           2   115.30    32.90  ...     0.0   \n",
       "\n",
       "    TRACK_Architect  TRACK_Consultant  TRACK_Developer  \\\n",
       "1               0.0               0.0              1.0   \n",
       "3               0.0               0.0              0.0   \n",
       "6               0.0               0.0              0.0   \n",
       "9               0.0               0.0              1.0   \n",
       "28              0.0               0.0              1.0   \n",
       "\n",
       "    TRACK_ManagementServices TRACK_Project  TRACK_ServiceManager  \\\n",
       "1                        0.0           0.0                   0.0   \n",
       "3                        1.0           0.0                   0.0   \n",
       "6                        0.0           1.0                   0.0   \n",
       "9                        0.0           0.0                   0.0   \n",
       "28                       0.0           0.0                   0.0   \n",
       "\n",
       "    TRACK_Support  TRACK_SystemIntegration  Avg_Increase  \n",
       "1             0.0                      0.0          10.0  \n",
       "3             0.0                      0.0          10.0  \n",
       "6             0.0                      0.0          10.0  \n",
       "9             0.0                      0.0          10.0  \n",
       "28            0.0                      0.0          10.0  \n",
       "\n",
       "[5 rows x 70 columns]"
      ]
     },
     "execution_count": 54,
     "metadata": {},
     "output_type": "execute_result"
    }
   ],
   "source": [
    "df['Avg_Increase'] = df[['Increase_2018_2019', 'Increase_2019_2020']].mean(axis=1)\n",
    "df.head()"
   ]
  },
  {
   "cell_type": "code",
   "execution_count": 55,
   "metadata": {},
   "outputs": [
    {
     "name": "stdout",
     "output_type": "stream",
     "text": [
      "Avg_Increase\n",
      "0.000000     602.0\n",
      "9.000000       0.0\n",
      "10.000000    262.0\n",
      "10.500000      0.0\n",
      "11.207457      0.0\n",
      "             ...  \n",
      "44.500000      0.0\n",
      "45.500000      0.0\n",
      "46.000000      0.0\n",
      "48.000000      0.0\n",
      "50.000000      1.0\n",
      "Name: Churn, Length: 63, dtype: float64\n"
     ]
    }
   ],
   "source": [
    "print(df.groupby('Avg_Increase')[\"Churn\"].sum())"
   ]
  },
  {
   "cell_type": "code",
   "execution_count": 56,
   "metadata": {},
   "outputs": [
    {
     "name": "stdout",
     "output_type": "stream",
     "text": [
      "<class 'pandas.core.frame.DataFrame'>\n",
      "Int64Index: 2627 entries, 1 to 3428\n",
      "Data columns (total 68 columns):\n",
      " #   Column                          Non-Null Count  Dtype  \n",
      "---  ------                          --------------  -----  \n",
      " 0   ID_Country                      2627 non-null   int64  \n",
      " 1   Country                         2627 non-null   object \n",
      " 2   Employee_Pay_ST                 2627 non-null   object \n",
      " 3   Level_Cat                       2627 non-null   int64  \n",
      " 4   Level                           2627 non-null   object \n",
      " 5   Termination_Reason              2627 non-null   object \n",
      " 6   Edad                            2627 non-null   int64  \n",
      " 7   Marital_CD                      2627 non-null   int64  \n",
      " 8   SBR_AMT                         2627 non-null   float64\n",
      " 9   SCR_AMT                         2627 non-null   float64\n",
      " 10  Region                          2562 non-null   float64\n",
      " 11  Office                          2627 non-null   int64  \n",
      " 12  Area                            2627 non-null   int64  \n",
      " 13  Division                        2627 non-null   int64  \n",
      " 14  Department_CD                   2627 non-null   int64  \n",
      " 15  Department                      2627 non-null   object \n",
      " 16  Billiability                    2627 non-null   int64  \n",
      " 17  Technology                      2627 non-null   int64  \n",
      " 18  Business_Unit                   2627 non-null   int64  \n",
      " 19  Std_Hrs_Week                    2627 non-null   float64\n",
      " 20  Months_Worked                   2627 non-null   int64  \n",
      " 21  Level_Cat.1                     2627 non-null   int64  \n",
      " 22  Vacation_Ratio                  2627 non-null   float64\n",
      " 23  Number_Unique_Projects          2627 non-null   int64  \n",
      " 24  Number_Unique_Project_Type      2627 non-null   int64  \n",
      " 25  Abscence_Projects               2627 non-null   float64\n",
      " 26  Administrative_Functions        2627 non-null   float64\n",
      " 27  Awaiting_Projects               2627 non-null   float64\n",
      " 28  Billable_Projects               2627 non-null   float64\n",
      " 29  Corporate_Funded_Projects       2627 non-null   float64\n",
      " 30  Cost_Centers                    2627 non-null   float64\n",
      " 31  Indirect_Cost_Centers           2627 non-null   int64  \n",
      " 32  Internal_Investment_Projects    2627 non-null   float64\n",
      " 33  Internal_Programs               2627 non-null   float64\n",
      " 34  Proposals                       2627 non-null   float64\n",
      " 35  Proposals_General               2627 non-null   float64\n",
      " 36  Training_Programs               2627 non-null   float64\n",
      " 37  Bonus_2018                      2547 non-null   float64\n",
      " 38  Bonus_2019                      2547 non-null   float64\n",
      " 39  Course_Viewed                   2627 non-null   float64\n",
      " 40  Logs_Course_Viewed              2627 non-null   float64\n",
      " 41  Logs_Global_Campus              2627 non-null   float64\n",
      " 42  Media_hora_curso                2627 non-null   float64\n",
      " 43  Estado                          2547 non-null   object \n",
      " 44  Total_number_received_Feedback  2627 non-null   float64\n",
      " 45  Performance_feedback_AVG        2627 non-null   float64\n",
      " 46  Performance_Level_CD            2627 non-null   int64  \n",
      " 47  Performance_Level               2627 non-null   object \n",
      " 48  Potential_Level_CD              2627 non-null   int64  \n",
      " 49  Potential_Level                 2627 non-null   object \n",
      " 50  TotalNumberOfficeEmployees      2627 non-null   int64  \n",
      " 51  Churn                           2627 non-null   float64\n",
      " 52  PS_App                          2627 non-null   float64\n",
      " 53  PS_JAVA                         2627 non-null   float64\n",
      " 54  PS_NetDeveloper                 2627 non-null   float64\n",
      " 55  PS_OtherAdministrativeSkills    2627 non-null   float64\n",
      " 56  PS_OtherTechnicalSkills         2627 non-null   float64\n",
      " 57  PS_Other                        2627 non-null   float64\n",
      " 58  PS_SAP                          2627 non-null   float64\n",
      " 59  TRACK_Architect                 2627 non-null   float64\n",
      " 60  TRACK_Consultant                2627 non-null   float64\n",
      " 61  TRACK_Developer                 2627 non-null   float64\n",
      " 62  TRACK_ManagementServices        2627 non-null   float64\n",
      " 63  TRACK_Project                   2627 non-null   float64\n",
      " 64  TRACK_ServiceManager            2627 non-null   float64\n",
      " 65  TRACK_Support                   2627 non-null   float64\n",
      " 66  TRACK_SystemIntegration         2627 non-null   float64\n",
      " 67  Avg_Increase                    2627 non-null   float64\n",
      "dtypes: float64(41), int64(19), object(8)\n",
      "memory usage: 1.5+ MB\n"
     ]
    }
   ],
   "source": [
    "df.drop(['Increase_2018_2019', 'Increase_2019_2020'], axis=1, inplace=True)\n",
    "df.info()"
   ]
  },
  {
   "cell_type": "code",
   "execution_count": 57,
   "metadata": {},
   "outputs": [
    {
     "data": {
      "text/plain": [
       "<matplotlib.axes._subplots.AxesSubplot at 0x21a47f65b50>"
      ]
     },
     "execution_count": 57,
     "metadata": {},
     "output_type": "execute_result"
    },
    {
     "data": {
      "image/png": "[encoded data removed]",
      "text/plain": [
       "<Figure size 432x288 with 1 Axes>"
      ]
     },
     "metadata": {},
     "output_type": "display_data"
    }
   ],
   "source": [
    "df_by_vacation = df.groupby(\"Vacation_Ratio\")[\"Churn\"].sum()\n",
    "df_by_vacation.plot()"
   ]
  },
  {
   "cell_type": "code",
   "execution_count": 58,
   "metadata": {},
   "outputs": [
    {
     "name": "stdout",
     "output_type": "stream",
     "text": [
      "Marital_CD\n",
      "1    1965\n",
      "2     512\n",
      "3     107\n",
      "4      40\n",
      "5       3\n",
      "Name: Churn, dtype: int64\n"
     ]
    }
   ],
   "source": [
    "print(df.groupby(\"Marital_CD\")[\"Churn\"].count())"
   ]
  },
  {
   "cell_type": "code",
   "execution_count": 59,
   "metadata": {},
   "outputs": [
    {
     "name": "stdout",
     "output_type": "stream",
     "text": [
      "Level\n",
      "Analyst                     631\n",
      "Consultant                  599\n",
      "Experienced Consultant      638\n",
      "Project / Technical Lead     74\n",
      "Sr. Consultant              685\n",
      "Name: Churn, dtype: int64\n"
     ]
    }
   ],
   "source": [
    "print(df.groupby(\"Level\")[\"Churn\"].count())"
   ]
  },
  {
   "cell_type": "code",
   "execution_count": 60,
   "metadata": {},
   "outputs": [
    {
     "name": "stdout",
     "output_type": "stream",
     "text": [
      "Level\n",
      "Analyst                     245.0\n",
      "Consultant                  206.0\n",
      "Experienced Consultant      195.0\n",
      "Project / Technical Lead     19.0\n",
      "Sr. Consultant              222.0\n",
      "Name: Churn, dtype: float64\n"
     ]
    }
   ],
   "source": [
    "print(df.groupby(\"Level\")[\"Churn\"].sum())"
   ]
  },
  {
   "cell_type": "code",
   "execution_count": 61,
   "metadata": {},
   "outputs": [
    {
     "data": {
      "text/plain": [
       "<matplotlib.axes._subplots.AxesSubplot at 0x21a47f6b0a0>"
      ]
     },
     "execution_count": 61,
     "metadata": {},
     "output_type": "execute_result"
    },
    {
     "data": {
      "image/png": "[encoded data removed]",
      "text/plain": [
       "<Figure size 432x288 with 1 Axes>"
      ]
     },
     "metadata": {},
     "output_type": "display_data"
    }
   ],
   "source": [
    "df_by_level = df.groupby(\"Level\")[\"Churn\"].sum()\n",
    "df_by_level.plot()"
   ]
  },
  {
   "cell_type": "markdown",
   "metadata": {},
   "source": [
    "## ENCODE de la columna LEVEL\n",
    "\n",
    "##### 1=Analyst\n",
    "##### 2=Consultant\n",
    "##### 3=ExperiencedConsultant\n",
    "##### 4=Project_TechnicalLead\n",
    "##### 5=SrConsultant\n",
    "##### 6=Managers"
   ]
  },
  {
   "cell_type": "code",
   "execution_count": 62,
   "metadata": {},
   "outputs": [
    {
     "data": {
      "text/plain": [
       "array(['Sr. Consultant', 'Experienced Consultant',\n",
       "       'Project / Technical Lead', 'Consultant', 'Analyst'], dtype=object)"
      ]
     },
     "execution_count": 62,
     "metadata": {},
     "output_type": "execute_result"
    }
   ],
   "source": [
    "df.Level.unique()"
   ]
  },
  {
   "cell_type": "code",
   "execution_count": 63,
   "metadata": {},
   "outputs": [],
   "source": [
    "# Convertimos a nombres validos para las columnas\n",
    "df.loc[df['Level'] == 'Sr. Consultant', 'Level_STD'] = 'LEVEL_SrConsultant'\n",
    "df.loc[df['Level'] == 'Experienced Consultant', 'Level_STD'] = 'LEVEL_ExperiencedConsultant'\n",
    "df.loc[df['Level'] == 'Project / Technical Lead', 'Level_STD'] = 'LEVEL_Project_TechnicalLead'\n",
    "df.loc[df['Level'] == 'Analyst', 'Level_STD'] = 'LEVEL_Analyst'\n",
    "df.loc[df['Level'] == 'Consultant', 'Level_STD'] = 'LEVEL_Consultant'\n",
    "df.loc[df['Level'] == 'Associate Director', 'Level_STD'] = 'LEVEL_Managers'\n",
    "df.loc[df['Level'] == 'Manager / Master', 'Level_STD'] = 'LEVEL_Managers'\n",
    "df.loc[df['Level'] == 'Sr. Manager / SME', 'Level_STD'] = 'LEVEL_Managers'"
   ]
  },
  {
   "cell_type": "code",
   "execution_count": 64,
   "metadata": {},
   "outputs": [
    {
     "name": "stdout",
     "output_type": "stream",
     "text": [
      "<class 'pandas.core.frame.DataFrame'>\n",
      "Int64Index: 2627 entries, 1 to 3428\n",
      "Data columns (total 69 columns):\n",
      " #   Column                          Non-Null Count  Dtype  \n",
      "---  ------                          --------------  -----  \n",
      " 0   ID_Country                      2627 non-null   int64  \n",
      " 1   Country                         2627 non-null   object \n",
      " 2   Employee_Pay_ST                 2627 non-null   object \n",
      " 3   Level_Cat                       2627 non-null   int64  \n",
      " 4   Level                           2627 non-null   object \n",
      " 5   Termination_Reason              2627 non-null   object \n",
      " 6   Edad                            2627 non-null   int64  \n",
      " 7   Marital_CD                      2627 non-null   int64  \n",
      " 8   SBR_AMT                         2627 non-null   float64\n",
      " 9   SCR_AMT                         2627 non-null   float64\n",
      " 10  Region                          2562 non-null   float64\n",
      " 11  Office                          2627 non-null   int64  \n",
      " 12  Area                            2627 non-null   int64  \n",
      " 13  Division                        2627 non-null   int64  \n",
      " 14  Department_CD                   2627 non-null   int64  \n",
      " 15  Department                      2627 non-null   object \n",
      " 16  Billiability                    2627 non-null   int64  \n",
      " 17  Technology                      2627 non-null   int64  \n",
      " 18  Business_Unit                   2627 non-null   int64  \n",
      " 19  Std_Hrs_Week                    2627 non-null   float64\n",
      " 20  Months_Worked                   2627 non-null   int64  \n",
      " 21  Level_Cat.1                     2627 non-null   int64  \n",
      " 22  Vacation_Ratio                  2627 non-null   float64\n",
      " 23  Number_Unique_Projects          2627 non-null   int64  \n",
      " 24  Number_Unique_Project_Type      2627 non-null   int64  \n",
      " 25  Abscence_Projects               2627 non-null   float64\n",
      " 26  Administrative_Functions        2627 non-null   float64\n",
      " 27  Awaiting_Projects               2627 non-null   float64\n",
      " 28  Billable_Projects               2627 non-null   float64\n",
      " 29  Corporate_Funded_Projects       2627 non-null   float64\n",
      " 30  Cost_Centers                    2627 non-null   float64\n",
      " 31  Indirect_Cost_Centers           2627 non-null   int64  \n",
      " 32  Internal_Investment_Projects    2627 non-null   float64\n",
      " 33  Internal_Programs               2627 non-null   float64\n",
      " 34  Proposals                       2627 non-null   float64\n",
      " 35  Proposals_General               2627 non-null   float64\n",
      " 36  Training_Programs               2627 non-null   float64\n",
      " 37  Bonus_2018                      2547 non-null   float64\n",
      " 38  Bonus_2019                      2547 non-null   float64\n",
      " 39  Course_Viewed                   2627 non-null   float64\n",
      " 40  Logs_Course_Viewed              2627 non-null   float64\n",
      " 41  Logs_Global_Campus              2627 non-null   float64\n",
      " 42  Media_hora_curso                2627 non-null   float64\n",
      " 43  Estado                          2547 non-null   object \n",
      " 44  Total_number_received_Feedback  2627 non-null   float64\n",
      " 45  Performance_feedback_AVG        2627 non-null   float64\n",
      " 46  Performance_Level_CD            2627 non-null   int64  \n",
      " 47  Performance_Level               2627 non-null   object \n",
      " 48  Potential_Level_CD              2627 non-null   int64  \n",
      " 49  Potential_Level                 2627 non-null   object \n",
      " 50  TotalNumberOfficeEmployees      2627 non-null   int64  \n",
      " 51  Churn                           2627 non-null   float64\n",
      " 52  PS_App                          2627 non-null   float64\n",
      " 53  PS_JAVA                         2627 non-null   float64\n",
      " 54  PS_NetDeveloper                 2627 non-null   float64\n",
      " 55  PS_OtherAdministrativeSkills    2627 non-null   float64\n",
      " 56  PS_OtherTechnicalSkills         2627 non-null   float64\n",
      " 57  PS_Other                        2627 non-null   float64\n",
      " 58  PS_SAP                          2627 non-null   float64\n",
      " 59  TRACK_Architect                 2627 non-null   float64\n",
      " 60  TRACK_Consultant                2627 non-null   float64\n",
      " 61  TRACK_Developer                 2627 non-null   float64\n",
      " 62  TRACK_ManagementServices        2627 non-null   float64\n",
      " 63  TRACK_Project                   2627 non-null   float64\n",
      " 64  TRACK_ServiceManager            2627 non-null   float64\n",
      " 65  TRACK_Support                   2627 non-null   float64\n",
      " 66  TRACK_SystemIntegration         2627 non-null   float64\n",
      " 67  Avg_Increase                    2627 non-null   float64\n",
      " 68  Level_STD                       2627 non-null   object \n",
      "dtypes: float64(41), int64(19), object(9)\n",
      "memory usage: 1.5+ MB\n"
     ]
    }
   ],
   "source": [
    "df.info()"
   ]
  },
  {
   "cell_type": "code",
   "execution_count": 65,
   "metadata": {},
   "outputs": [],
   "source": [
    "DropColumns = ['Level','Level_Cat','Level_Cat.1']\n",
    "df.drop(DropColumns, axis=1, inplace=True)"
   ]
  },
  {
   "cell_type": "code",
   "execution_count": 66,
   "metadata": {},
   "outputs": [
    {
     "data": {
      "text/plain": [
       "array(['LEVEL_SrConsultant', 'LEVEL_ExperiencedConsultant',\n",
       "       'LEVEL_Project_TechnicalLead', 'LEVEL_Consultant', 'LEVEL_Analyst'],\n",
       "      dtype=object)"
      ]
     },
     "execution_count": 66,
     "metadata": {},
     "output_type": "execute_result"
    }
   ],
   "source": [
    "df.Level_STD.unique()"
   ]
  },
  {
   "cell_type": "code",
   "execution_count": 67,
   "metadata": {},
   "outputs": [
    {
     "data": {
      "text/plain": [
       "[array(['LEVEL_Analyst', 'LEVEL_Consultant', 'LEVEL_ExperiencedConsultant',\n",
       "        'LEVEL_Project_TechnicalLead', 'LEVEL_SrConsultant'], dtype=object)]"
      ]
     },
     "execution_count": 67,
     "metadata": {},
     "output_type": "execute_result"
    }
   ],
   "source": [
    "from sklearn.preprocessing import OneHotEncoder\n",
    "enc = OneHotEncoder(sparse='False')\n",
    "enc_df = pd.DataFrame(enc.fit_transform(df[['Level_STD']]).toarray(),\n",
    "                     columns=['LEVEL_Analyst', 'LEVEL_Consultant', 'LEVEL_ExperiencedConsultant',\n",
    "        'LEVEL_Project_TechnicalLead', 'LEVEL_SrConsultant'])\n",
    "enc.categories_  "
   ]
  },
  {
   "cell_type": "code",
   "execution_count": 68,
   "metadata": {},
   "outputs": [
    {
     "name": "stdout",
     "output_type": "stream",
     "text": [
      "<class 'pandas.core.frame.DataFrame'>\n",
      "RangeIndex: 2627 entries, 0 to 2626\n",
      "Data columns (total 5 columns):\n",
      " #   Column                       Non-Null Count  Dtype  \n",
      "---  ------                       --------------  -----  \n",
      " 0   LEVEL_Analyst                2627 non-null   float64\n",
      " 1   LEVEL_Consultant             2627 non-null   float64\n",
      " 2   LEVEL_ExperiencedConsultant  2627 non-null   float64\n",
      " 3   LEVEL_Project_TechnicalLead  2627 non-null   float64\n",
      " 4   LEVEL_SrConsultant           2627 non-null   float64\n",
      "dtypes: float64(5)\n",
      "memory usage: 102.7 KB\n"
     ]
    }
   ],
   "source": [
    "enc_df.info()"
   ]
  },
  {
   "cell_type": "code",
   "execution_count": 69,
   "metadata": {},
   "outputs": [],
   "source": [
    "df = df.join(enc_df.set_index(df.index))"
   ]
  },
  {
   "cell_type": "code",
   "execution_count": 70,
   "metadata": {},
   "outputs": [],
   "source": [
    "# Descomentar las siguientes 2 líneas para eliminar las columnas reemplazadas por las transpuestas con ENCODE\n",
    "columnas_drop=['Level_STD']\n",
    "df.drop(columnas_drop, axis=1, inplace=True)"
   ]
  },
  {
   "cell_type": "code",
   "execution_count": 71,
   "metadata": {},
   "outputs": [
    {
     "data": {
      "text/html": [
       "<div>\n",
       "<style scoped>\n",
       "    .dataframe tbody tr th:only-of-type {\n",
       "        vertical-align: middle;\n",
       "    }\n",
       "\n",
       "    .dataframe tbody tr th {\n",
       "        vertical-align: top;\n",
       "    }\n",
       "\n",
       "    .dataframe thead th {\n",
       "        text-align: right;\n",
       "    }\n",
       "</style>\n",
       "<table border=\"1\" class=\"dataframe\">\n",
       "  <thead>\n",
       "    <tr style=\"text-align: right;\">\n",
       "      <th></th>\n",
       "      <th>ID_Country</th>\n",
       "      <th>Country</th>\n",
       "      <th>Employee_Pay_ST</th>\n",
       "      <th>Termination_Reason</th>\n",
       "      <th>Edad</th>\n",
       "      <th>Marital_CD</th>\n",
       "      <th>SBR_AMT</th>\n",
       "      <th>SCR_AMT</th>\n",
       "      <th>Region</th>\n",
       "      <th>Office</th>\n",
       "      <th>...</th>\n",
       "      <th>TRACK_Project</th>\n",
       "      <th>TRACK_ServiceManager</th>\n",
       "      <th>TRACK_Support</th>\n",
       "      <th>TRACK_SystemIntegration</th>\n",
       "      <th>Avg_Increase</th>\n",
       "      <th>LEVEL_Analyst</th>\n",
       "      <th>LEVEL_Consultant</th>\n",
       "      <th>LEVEL_ExperiencedConsultant</th>\n",
       "      <th>LEVEL_Project_TechnicalLead</th>\n",
       "      <th>LEVEL_SrConsultant</th>\n",
       "    </tr>\n",
       "  </thead>\n",
       "  <tbody>\n",
       "    <tr>\n",
       "      <th>1</th>\n",
       "      <td>2</td>\n",
       "      <td>MX</td>\n",
       "      <td>Active</td>\n",
       "      <td>Still Active</td>\n",
       "      <td>54</td>\n",
       "      <td>2</td>\n",
       "      <td>79.21</td>\n",
       "      <td>22.58</td>\n",
       "      <td>14.0</td>\n",
       "      <td>33</td>\n",
       "      <td>...</td>\n",
       "      <td>0.0</td>\n",
       "      <td>0.0</td>\n",
       "      <td>0.0</td>\n",
       "      <td>0.0</td>\n",
       "      <td>10.0</td>\n",
       "      <td>0.0</td>\n",
       "      <td>0.0</td>\n",
       "      <td>0.0</td>\n",
       "      <td>0.0</td>\n",
       "      <td>1.0</td>\n",
       "    </tr>\n",
       "    <tr>\n",
       "      <th>3</th>\n",
       "      <td>2</td>\n",
       "      <td>MX</td>\n",
       "      <td>Active</td>\n",
       "      <td>Still Active</td>\n",
       "      <td>49</td>\n",
       "      <td>2</td>\n",
       "      <td>42.00</td>\n",
       "      <td>12.00</td>\n",
       "      <td>14.0</td>\n",
       "      <td>33</td>\n",
       "      <td>...</td>\n",
       "      <td>0.0</td>\n",
       "      <td>0.0</td>\n",
       "      <td>0.0</td>\n",
       "      <td>0.0</td>\n",
       "      <td>10.0</td>\n",
       "      <td>0.0</td>\n",
       "      <td>0.0</td>\n",
       "      <td>1.0</td>\n",
       "      <td>0.0</td>\n",
       "      <td>0.0</td>\n",
       "    </tr>\n",
       "    <tr>\n",
       "      <th>6</th>\n",
       "      <td>2</td>\n",
       "      <td>MX</td>\n",
       "      <td>Active</td>\n",
       "      <td>Still Active</td>\n",
       "      <td>47</td>\n",
       "      <td>2</td>\n",
       "      <td>103.30</td>\n",
       "      <td>29.50</td>\n",
       "      <td>15.0</td>\n",
       "      <td>33</td>\n",
       "      <td>...</td>\n",
       "      <td>1.0</td>\n",
       "      <td>0.0</td>\n",
       "      <td>0.0</td>\n",
       "      <td>0.0</td>\n",
       "      <td>10.0</td>\n",
       "      <td>0.0</td>\n",
       "      <td>0.0</td>\n",
       "      <td>0.0</td>\n",
       "      <td>1.0</td>\n",
       "      <td>0.0</td>\n",
       "    </tr>\n",
       "    <tr>\n",
       "      <th>9</th>\n",
       "      <td>2</td>\n",
       "      <td>MX</td>\n",
       "      <td>Active</td>\n",
       "      <td>Still Active</td>\n",
       "      <td>47</td>\n",
       "      <td>2</td>\n",
       "      <td>146.60</td>\n",
       "      <td>41.90</td>\n",
       "      <td>15.0</td>\n",
       "      <td>33</td>\n",
       "      <td>...</td>\n",
       "      <td>0.0</td>\n",
       "      <td>0.0</td>\n",
       "      <td>0.0</td>\n",
       "      <td>0.0</td>\n",
       "      <td>10.0</td>\n",
       "      <td>0.0</td>\n",
       "      <td>0.0</td>\n",
       "      <td>0.0</td>\n",
       "      <td>0.0</td>\n",
       "      <td>1.0</td>\n",
       "    </tr>\n",
       "    <tr>\n",
       "      <th>28</th>\n",
       "      <td>2</td>\n",
       "      <td>MX</td>\n",
       "      <td>Active</td>\n",
       "      <td>Still Active</td>\n",
       "      <td>47</td>\n",
       "      <td>2</td>\n",
       "      <td>115.30</td>\n",
       "      <td>32.90</td>\n",
       "      <td>15.0</td>\n",
       "      <td>33</td>\n",
       "      <td>...</td>\n",
       "      <td>0.0</td>\n",
       "      <td>0.0</td>\n",
       "      <td>0.0</td>\n",
       "      <td>0.0</td>\n",
       "      <td>10.0</td>\n",
       "      <td>0.0</td>\n",
       "      <td>0.0</td>\n",
       "      <td>0.0</td>\n",
       "      <td>0.0</td>\n",
       "      <td>1.0</td>\n",
       "    </tr>\n",
       "  </tbody>\n",
       "</table>\n",
       "<p>5 rows × 70 columns</p>\n",
       "</div>"
      ],
      "text/plain": [
       "    ID_Country Country Employee_Pay_ST Termination_Reason  Edad  Marital_CD  \\\n",
       "1            2      MX          Active       Still Active    54           2   \n",
       "3            2      MX          Active       Still Active    49           2   \n",
       "6            2      MX          Active       Still Active    47           2   \n",
       "9            2      MX          Active       Still Active    47           2   \n",
       "28           2      MX          Active       Still Active    47           2   \n",
       "\n",
       "    SBR_AMT  SCR_AMT  Region  Office  ...  TRACK_Project  \\\n",
       "1     79.21    22.58    14.0      33  ...            0.0   \n",
       "3     42.00    12.00    14.0      33  ...            0.0   \n",
       "6    103.30    29.50    15.0      33  ...            1.0   \n",
       "9    146.60    41.90    15.0      33  ...            0.0   \n",
       "28   115.30    32.90    15.0      33  ...            0.0   \n",
       "\n",
       "    TRACK_ServiceManager  TRACK_Support TRACK_SystemIntegration  Avg_Increase  \\\n",
       "1                    0.0            0.0                     0.0          10.0   \n",
       "3                    0.0            0.0                     0.0          10.0   \n",
       "6                    0.0            0.0                     0.0          10.0   \n",
       "9                    0.0            0.0                     0.0          10.0   \n",
       "28                   0.0            0.0                     0.0          10.0   \n",
       "\n",
       "    LEVEL_Analyst  LEVEL_Consultant  LEVEL_ExperiencedConsultant  \\\n",
       "1             0.0               0.0                          0.0   \n",
       "3             0.0               0.0                          1.0   \n",
       "6             0.0               0.0                          0.0   \n",
       "9             0.0               0.0                          0.0   \n",
       "28            0.0               0.0                          0.0   \n",
       "\n",
       "    LEVEL_Project_TechnicalLead  LEVEL_SrConsultant  \n",
       "1                           0.0                 1.0  \n",
       "3                           0.0                 0.0  \n",
       "6                           1.0                 0.0  \n",
       "9                           0.0                 1.0  \n",
       "28                          0.0                 1.0  \n",
       "\n",
       "[5 rows x 70 columns]"
      ]
     },
     "execution_count": 71,
     "metadata": {},
     "output_type": "execute_result"
    }
   ],
   "source": [
    "df.head()"
   ]
  },
  {
   "cell_type": "code",
   "execution_count": 72,
   "metadata": {},
   "outputs": [
    {
     "name": "stdout",
     "output_type": "stream",
     "text": [
      "Termination_Reason\n",
      "Still Active                     1740\n",
      "Vol - Compensation & Benefits     148\n",
      "Vol - Job Abandonment               1\n",
      "Vol - Other                        38\n",
      "Vol - Personal                    126\n",
      "Vol - Project Discomfort           97\n",
      "Vol - Supervisor / Leadership       9\n",
      "Vol - Training & Career Dev       451\n",
      "Vol - Transfer NEORIS Office        2\n",
      "Vol - Transfer to CEMEX             9\n",
      "Vol - Transfer to client            5\n",
      "Vol - Work Environment              1\n",
      "Name: Churn, dtype: int64\n"
     ]
    }
   ],
   "source": [
    "print(df.groupby(\"Termination_Reason\")[\"Churn\"].count())"
   ]
  },
  {
   "cell_type": "code",
   "execution_count": 73,
   "metadata": {},
   "outputs": [
    {
     "data": {
      "text/plain": [
       "array(['V_StillActive', 'V_TrainingAndCareer', 'V_OtherReasons',\n",
       "       'V_ProjectDiscomfort', 'V_Personal', 'V_CompensationAndBenefits'],\n",
       "      dtype=object)"
      ]
     },
     "execution_count": 73,
     "metadata": {},
     "output_type": "execute_result"
    }
   ],
   "source": [
    "df['Termination_Code'] = df['Termination_Reason']\n",
    "df['Termination_Code'] = df['Termination_Code'].replace(['Still Active','Vol - Compensation & Benefits','Vol - Personal','Vol - Project Discomfort','Vol - Training & Career Dev'],['V_StillActive','V_CompensationAndBenefits','V_Personal','V_ProjectDiscomfort','V_TrainingAndCareer'])\n",
    "df['Termination_Code'] = df['Termination_Code'].replace(['Vol - Job Abandonment','Vol - Supervisor / Leadership','Vol - Other','Vol - Transfer NEORIS Office','Vol - Transfer to CEMEX','Vol - Transfer to client', 'Vol - Work Environment'],'V_OtherReasons')\n",
    "df['Termination_Code'].unique()"
   ]
  },
  {
   "cell_type": "code",
   "execution_count": 74,
   "metadata": {},
   "outputs": [
    {
     "data": {
      "text/plain": [
       "[array(['V_CompensationAndBenefits', 'V_OtherReasons', 'V_Personal',\n",
       "        'V_ProjectDiscomfort', 'V_StillActive', 'V_TrainingAndCareer'],\n",
       "       dtype=object)]"
      ]
     },
     "execution_count": 74,
     "metadata": {},
     "output_type": "execute_result"
    }
   ],
   "source": [
    "from sklearn.preprocessing import OneHotEncoder\n",
    "enc = OneHotEncoder(sparse='False')\n",
    "enc_df = pd.DataFrame(enc.fit_transform(df[['Termination_Code']]).toarray(),\n",
    "                     columns=['V_OtherReasons', 'V_CompensationAndBenefits', 'V_Personal',\n",
    "        'V_ProjectDiscomfort', 'V_StillActive', 'V_TrainingAndCareer'])\n",
    "enc.categories_  "
   ]
  },
  {
   "cell_type": "code",
   "execution_count": 75,
   "metadata": {},
   "outputs": [
    {
     "name": "stdout",
     "output_type": "stream",
     "text": [
      "<class 'pandas.core.frame.DataFrame'>\n",
      "RangeIndex: 2627 entries, 0 to 2626\n",
      "Data columns (total 6 columns):\n",
      " #   Column                     Non-Null Count  Dtype  \n",
      "---  ------                     --------------  -----  \n",
      " 0   V_OtherReasons             2627 non-null   float64\n",
      " 1   V_CompensationAndBenefits  2627 non-null   float64\n",
      " 2   V_Personal                 2627 non-null   float64\n",
      " 3   V_ProjectDiscomfort        2627 non-null   float64\n",
      " 4   V_StillActive              2627 non-null   float64\n",
      " 5   V_TrainingAndCareer        2627 non-null   float64\n",
      "dtypes: float64(6)\n",
      "memory usage: 123.3 KB\n"
     ]
    }
   ],
   "source": [
    "enc_df.info()"
   ]
  },
  {
   "cell_type": "code",
   "execution_count": 76,
   "metadata": {},
   "outputs": [],
   "source": [
    "df = df.join(enc_df.set_index(df.index))"
   ]
  },
  {
   "cell_type": "code",
   "execution_count": 77,
   "metadata": {},
   "outputs": [],
   "source": [
    "# Descomentar las siguientes 2 líneas para eliminar las columnas reemplazadas por las transpuestas con ENCODE\n",
    "columnas_drop=['Termination_Code']\n",
    "df.drop(columnas_drop, axis=1, inplace=True)"
   ]
  },
  {
   "cell_type": "code",
   "execution_count": 78,
   "metadata": {},
   "outputs": [
    {
     "data": {
      "text/html": [
       "<div>\n",
       "<style scoped>\n",
       "    .dataframe tbody tr th:only-of-type {\n",
       "        vertical-align: middle;\n",
       "    }\n",
       "\n",
       "    .dataframe tbody tr th {\n",
       "        vertical-align: top;\n",
       "    }\n",
       "\n",
       "    .dataframe thead th {\n",
       "        text-align: right;\n",
       "    }\n",
       "</style>\n",
       "<table border=\"1\" class=\"dataframe\">\n",
       "  <thead>\n",
       "    <tr style=\"text-align: right;\">\n",
       "      <th></th>\n",
       "      <th>ID_Country</th>\n",
       "      <th>Country</th>\n",
       "      <th>Employee_Pay_ST</th>\n",
       "      <th>Termination_Reason</th>\n",
       "      <th>Edad</th>\n",
       "      <th>Marital_CD</th>\n",
       "      <th>SBR_AMT</th>\n",
       "      <th>SCR_AMT</th>\n",
       "      <th>Region</th>\n",
       "      <th>Office</th>\n",
       "      <th>...</th>\n",
       "      <th>LEVEL_Consultant</th>\n",
       "      <th>LEVEL_ExperiencedConsultant</th>\n",
       "      <th>LEVEL_Project_TechnicalLead</th>\n",
       "      <th>LEVEL_SrConsultant</th>\n",
       "      <th>V_OtherReasons</th>\n",
       "      <th>V_CompensationAndBenefits</th>\n",
       "      <th>V_Personal</th>\n",
       "      <th>V_ProjectDiscomfort</th>\n",
       "      <th>V_StillActive</th>\n",
       "      <th>V_TrainingAndCareer</th>\n",
       "    </tr>\n",
       "  </thead>\n",
       "  <tbody>\n",
       "    <tr>\n",
       "      <th>1</th>\n",
       "      <td>2</td>\n",
       "      <td>MX</td>\n",
       "      <td>Active</td>\n",
       "      <td>Still Active</td>\n",
       "      <td>54</td>\n",
       "      <td>2</td>\n",
       "      <td>79.21</td>\n",
       "      <td>22.58</td>\n",
       "      <td>14.0</td>\n",
       "      <td>33</td>\n",
       "      <td>...</td>\n",
       "      <td>0.0</td>\n",
       "      <td>0.0</td>\n",
       "      <td>0.0</td>\n",
       "      <td>1.0</td>\n",
       "      <td>0.0</td>\n",
       "      <td>0.0</td>\n",
       "      <td>0.0</td>\n",
       "      <td>0.0</td>\n",
       "      <td>1.0</td>\n",
       "      <td>0.0</td>\n",
       "    </tr>\n",
       "    <tr>\n",
       "      <th>3</th>\n",
       "      <td>2</td>\n",
       "      <td>MX</td>\n",
       "      <td>Active</td>\n",
       "      <td>Still Active</td>\n",
       "      <td>49</td>\n",
       "      <td>2</td>\n",
       "      <td>42.00</td>\n",
       "      <td>12.00</td>\n",
       "      <td>14.0</td>\n",
       "      <td>33</td>\n",
       "      <td>...</td>\n",
       "      <td>0.0</td>\n",
       "      <td>1.0</td>\n",
       "      <td>0.0</td>\n",
       "      <td>0.0</td>\n",
       "      <td>0.0</td>\n",
       "      <td>0.0</td>\n",
       "      <td>0.0</td>\n",
       "      <td>0.0</td>\n",
       "      <td>1.0</td>\n",
       "      <td>0.0</td>\n",
       "    </tr>\n",
       "    <tr>\n",
       "      <th>6</th>\n",
       "      <td>2</td>\n",
       "      <td>MX</td>\n",
       "      <td>Active</td>\n",
       "      <td>Still Active</td>\n",
       "      <td>47</td>\n",
       "      <td>2</td>\n",
       "      <td>103.30</td>\n",
       "      <td>29.50</td>\n",
       "      <td>15.0</td>\n",
       "      <td>33</td>\n",
       "      <td>...</td>\n",
       "      <td>0.0</td>\n",
       "      <td>0.0</td>\n",
       "      <td>1.0</td>\n",
       "      <td>0.0</td>\n",
       "      <td>0.0</td>\n",
       "      <td>0.0</td>\n",
       "      <td>0.0</td>\n",
       "      <td>0.0</td>\n",
       "      <td>1.0</td>\n",
       "      <td>0.0</td>\n",
       "    </tr>\n",
       "    <tr>\n",
       "      <th>9</th>\n",
       "      <td>2</td>\n",
       "      <td>MX</td>\n",
       "      <td>Active</td>\n",
       "      <td>Still Active</td>\n",
       "      <td>47</td>\n",
       "      <td>2</td>\n",
       "      <td>146.60</td>\n",
       "      <td>41.90</td>\n",
       "      <td>15.0</td>\n",
       "      <td>33</td>\n",
       "      <td>...</td>\n",
       "      <td>0.0</td>\n",
       "      <td>0.0</td>\n",
       "      <td>0.0</td>\n",
       "      <td>1.0</td>\n",
       "      <td>0.0</td>\n",
       "      <td>0.0</td>\n",
       "      <td>0.0</td>\n",
       "      <td>0.0</td>\n",
       "      <td>1.0</td>\n",
       "      <td>0.0</td>\n",
       "    </tr>\n",
       "    <tr>\n",
       "      <th>28</th>\n",
       "      <td>2</td>\n",
       "      <td>MX</td>\n",
       "      <td>Active</td>\n",
       "      <td>Still Active</td>\n",
       "      <td>47</td>\n",
       "      <td>2</td>\n",
       "      <td>115.30</td>\n",
       "      <td>32.90</td>\n",
       "      <td>15.0</td>\n",
       "      <td>33</td>\n",
       "      <td>...</td>\n",
       "      <td>0.0</td>\n",
       "      <td>0.0</td>\n",
       "      <td>0.0</td>\n",
       "      <td>1.0</td>\n",
       "      <td>0.0</td>\n",
       "      <td>0.0</td>\n",
       "      <td>0.0</td>\n",
       "      <td>0.0</td>\n",
       "      <td>1.0</td>\n",
       "      <td>0.0</td>\n",
       "    </tr>\n",
       "  </tbody>\n",
       "</table>\n",
       "<p>5 rows × 76 columns</p>\n",
       "</div>"
      ],
      "text/plain": [
       "    ID_Country Country Employee_Pay_ST Termination_Reason  Edad  Marital_CD  \\\n",
       "1            2      MX          Active       Still Active    54           2   \n",
       "3            2      MX          Active       Still Active    49           2   \n",
       "6            2      MX          Active       Still Active    47           2   \n",
       "9            2      MX          Active       Still Active    47           2   \n",
       "28           2      MX          Active       Still Active    47           2   \n",
       "\n",
       "    SBR_AMT  SCR_AMT  Region  Office  ...  LEVEL_Consultant  \\\n",
       "1     79.21    22.58    14.0      33  ...               0.0   \n",
       "3     42.00    12.00    14.0      33  ...               0.0   \n",
       "6    103.30    29.50    15.0      33  ...               0.0   \n",
       "9    146.60    41.90    15.0      33  ...               0.0   \n",
       "28   115.30    32.90    15.0      33  ...               0.0   \n",
       "\n",
       "    LEVEL_ExperiencedConsultant  LEVEL_Project_TechnicalLead  \\\n",
       "1                           0.0                          0.0   \n",
       "3                           1.0                          0.0   \n",
       "6                           0.0                          1.0   \n",
       "9                           0.0                          0.0   \n",
       "28                          0.0                          0.0   \n",
       "\n",
       "   LEVEL_SrConsultant  V_OtherReasons  V_CompensationAndBenefits  V_Personal  \\\n",
       "1                 1.0             0.0                        0.0         0.0   \n",
       "3                 0.0             0.0                        0.0         0.0   \n",
       "6                 0.0             0.0                        0.0         0.0   \n",
       "9                 1.0             0.0                        0.0         0.0   \n",
       "28                1.0             0.0                        0.0         0.0   \n",
       "\n",
       "    V_ProjectDiscomfort  V_StillActive  V_TrainingAndCareer  \n",
       "1                   0.0            1.0                  0.0  \n",
       "3                   0.0            1.0                  0.0  \n",
       "6                   0.0            1.0                  0.0  \n",
       "9                   0.0            1.0                  0.0  \n",
       "28                  0.0            1.0                  0.0  \n",
       "\n",
       "[5 rows x 76 columns]"
      ]
     },
     "execution_count": 78,
     "metadata": {},
     "output_type": "execute_result"
    }
   ],
   "source": [
    "df.head()"
   ]
  },
  {
   "cell_type": "code",
   "execution_count": 79,
   "metadata": {},
   "outputs": [],
   "source": [
    "DropColumns = ['Country','Employee_Pay_ST','Department','Estado','Performance_Level','Potential_Level']\n",
    "df.drop(DropColumns, axis=1, inplace=True)"
   ]
  },
  {
   "cell_type": "code",
   "execution_count": 80,
   "metadata": {},
   "outputs": [
    {
     "data": {
      "text/plain": [
       "array([0, 5, 6, 3, 2, 1], dtype=int64)"
      ]
     },
     "execution_count": 80,
     "metadata": {},
     "output_type": "execute_result"
    }
   ],
   "source": [
    "df['Termination_Code'] = df['Termination_Reason']\n",
    "df['Termination_Code'] = df['Termination_Code'].replace(['Still Active','Vol - Compensation & Benefits','Vol - Personal','Vol - Project Discomfort','Vol - Training & Career Dev'],[0,1,2,3,5])\n",
    "df['Termination_Code'] = df['Termination_Code'].replace(['Vol - Job Abandonment','Vol - Supervisor / Leadership','Vol - Other','Vol - Transfer NEORIS Office','Vol - Transfer to CEMEX','Vol - Transfer to client', 'Vol - Work Environment'],6)\n",
    "df.drop(['Termination_Reason'], axis=1, inplace=True)\n",
    "df['Termination_Code'].unique()"
   ]
  },
  {
   "cell_type": "code",
   "execution_count": 81,
   "metadata": {},
   "outputs": [
    {
     "name": "stdout",
     "output_type": "stream",
     "text": [
      "<class 'pandas.core.frame.DataFrame'>\n",
      "Int64Index: 2627 entries, 1 to 3428\n",
      "Data columns (total 70 columns):\n",
      " #   Column                          Non-Null Count  Dtype  \n",
      "---  ------                          --------------  -----  \n",
      " 0   ID_Country                      2627 non-null   int64  \n",
      " 1   Edad                            2627 non-null   int64  \n",
      " 2   Marital_CD                      2627 non-null   int64  \n",
      " 3   SBR_AMT                         2627 non-null   float64\n",
      " 4   SCR_AMT                         2627 non-null   float64\n",
      " 5   Region                          2627 non-null   float64\n",
      " 6   Office                          2627 non-null   int64  \n",
      " 7   Area                            2627 non-null   int64  \n",
      " 8   Division                        2627 non-null   int64  \n",
      " 9   Department_CD                   2627 non-null   int64  \n",
      " 10  Billiability                    2627 non-null   int64  \n",
      " 11  Technology                      2627 non-null   int64  \n",
      " 12  Business_Unit                   2627 non-null   int64  \n",
      " 13  Std_Hrs_Week                    2627 non-null   float64\n",
      " 14  Months_Worked                   2627 non-null   int64  \n",
      " 15  Vacation_Ratio                  2627 non-null   float64\n",
      " 16  Number_Unique_Projects          2627 non-null   int64  \n",
      " 17  Number_Unique_Project_Type      2627 non-null   int64  \n",
      " 18  Abscence_Projects               2627 non-null   float64\n",
      " 19  Administrative_Functions        2627 non-null   float64\n",
      " 20  Awaiting_Projects               2627 non-null   float64\n",
      " 21  Billable_Projects               2627 non-null   float64\n",
      " 22  Corporate_Funded_Projects       2627 non-null   float64\n",
      " 23  Cost_Centers                    2627 non-null   float64\n",
      " 24  Indirect_Cost_Centers           2627 non-null   int64  \n",
      " 25  Internal_Investment_Projects    2627 non-null   float64\n",
      " 26  Internal_Programs               2627 non-null   float64\n",
      " 27  Proposals                       2627 non-null   float64\n",
      " 28  Proposals_General               2627 non-null   float64\n",
      " 29  Training_Programs               2627 non-null   float64\n",
      " 30  Bonus_2018                      2627 non-null   float64\n",
      " 31  Bonus_2019                      2627 non-null   float64\n",
      " 32  Course_Viewed                   2627 non-null   float64\n",
      " 33  Logs_Course_Viewed              2627 non-null   float64\n",
      " 34  Logs_Global_Campus              2627 non-null   float64\n",
      " 35  Media_hora_curso                2627 non-null   float64\n",
      " 36  Total_number_received_Feedback  2627 non-null   float64\n",
      " 37  Performance_feedback_AVG        2627 non-null   float64\n",
      " 38  Performance_Level_CD            2627 non-null   int64  \n",
      " 39  Potential_Level_CD              2627 non-null   int64  \n",
      " 40  TotalNumberOfficeEmployees      2627 non-null   int64  \n",
      " 41  Churn                           2627 non-null   float64\n",
      " 42  PS_App                          2627 non-null   float64\n",
      " 43  PS_JAVA                         2627 non-null   float64\n",
      " 44  PS_NetDeveloper                 2627 non-null   float64\n",
      " 45  PS_OtherAdministrativeSkills    2627 non-null   float64\n",
      " 46  PS_OtherTechnicalSkills         2627 non-null   float64\n",
      " 47  PS_Other                        2627 non-null   float64\n",
      " 48  PS_SAP                          2627 non-null   float64\n",
      " 49  TRACK_Architect                 2627 non-null   float64\n",
      " 50  TRACK_Consultant                2627 non-null   float64\n",
      " 51  TRACK_Developer                 2627 non-null   float64\n",
      " 52  TRACK_ManagementServices        2627 non-null   float64\n",
      " 53  TRACK_Project                   2627 non-null   float64\n",
      " 54  TRACK_ServiceManager            2627 non-null   float64\n",
      " 55  TRACK_Support                   2627 non-null   float64\n",
      " 56  TRACK_SystemIntegration         2627 non-null   float64\n",
      " 57  Avg_Increase                    2627 non-null   float64\n",
      " 58  LEVEL_Analyst                   2627 non-null   float64\n",
      " 59  LEVEL_Consultant                2627 non-null   float64\n",
      " 60  LEVEL_ExperiencedConsultant     2627 non-null   float64\n",
      " 61  LEVEL_Project_TechnicalLead     2627 non-null   float64\n",
      " 62  LEVEL_SrConsultant              2627 non-null   float64\n",
      " 63  V_OtherReasons                  2627 non-null   float64\n",
      " 64  V_CompensationAndBenefits       2627 non-null   float64\n",
      " 65  V_Personal                      2627 non-null   float64\n",
      " 66  V_ProjectDiscomfort             2627 non-null   float64\n",
      " 67  V_StillActive                   2627 non-null   float64\n",
      " 68  V_TrainingAndCareer             2627 non-null   float64\n",
      " 69  Termination_Code                2627 non-null   int64  \n",
      "dtypes: float64(52), int64(18)\n",
      "memory usage: 1.5 MB\n"
     ]
    }
   ],
   "source": [
    "fill_nan_cols = ['Region', 'Bonus_2018', 'Bonus_2019']\n",
    "df[fill_nan_cols] = df[fill_nan_cols].fillna(0)\n",
    "df.info()"
   ]
  },
  {
   "cell_type": "code",
   "execution_count": 82,
   "metadata": {},
   "outputs": [],
   "source": [
    "X,y = df.drop(['Churn'], axis = 1), df.Churn"
   ]
  },
  {
   "cell_type": "code",
   "execution_count": 83,
   "metadata": {},
   "outputs": [
    {
     "data": {
      "text/plain": [
       "887.0"
      ]
     },
     "execution_count": 83,
     "metadata": {},
     "output_type": "execute_result"
    }
   ],
   "source": [
    "y.sum()"
   ]
  },
  {
   "cell_type": "code",
   "execution_count": 84,
   "metadata": {},
   "outputs": [],
   "source": [
    "model = DecisionTreeClassifier()"
   ]
  },
  {
   "cell_type": "code",
   "execution_count": 85,
   "metadata": {},
   "outputs": [
    {
     "data": {
      "text/plain": [
       "DecisionTreeClassifier()"
      ]
     },
     "execution_count": 85,
     "metadata": {},
     "output_type": "execute_result"
    }
   ],
   "source": [
    "model.fit(X, y)"
   ]
  },
  {
   "cell_type": "code",
   "execution_count": 86,
   "metadata": {},
   "outputs": [],
   "source": [
    "importance = model.feature_importances_"
   ]
  },
  {
   "cell_type": "code",
   "execution_count": 87,
   "metadata": {},
   "outputs": [
    {
     "name": "stdout",
     "output_type": "stream",
     "text": [
      "Feature: 0, Score: 0.00000\n",
      "Feature: 1, Score: 0.00000\n",
      "Feature: 2, Score: 0.00000\n",
      "Feature: 3, Score: 0.00000\n",
      "Feature: 4, Score: 0.00000\n",
      "Feature: 5, Score: 0.00000\n",
      "Feature: 6, Score: 0.00000\n",
      "Feature: 7, Score: 0.00000\n",
      "Feature: 8, Score: 0.00000\n",
      "Feature: 9, Score: 0.00000\n",
      "Feature: 10, Score: 0.00000\n",
      "Feature: 11, Score: 0.00000\n",
      "Feature: 12, Score: 0.00000\n",
      "Feature: 13, Score: 0.00000\n",
      "Feature: 14, Score: 0.00000\n",
      "Feature: 15, Score: 0.00000\n",
      "Feature: 16, Score: 0.00000\n",
      "Feature: 17, Score: 0.00000\n",
      "Feature: 18, Score: 0.00000\n",
      "Feature: 19, Score: 0.00000\n",
      "Feature: 20, Score: 0.00000\n",
      "Feature: 21, Score: 0.00000\n",
      "Feature: 22, Score: 0.00000\n",
      "Feature: 23, Score: 0.00000\n",
      "Feature: 24, Score: 0.00000\n",
      "Feature: 25, Score: 0.00000\n",
      "Feature: 26, Score: 0.00000\n",
      "Feature: 27, Score: 0.00000\n",
      "Feature: 28, Score: 0.00000\n",
      "Feature: 29, Score: 0.00000\n",
      "Feature: 30, Score: 0.00000\n",
      "Feature: 31, Score: 0.00000\n",
      "Feature: 32, Score: 0.00000\n",
      "Feature: 33, Score: 0.00000\n",
      "Feature: 34, Score: 0.00000\n",
      "Feature: 35, Score: 0.00000\n",
      "Feature: 36, Score: 0.00000\n",
      "Feature: 37, Score: 0.00000\n",
      "Feature: 38, Score: 0.00000\n",
      "Feature: 39, Score: 0.00000\n",
      "Feature: 40, Score: 0.00000\n",
      "Feature: 41, Score: 0.00000\n",
      "Feature: 42, Score: 0.00000\n",
      "Feature: 43, Score: 0.00000\n",
      "Feature: 44, Score: 0.00000\n",
      "Feature: 45, Score: 0.00000\n",
      "Feature: 46, Score: 0.00000\n",
      "Feature: 47, Score: 0.00000\n",
      "Feature: 48, Score: 0.00000\n",
      "Feature: 49, Score: 0.00000\n",
      "Feature: 50, Score: 0.00000\n",
      "Feature: 51, Score: 0.00000\n",
      "Feature: 52, Score: 0.00000\n",
      "Feature: 53, Score: 0.00000\n",
      "Feature: 54, Score: 0.00000\n",
      "Feature: 55, Score: 0.00000\n",
      "Feature: 56, Score: 0.00000\n",
      "Feature: 57, Score: 0.00000\n",
      "Feature: 58, Score: 0.00000\n",
      "Feature: 59, Score: 0.00000\n",
      "Feature: 60, Score: 0.00000\n",
      "Feature: 61, Score: 0.00000\n",
      "Feature: 62, Score: 0.00000\n",
      "Feature: 63, Score: 0.00000\n",
      "Feature: 64, Score: 0.00000\n",
      "Feature: 65, Score: 0.00000\n",
      "Feature: 66, Score: 0.00000\n",
      "Feature: 67, Score: 0.00000\n",
      "Feature: 68, Score: 1.00000\n"
     ]
    },
    {
     "data": {
      "image/png": "[encoded data removed]",
      "text/plain": [
       "<Figure size 432x288 with 1 Axes>"
      ]
     },
     "metadata": {},
     "output_type": "display_data"
    }
   ],
   "source": [
    "for i,v in enumerate(importance):\n",
    "     print('Feature: %0d, Score: %.5f' % (i,v))\n",
    "# plot feature importance\n",
    "plt.bar([x for x in range(len(importance))], importance)\n",
    "plt.show()"
   ]
  },
  {
   "cell_type": "code",
   "execution_count": 88,
   "metadata": {},
   "outputs": [],
   "source": [
    "from sklearn.feature_selection import SelectKBest\n",
    "from sklearn.feature_selection import chi2"
   ]
  },
  {
   "cell_type": "code",
   "execution_count": 89,
   "metadata": {},
   "outputs": [],
   "source": [
    "# nuevo DataFrame con la columna target al final\n",
    "df = df.reindex(columns=['ID_Country','Edad','Marital_CD','SBR_AMT','SCR_AMT','Region','Office','Area',\n",
    "                        'Division','Department_CD','Billiability','Technology','Business_Unit','Std_Hrs_Week',\n",
    "                        'Months_Worked','Vacation_Ratio','Number_Unique_Projects','Number_Unique_Project_Type',\n",
    "                        'Abscence_Projects','Administrative_Functions','Awaiting_Projects','Billable_Projects',\n",
    "                        'Corporate_Funded_Projects','Cost_Centers','Indirect_Cost_Centers','Internal_Investment_Projects',\n",
    "                        'Internal_Programs','Proposals','Proposals_General','Training_Programs','Bonus_2018',\n",
    "                        'Bonus_2019','Course_Viewed','Logs_Course_Viewed','Logs_Global_Campus','Media_hora_curso',\n",
    "                        'Total_number_received_Feedback','Performance_feedback_AVG','Performance_Level_CD',\n",
    "                        'Potential_Level_CD','TotalNumberOfficeEmployees','PS_App','PS_JAVA','PS_NetDeveloper',\n",
    "                        'PS_OtherAdministrativeSkills','PS_OtherTechnicalSkills','PS_Other','PS_SAP','TRACK_Architect',\n",
    "                        'TRACK_Consultant','TRACK_Developer','TRACK_ManagementServices','TRACK_Project',\n",
    "                        'TRACK_ServiceManager','TRACK_Support','TRACK_SystemIntegration','Avg_Increase',\n",
    "                        'LEVEL_Analyst','LEVEL_Consultant','LEVEL_ExperiencedConsultant','LEVEL_Project_TechnicalLead',\n",
    "                        'LEVEL_SrConsultant','V_OtherReasons','V_CompensationAndBenefits','V_Personal',\n",
    "                        'V_ProjectDiscomfort','V_StillActive','V_TrainingAndCareer','Termination_Code','Churn'])"
   ]
  },
  {
   "cell_type": "code",
   "execution_count": null,
   "metadata": {},
   "outputs": [],
   "source": [
    "#aparecieron unos valores negativos que el chi2 no aceptaba en la instrucción fit = bestfeatures.fit(X,y)\n",
    "#los igualé a 0\n",
    "df[df['Cost_Centers']<0]=0\n",
    "df[df['Cost_Centers']<0]"
   ]
  },
  {
   "cell_type": "code",
   "execution_count": 144,
   "metadata": {},
   "outputs": [],
   "source": [
    "X = df.iloc[:,0:69]  #independent columns\n",
    "y = df.iloc[:,-1]    #target column"
   ]
  },
  {
   "cell_type": "code",
   "execution_count": 145,
   "metadata": {},
   "outputs": [
    {
     "data": {
      "text/html": [
       "<div>\n",
       "<style scoped>\n",
       "    .dataframe tbody tr th:only-of-type {\n",
       "        vertical-align: middle;\n",
       "    }\n",
       "\n",
       "    .dataframe tbody tr th {\n",
       "        vertical-align: top;\n",
       "    }\n",
       "\n",
       "    .dataframe thead th {\n",
       "        text-align: right;\n",
       "    }\n",
       "</style>\n",
       "<table border=\"1\" class=\"dataframe\">\n",
       "  <thead>\n",
       "    <tr style=\"text-align: right;\">\n",
       "      <th></th>\n",
       "      <th>ID_Country</th>\n",
       "      <th>Edad</th>\n",
       "      <th>Marital_CD</th>\n",
       "      <th>SBR_AMT</th>\n",
       "      <th>SCR_AMT</th>\n",
       "      <th>Region</th>\n",
       "      <th>Office</th>\n",
       "      <th>Area</th>\n",
       "      <th>Division</th>\n",
       "      <th>Department_CD</th>\n",
       "      <th>...</th>\n",
       "      <th>LEVEL_ExperiencedConsultant</th>\n",
       "      <th>LEVEL_Project_TechnicalLead</th>\n",
       "      <th>LEVEL_SrConsultant</th>\n",
       "      <th>V_OtherReasons</th>\n",
       "      <th>V_CompensationAndBenefits</th>\n",
       "      <th>V_Personal</th>\n",
       "      <th>V_ProjectDiscomfort</th>\n",
       "      <th>V_StillActive</th>\n",
       "      <th>V_TrainingAndCareer</th>\n",
       "      <th>Termination_Code</th>\n",
       "    </tr>\n",
       "  </thead>\n",
       "  <tbody>\n",
       "    <tr>\n",
       "      <th>1</th>\n",
       "      <td>2</td>\n",
       "      <td>54</td>\n",
       "      <td>2</td>\n",
       "      <td>79.21</td>\n",
       "      <td>22.58</td>\n",
       "      <td>14.0</td>\n",
       "      <td>33</td>\n",
       "      <td>24</td>\n",
       "      <td>0</td>\n",
       "      <td>6</td>\n",
       "      <td>...</td>\n",
       "      <td>0.0</td>\n",
       "      <td>0.0</td>\n",
       "      <td>1.0</td>\n",
       "      <td>0.0</td>\n",
       "      <td>0.0</td>\n",
       "      <td>0.0</td>\n",
       "      <td>0.0</td>\n",
       "      <td>1.0</td>\n",
       "      <td>0.0</td>\n",
       "      <td>0</td>\n",
       "    </tr>\n",
       "    <tr>\n",
       "      <th>3</th>\n",
       "      <td>2</td>\n",
       "      <td>49</td>\n",
       "      <td>2</td>\n",
       "      <td>42.00</td>\n",
       "      <td>12.00</td>\n",
       "      <td>14.0</td>\n",
       "      <td>33</td>\n",
       "      <td>7</td>\n",
       "      <td>35</td>\n",
       "      <td>7</td>\n",
       "      <td>...</td>\n",
       "      <td>1.0</td>\n",
       "      <td>0.0</td>\n",
       "      <td>0.0</td>\n",
       "      <td>0.0</td>\n",
       "      <td>0.0</td>\n",
       "      <td>0.0</td>\n",
       "      <td>0.0</td>\n",
       "      <td>1.0</td>\n",
       "      <td>0.0</td>\n",
       "      <td>0</td>\n",
       "    </tr>\n",
       "    <tr>\n",
       "      <th>6</th>\n",
       "      <td>2</td>\n",
       "      <td>47</td>\n",
       "      <td>2</td>\n",
       "      <td>103.30</td>\n",
       "      <td>29.50</td>\n",
       "      <td>15.0</td>\n",
       "      <td>33</td>\n",
       "      <td>7</td>\n",
       "      <td>0</td>\n",
       "      <td>6</td>\n",
       "      <td>...</td>\n",
       "      <td>0.0</td>\n",
       "      <td>1.0</td>\n",
       "      <td>0.0</td>\n",
       "      <td>0.0</td>\n",
       "      <td>0.0</td>\n",
       "      <td>0.0</td>\n",
       "      <td>0.0</td>\n",
       "      <td>1.0</td>\n",
       "      <td>0.0</td>\n",
       "      <td>0</td>\n",
       "    </tr>\n",
       "    <tr>\n",
       "      <th>9</th>\n",
       "      <td>2</td>\n",
       "      <td>47</td>\n",
       "      <td>2</td>\n",
       "      <td>146.60</td>\n",
       "      <td>41.90</td>\n",
       "      <td>15.0</td>\n",
       "      <td>33</td>\n",
       "      <td>7</td>\n",
       "      <td>36</td>\n",
       "      <td>11</td>\n",
       "      <td>...</td>\n",
       "      <td>0.0</td>\n",
       "      <td>0.0</td>\n",
       "      <td>1.0</td>\n",
       "      <td>0.0</td>\n",
       "      <td>0.0</td>\n",
       "      <td>0.0</td>\n",
       "      <td>0.0</td>\n",
       "      <td>1.0</td>\n",
       "      <td>0.0</td>\n",
       "      <td>0</td>\n",
       "    </tr>\n",
       "    <tr>\n",
       "      <th>28</th>\n",
       "      <td>2</td>\n",
       "      <td>47</td>\n",
       "      <td>2</td>\n",
       "      <td>115.30</td>\n",
       "      <td>32.90</td>\n",
       "      <td>15.0</td>\n",
       "      <td>33</td>\n",
       "      <td>7</td>\n",
       "      <td>36</td>\n",
       "      <td>11</td>\n",
       "      <td>...</td>\n",
       "      <td>0.0</td>\n",
       "      <td>0.0</td>\n",
       "      <td>1.0</td>\n",
       "      <td>0.0</td>\n",
       "      <td>0.0</td>\n",
       "      <td>0.0</td>\n",
       "      <td>0.0</td>\n",
       "      <td>1.0</td>\n",
       "      <td>0.0</td>\n",
       "      <td>0</td>\n",
       "    </tr>\n",
       "    <tr>\n",
       "      <th>...</th>\n",
       "      <td>...</td>\n",
       "      <td>...</td>\n",
       "      <td>...</td>\n",
       "      <td>...</td>\n",
       "      <td>...</td>\n",
       "      <td>...</td>\n",
       "      <td>...</td>\n",
       "      <td>...</td>\n",
       "      <td>...</td>\n",
       "      <td>...</td>\n",
       "      <td>...</td>\n",
       "      <td>...</td>\n",
       "      <td>...</td>\n",
       "      <td>...</td>\n",
       "      <td>...</td>\n",
       "      <td>...</td>\n",
       "      <td>...</td>\n",
       "      <td>...</td>\n",
       "      <td>...</td>\n",
       "      <td>...</td>\n",
       "      <td>...</td>\n",
       "    </tr>\n",
       "    <tr>\n",
       "      <th>3424</th>\n",
       "      <td>16</td>\n",
       "      <td>30</td>\n",
       "      <td>1</td>\n",
       "      <td>82.00</td>\n",
       "      <td>23.00</td>\n",
       "      <td>15.0</td>\n",
       "      <td>48</td>\n",
       "      <td>7</td>\n",
       "      <td>0</td>\n",
       "      <td>6</td>\n",
       "      <td>...</td>\n",
       "      <td>0.0</td>\n",
       "      <td>0.0</td>\n",
       "      <td>1.0</td>\n",
       "      <td>0.0</td>\n",
       "      <td>0.0</td>\n",
       "      <td>0.0</td>\n",
       "      <td>0.0</td>\n",
       "      <td>1.0</td>\n",
       "      <td>0.0</td>\n",
       "      <td>0</td>\n",
       "    </tr>\n",
       "    <tr>\n",
       "      <th>3425</th>\n",
       "      <td>16</td>\n",
       "      <td>25</td>\n",
       "      <td>1</td>\n",
       "      <td>13.00</td>\n",
       "      <td>4.00</td>\n",
       "      <td>15.0</td>\n",
       "      <td>48</td>\n",
       "      <td>7</td>\n",
       "      <td>40</td>\n",
       "      <td>18</td>\n",
       "      <td>...</td>\n",
       "      <td>0.0</td>\n",
       "      <td>0.0</td>\n",
       "      <td>0.0</td>\n",
       "      <td>0.0</td>\n",
       "      <td>0.0</td>\n",
       "      <td>0.0</td>\n",
       "      <td>0.0</td>\n",
       "      <td>1.0</td>\n",
       "      <td>0.0</td>\n",
       "      <td>0</td>\n",
       "    </tr>\n",
       "    <tr>\n",
       "      <th>3426</th>\n",
       "      <td>16</td>\n",
       "      <td>25</td>\n",
       "      <td>1</td>\n",
       "      <td>13.00</td>\n",
       "      <td>4.00</td>\n",
       "      <td>15.0</td>\n",
       "      <td>48</td>\n",
       "      <td>7</td>\n",
       "      <td>28</td>\n",
       "      <td>4</td>\n",
       "      <td>...</td>\n",
       "      <td>0.0</td>\n",
       "      <td>0.0</td>\n",
       "      <td>0.0</td>\n",
       "      <td>0.0</td>\n",
       "      <td>0.0</td>\n",
       "      <td>0.0</td>\n",
       "      <td>0.0</td>\n",
       "      <td>1.0</td>\n",
       "      <td>0.0</td>\n",
       "      <td>0</td>\n",
       "    </tr>\n",
       "    <tr>\n",
       "      <th>3427</th>\n",
       "      <td>16</td>\n",
       "      <td>23</td>\n",
       "      <td>1</td>\n",
       "      <td>13.00</td>\n",
       "      <td>4.00</td>\n",
       "      <td>15.0</td>\n",
       "      <td>48</td>\n",
       "      <td>7</td>\n",
       "      <td>28</td>\n",
       "      <td>4</td>\n",
       "      <td>...</td>\n",
       "      <td>0.0</td>\n",
       "      <td>0.0</td>\n",
       "      <td>0.0</td>\n",
       "      <td>0.0</td>\n",
       "      <td>0.0</td>\n",
       "      <td>0.0</td>\n",
       "      <td>0.0</td>\n",
       "      <td>1.0</td>\n",
       "      <td>0.0</td>\n",
       "      <td>0</td>\n",
       "    </tr>\n",
       "    <tr>\n",
       "      <th>3428</th>\n",
       "      <td>16</td>\n",
       "      <td>24</td>\n",
       "      <td>1</td>\n",
       "      <td>15.79</td>\n",
       "      <td>4.51</td>\n",
       "      <td>15.0</td>\n",
       "      <td>48</td>\n",
       "      <td>7</td>\n",
       "      <td>28</td>\n",
       "      <td>6</td>\n",
       "      <td>...</td>\n",
       "      <td>0.0</td>\n",
       "      <td>0.0</td>\n",
       "      <td>0.0</td>\n",
       "      <td>0.0</td>\n",
       "      <td>1.0</td>\n",
       "      <td>0.0</td>\n",
       "      <td>0.0</td>\n",
       "      <td>0.0</td>\n",
       "      <td>0.0</td>\n",
       "      <td>6</td>\n",
       "    </tr>\n",
       "  </tbody>\n",
       "</table>\n",
       "<p>2627 rows × 69 columns</p>\n",
       "</div>"
      ],
      "text/plain": [
       "      ID_Country  Edad  Marital_CD  SBR_AMT  SCR_AMT  Region  Office  Area  \\\n",
       "1              2    54           2    79.21    22.58    14.0      33    24   \n",
       "3              2    49           2    42.00    12.00    14.0      33     7   \n",
       "6              2    47           2   103.30    29.50    15.0      33     7   \n",
       "9              2    47           2   146.60    41.90    15.0      33     7   \n",
       "28             2    47           2   115.30    32.90    15.0      33     7   \n",
       "...          ...   ...         ...      ...      ...     ...     ...   ...   \n",
       "3424          16    30           1    82.00    23.00    15.0      48     7   \n",
       "3425          16    25           1    13.00     4.00    15.0      48     7   \n",
       "3426          16    25           1    13.00     4.00    15.0      48     7   \n",
       "3427          16    23           1    13.00     4.00    15.0      48     7   \n",
       "3428          16    24           1    15.79     4.51    15.0      48     7   \n",
       "\n",
       "      Division  Department_CD  ...  LEVEL_ExperiencedConsultant  \\\n",
       "1            0              6  ...                          0.0   \n",
       "3           35              7  ...                          1.0   \n",
       "6            0              6  ...                          0.0   \n",
       "9           36             11  ...                          0.0   \n",
       "28          36             11  ...                          0.0   \n",
       "...        ...            ...  ...                          ...   \n",
       "3424         0              6  ...                          0.0   \n",
       "3425        40             18  ...                          0.0   \n",
       "3426        28              4  ...                          0.0   \n",
       "3427        28              4  ...                          0.0   \n",
       "3428        28              6  ...                          0.0   \n",
       "\n",
       "      LEVEL_Project_TechnicalLead  LEVEL_SrConsultant  V_OtherReasons  \\\n",
       "1                             0.0                 1.0             0.0   \n",
       "3                             0.0                 0.0             0.0   \n",
       "6                             1.0                 0.0             0.0   \n",
       "9                             0.0                 1.0             0.0   \n",
       "28                            0.0                 1.0             0.0   \n",
       "...                           ...                 ...             ...   \n",
       "3424                          0.0                 1.0             0.0   \n",
       "3425                          0.0                 0.0             0.0   \n",
       "3426                          0.0                 0.0             0.0   \n",
       "3427                          0.0                 0.0             0.0   \n",
       "3428                          0.0                 0.0             0.0   \n",
       "\n",
       "      V_CompensationAndBenefits  V_Personal  V_ProjectDiscomfort  \\\n",
       "1                           0.0         0.0                  0.0   \n",
       "3                           0.0         0.0                  0.0   \n",
       "6                           0.0         0.0                  0.0   \n",
       "9                           0.0         0.0                  0.0   \n",
       "28                          0.0         0.0                  0.0   \n",
       "...                         ...         ...                  ...   \n",
       "3424                        0.0         0.0                  0.0   \n",
       "3425                        0.0         0.0                  0.0   \n",
       "3426                        0.0         0.0                  0.0   \n",
       "3427                        0.0         0.0                  0.0   \n",
       "3428                        1.0         0.0                  0.0   \n",
       "\n",
       "      V_StillActive  V_TrainingAndCareer  Termination_Code  \n",
       "1               1.0                  0.0                 0  \n",
       "3               1.0                  0.0                 0  \n",
       "6               1.0                  0.0                 0  \n",
       "9               1.0                  0.0                 0  \n",
       "28              1.0                  0.0                 0  \n",
       "...             ...                  ...               ...  \n",
       "3424            1.0                  0.0                 0  \n",
       "3425            1.0                  0.0                 0  \n",
       "3426            1.0                  0.0                 0  \n",
       "3427            1.0                  0.0                 0  \n",
       "3428            0.0                  0.0                 6  \n",
       "\n",
       "[2627 rows x 69 columns]"
      ]
     },
     "execution_count": 145,
     "metadata": {},
     "output_type": "execute_result"
    }
   ],
   "source": [
    "X"
   ]
  },
  {
   "cell_type": "code",
   "execution_count": 146,
   "metadata": {},
   "outputs": [
    {
     "data": {
      "text/plain": [
       "'Churn'"
      ]
     },
     "execution_count": 146,
     "metadata": {},
     "output_type": "execute_result"
    }
   ],
   "source": [
    "y.name"
   ]
  },
  {
   "cell_type": "code",
   "execution_count": 147,
   "metadata": {},
   "outputs": [
    {
     "data": {
      "text/html": [
       "<div>\n",
       "<style scoped>\n",
       "    .dataframe tbody tr th:only-of-type {\n",
       "        vertical-align: middle;\n",
       "    }\n",
       "\n",
       "    .dataframe tbody tr th {\n",
       "        vertical-align: top;\n",
       "    }\n",
       "\n",
       "    .dataframe thead th {\n",
       "        text-align: right;\n",
       "    }\n",
       "</style>\n",
       "<table border=\"1\" class=\"dataframe\">\n",
       "  <thead>\n",
       "    <tr style=\"text-align: right;\">\n",
       "      <th></th>\n",
       "      <th>ID_Country</th>\n",
       "      <th>Edad</th>\n",
       "      <th>Marital_CD</th>\n",
       "      <th>SBR_AMT</th>\n",
       "      <th>SCR_AMT</th>\n",
       "      <th>Region</th>\n",
       "      <th>Office</th>\n",
       "      <th>Area</th>\n",
       "      <th>Division</th>\n",
       "      <th>Department_CD</th>\n",
       "      <th>...</th>\n",
       "      <th>LEVEL_Project_TechnicalLead</th>\n",
       "      <th>LEVEL_SrConsultant</th>\n",
       "      <th>V_OtherReasons</th>\n",
       "      <th>V_CompensationAndBenefits</th>\n",
       "      <th>V_Personal</th>\n",
       "      <th>V_ProjectDiscomfort</th>\n",
       "      <th>V_StillActive</th>\n",
       "      <th>V_TrainingAndCareer</th>\n",
       "      <th>Termination_Code</th>\n",
       "      <th>Churn</th>\n",
       "    </tr>\n",
       "  </thead>\n",
       "  <tbody>\n",
       "    <tr>\n",
       "      <th>count</th>\n",
       "      <td>2627.000000</td>\n",
       "      <td>2627.000000</td>\n",
       "      <td>2627.000000</td>\n",
       "      <td>2627.000000</td>\n",
       "      <td>2627.000000</td>\n",
       "      <td>2627.000000</td>\n",
       "      <td>2627.000000</td>\n",
       "      <td>2627.000000</td>\n",
       "      <td>2627.000000</td>\n",
       "      <td>2627.000000</td>\n",
       "      <td>...</td>\n",
       "      <td>2627.000000</td>\n",
       "      <td>2627.000000</td>\n",
       "      <td>2627.000000</td>\n",
       "      <td>2627.000000</td>\n",
       "      <td>2627.000000</td>\n",
       "      <td>2627.000000</td>\n",
       "      <td>2627.000000</td>\n",
       "      <td>2627.000000</td>\n",
       "      <td>2627.000000</td>\n",
       "      <td>2627.000000</td>\n",
       "    </tr>\n",
       "    <tr>\n",
       "      <th>mean</th>\n",
       "      <td>3.745337</td>\n",
       "      <td>33.168633</td>\n",
       "      <td>1.325086</td>\n",
       "      <td>76.123776</td>\n",
       "      <td>21.752585</td>\n",
       "      <td>11.438904</td>\n",
       "      <td>21.173201</td>\n",
       "      <td>7.062429</td>\n",
       "      <td>103.515797</td>\n",
       "      <td>10.264941</td>\n",
       "      <td>...</td>\n",
       "      <td>0.028169</td>\n",
       "      <td>0.260373</td>\n",
       "      <td>0.056338</td>\n",
       "      <td>0.024743</td>\n",
       "      <td>0.047963</td>\n",
       "      <td>0.036924</td>\n",
       "      <td>0.661211</td>\n",
       "      <td>0.171679</td>\n",
       "      <td>1.269890</td>\n",
       "      <td>0.337648</td>\n",
       "    </tr>\n",
       "    <tr>\n",
       "      <th>std</th>\n",
       "      <td>3.447166</td>\n",
       "      <td>7.580849</td>\n",
       "      <td>0.639038</td>\n",
       "      <td>42.040903</td>\n",
       "      <td>12.095191</td>\n",
       "      <td>5.625564</td>\n",
       "      <td>13.953631</td>\n",
       "      <td>1.032924</td>\n",
       "      <td>244.322741</td>\n",
       "      <td>4.128164</td>\n",
       "      <td>...</td>\n",
       "      <td>0.165487</td>\n",
       "      <td>0.438922</td>\n",
       "      <td>0.230617</td>\n",
       "      <td>0.155371</td>\n",
       "      <td>0.213730</td>\n",
       "      <td>0.188612</td>\n",
       "      <td>0.473388</td>\n",
       "      <td>0.377173</td>\n",
       "      <td>2.037692</td>\n",
       "      <td>0.472998</td>\n",
       "    </tr>\n",
       "    <tr>\n",
       "      <th>min</th>\n",
       "      <td>0.000000</td>\n",
       "      <td>0.000000</td>\n",
       "      <td>0.000000</td>\n",
       "      <td>0.000000</td>\n",
       "      <td>0.000000</td>\n",
       "      <td>0.000000</td>\n",
       "      <td>0.000000</td>\n",
       "      <td>0.000000</td>\n",
       "      <td>0.000000</td>\n",
       "      <td>0.000000</td>\n",
       "      <td>...</td>\n",
       "      <td>0.000000</td>\n",
       "      <td>0.000000</td>\n",
       "      <td>0.000000</td>\n",
       "      <td>0.000000</td>\n",
       "      <td>0.000000</td>\n",
       "      <td>0.000000</td>\n",
       "      <td>0.000000</td>\n",
       "      <td>0.000000</td>\n",
       "      <td>0.000000</td>\n",
       "      <td>0.000000</td>\n",
       "    </tr>\n",
       "    <tr>\n",
       "      <th>25%</th>\n",
       "      <td>2.000000</td>\n",
       "      <td>28.000000</td>\n",
       "      <td>1.000000</td>\n",
       "      <td>42.370000</td>\n",
       "      <td>12.000000</td>\n",
       "      <td>12.000000</td>\n",
       "      <td>8.000000</td>\n",
       "      <td>7.000000</td>\n",
       "      <td>35.000000</td>\n",
       "      <td>7.000000</td>\n",
       "      <td>...</td>\n",
       "      <td>0.000000</td>\n",
       "      <td>0.000000</td>\n",
       "      <td>0.000000</td>\n",
       "      <td>0.000000</td>\n",
       "      <td>0.000000</td>\n",
       "      <td>0.000000</td>\n",
       "      <td>0.000000</td>\n",
       "      <td>0.000000</td>\n",
       "      <td>0.000000</td>\n",
       "      <td>0.000000</td>\n",
       "    </tr>\n",
       "    <tr>\n",
       "      <th>50%</th>\n",
       "      <td>2.000000</td>\n",
       "      <td>32.000000</td>\n",
       "      <td>1.000000</td>\n",
       "      <td>69.630000</td>\n",
       "      <td>19.940000</td>\n",
       "      <td>14.000000</td>\n",
       "      <td>33.000000</td>\n",
       "      <td>7.000000</td>\n",
       "      <td>36.000000</td>\n",
       "      <td>11.000000</td>\n",
       "      <td>...</td>\n",
       "      <td>0.000000</td>\n",
       "      <td>0.000000</td>\n",
       "      <td>0.000000</td>\n",
       "      <td>0.000000</td>\n",
       "      <td>0.000000</td>\n",
       "      <td>0.000000</td>\n",
       "      <td>1.000000</td>\n",
       "      <td>0.000000</td>\n",
       "      <td>0.000000</td>\n",
       "      <td>0.000000</td>\n",
       "    </tr>\n",
       "    <tr>\n",
       "      <th>75%</th>\n",
       "      <td>6.000000</td>\n",
       "      <td>37.000000</td>\n",
       "      <td>2.000000</td>\n",
       "      <td>102.765000</td>\n",
       "      <td>29.320000</td>\n",
       "      <td>15.000000</td>\n",
       "      <td>33.000000</td>\n",
       "      <td>7.000000</td>\n",
       "      <td>37.000000</td>\n",
       "      <td>11.000000</td>\n",
       "      <td>...</td>\n",
       "      <td>0.000000</td>\n",
       "      <td>1.000000</td>\n",
       "      <td>0.000000</td>\n",
       "      <td>0.000000</td>\n",
       "      <td>0.000000</td>\n",
       "      <td>0.000000</td>\n",
       "      <td>1.000000</td>\n",
       "      <td>0.000000</td>\n",
       "      <td>2.000000</td>\n",
       "      <td>1.000000</td>\n",
       "    </tr>\n",
       "    <tr>\n",
       "      <th>max</th>\n",
       "      <td>17.000000</td>\n",
       "      <td>64.000000</td>\n",
       "      <td>5.000000</td>\n",
       "      <td>410.000000</td>\n",
       "      <td>116.000000</td>\n",
       "      <td>18.000000</td>\n",
       "      <td>48.000000</td>\n",
       "      <td>24.000000</td>\n",
       "      <td>994.000000</td>\n",
       "      <td>21.000000</td>\n",
       "      <td>...</td>\n",
       "      <td>1.000000</td>\n",
       "      <td>1.000000</td>\n",
       "      <td>1.000000</td>\n",
       "      <td>1.000000</td>\n",
       "      <td>1.000000</td>\n",
       "      <td>1.000000</td>\n",
       "      <td>1.000000</td>\n",
       "      <td>1.000000</td>\n",
       "      <td>6.000000</td>\n",
       "      <td>1.000000</td>\n",
       "    </tr>\n",
       "  </tbody>\n",
       "</table>\n",
       "<p>8 rows × 70 columns</p>\n",
       "</div>"
      ],
      "text/plain": [
       "        ID_Country         Edad   Marital_CD      SBR_AMT      SCR_AMT  \\\n",
       "count  2627.000000  2627.000000  2627.000000  2627.000000  2627.000000   \n",
       "mean      3.745337    33.168633     1.325086    76.123776    21.752585   \n",
       "std       3.447166     7.580849     0.639038    42.040903    12.095191   \n",
       "min       0.000000     0.000000     0.000000     0.000000     0.000000   \n",
       "25%       2.000000    28.000000     1.000000    42.370000    12.000000   \n",
       "50%       2.000000    32.000000     1.000000    69.630000    19.940000   \n",
       "75%       6.000000    37.000000     2.000000   102.765000    29.320000   \n",
       "max      17.000000    64.000000     5.000000   410.000000   116.000000   \n",
       "\n",
       "            Region       Office         Area     Division  Department_CD  ...  \\\n",
       "count  2627.000000  2627.000000  2627.000000  2627.000000    2627.000000  ...   \n",
       "mean     11.438904    21.173201     7.062429   103.515797      10.264941  ...   \n",
       "std       5.625564    13.953631     1.032924   244.322741       4.128164  ...   \n",
       "min       0.000000     0.000000     0.000000     0.000000       0.000000  ...   \n",
       "25%      12.000000     8.000000     7.000000    35.000000       7.000000  ...   \n",
       "50%      14.000000    33.000000     7.000000    36.000000      11.000000  ...   \n",
       "75%      15.000000    33.000000     7.000000    37.000000      11.000000  ...   \n",
       "max      18.000000    48.000000    24.000000   994.000000      21.000000  ...   \n",
       "\n",
       "       LEVEL_Project_TechnicalLead  LEVEL_SrConsultant  V_OtherReasons  \\\n",
       "count                  2627.000000         2627.000000     2627.000000   \n",
       "mean                      0.028169            0.260373        0.056338   \n",
       "std                       0.165487            0.438922        0.230617   \n",
       "min                       0.000000            0.000000        0.000000   \n",
       "25%                       0.000000            0.000000        0.000000   \n",
       "50%                       0.000000            0.000000        0.000000   \n",
       "75%                       0.000000            1.000000        0.000000   \n",
       "max                       1.000000            1.000000        1.000000   \n",
       "\n",
       "       V_CompensationAndBenefits   V_Personal  V_ProjectDiscomfort  \\\n",
       "count                2627.000000  2627.000000          2627.000000   \n",
       "mean                    0.024743     0.047963             0.036924   \n",
       "std                     0.155371     0.213730             0.188612   \n",
       "min                     0.000000     0.000000             0.000000   \n",
       "25%                     0.000000     0.000000             0.000000   \n",
       "50%                     0.000000     0.000000             0.000000   \n",
       "75%                     0.000000     0.000000             0.000000   \n",
       "max                     1.000000     1.000000             1.000000   \n",
       "\n",
       "       V_StillActive  V_TrainingAndCareer  Termination_Code        Churn  \n",
       "count    2627.000000          2627.000000       2627.000000  2627.000000  \n",
       "mean        0.661211             0.171679          1.269890     0.337648  \n",
       "std         0.473388             0.377173          2.037692     0.472998  \n",
       "min         0.000000             0.000000          0.000000     0.000000  \n",
       "25%         0.000000             0.000000          0.000000     0.000000  \n",
       "50%         1.000000             0.000000          0.000000     0.000000  \n",
       "75%         1.000000             0.000000          2.000000     1.000000  \n",
       "max         1.000000             1.000000          6.000000     1.000000  \n",
       "\n",
       "[8 rows x 70 columns]"
      ]
     },
     "execution_count": 147,
     "metadata": {},
     "output_type": "execute_result"
    }
   ],
   "source": [
    "df.describe()"
   ]
  },
  {
   "cell_type": "code",
   "execution_count": 148,
   "metadata": {},
   "outputs": [
    {
     "name": "stdout",
     "output_type": "stream",
     "text": [
      "                             Specs         Score\n",
      "21               Billable_Projects  23942.851317\n",
      "34              Logs_Global_Campus  20922.251915\n",
      "8                         Division   6743.657354\n",
      "68                Termination_Code   6544.126268\n",
      "40      TotalNumberOfficeEmployees   4260.720240\n",
      "56                    Avg_Increase   4094.184591\n",
      "22       Corporate_Funded_Projects   4046.485232\n",
      "33              Logs_Course_Viewed   2331.607054\n",
      "14                   Months_Worked   1855.096877\n",
      "35                Media_hora_curso   1691.500298\n",
      "18               Abscence_Projects   1459.240973\n",
      "15                  Vacation_Ratio   1260.874355\n",
      "25    Internal_Investment_Projects   1027.951404\n",
      "66                   V_StillActive    885.470690\n",
      "67             V_TrainingAndCareer    884.712514\n",
      "32                   Course_Viewed    800.765234\n",
      "20               Awaiting_Projects    595.838676\n",
      "19        Administrative_Functions    452.945679\n",
      "62                  V_OtherReasons    290.326945\n",
      "16          Number_Unique_Projects    278.868510\n",
      "6                           Office    257.758029\n",
      "64                      V_Personal    247.170237\n",
      "28               Proposals_General    245.790613\n",
      "36  Total_number_received_Feedback    204.151361\n",
      "65             V_ProjectDiscomfort    190.281849\n",
      "38            Performance_Level_CD    178.257656\n",
      "39              Potential_Level_CD    151.184607\n",
      "63       V_CompensationAndBenefits    127.508455\n",
      "3                          SBR_AMT     89.264652\n",
      "26               Internal_Programs     62.643629\n"
     ]
    }
   ],
   "source": [
    "#apply SelectKBest class to extract top N best features\n",
    "bestfeatures = SelectKBest(score_func=chi2, k=60)\n",
    "fit = bestfeatures.fit(X,y)\n",
    "dfscores = pd.DataFrame(fit.scores_)\n",
    "dfcolumns = pd.DataFrame(X.columns)\n",
    "\n",
    "#concat two dataframes for better visualization \n",
    "featureScores = pd.concat([dfcolumns,dfscores],axis=1)\n",
    "featureScores.columns = ['Specs','Score']  #naming the dataframe columns\n",
    "print(featureScores.nlargest(60,'Score'))  #print N best features"
   ]
  }
 ],
 "metadata": {
  "kernelspec": {
   "display_name": "Python 3",
   "language": "python",
   "name": "python3"
  },
  "language_info": {
   "codemirror_mode": {
    "name": "ipython",
    "version": 3
   },
   "file_extension": ".py",
   "mimetype": "text/x-python",
   "name": "python",
   "nbconvert_exporter": "python",
   "pygments_lexer": "ipython3",
   "version": "3.8.3"
  }
 },
 "nbformat": 4,
 "nbformat_minor": 4
}
