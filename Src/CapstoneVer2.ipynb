{
 "cells": [
  {
   "cell_type": "markdown",
   "metadata": {},
   "source": [
    "Package Installation"
   ]
  },
  {
   "cell_type": "code",
   "execution_count": 1,
   "metadata": {},
   "outputs": [],
   "source": [
    "#!pip install src\n",
    "#!pip install lifelines"
   ]
  },
  {
   "cell_type": "markdown",
   "metadata": {},
   "source": [
    "Load packages to use"
   ]
  },
  {
   "cell_type": "code",
   "execution_count": 1,
   "metadata": {},
   "outputs": [],
   "source": [
    "# load packages\n",
    "import numpy as np\n",
    "import pandas as pd\n",
    "import matplotlib.pyplot as plt\n",
    "%matplotlib inline\n",
    "plt.style.use(\"ggplot\")\n",
    "\n",
    "import seaborn as sns\n",
    "import statsmodels.api as sm # give you lots of stat\n",
    "\n",
    "from sklearn.datasets import make_classification\n",
    "from sklearn.linear_model import LogisticRegression\n",
    "from sklearn.model_selection import KFold, train_test_split\n",
    "from sklearn.metrics import accuracy_score, precision_score, recall_score\n",
    "import lifelines\n",
    "from datetime import date"
   ]
  },
  {
   "cell_type": "markdown",
   "metadata": {},
   "source": [
    "Load raw Dataset"
   ]
  },
  {
   "cell_type": "code",
   "execution_count": 2,
   "metadata": {},
   "outputs": [
    {
     "data": {
      "text/html": [
       "<div>\n",
       "<style scoped>\n",
       "    .dataframe tbody tr th:only-of-type {\n",
       "        vertical-align: middle;\n",
       "    }\n",
       "\n",
       "    .dataframe tbody tr th {\n",
       "        vertical-align: top;\n",
       "    }\n",
       "\n",
       "    .dataframe thead th {\n",
       "        text-align: right;\n",
       "    }\n",
       "</style>\n",
       "<table border=\"1\" class=\"dataframe\">\n",
       "  <thead>\n",
       "    <tr style=\"text-align: right;\">\n",
       "      <th></th>\n",
       "      <th>Country</th>\n",
       "      <th>Employee_Pay_ST</th>\n",
       "      <th>Track</th>\n",
       "      <th>Level_Cat</th>\n",
       "      <th>Level</th>\n",
       "      <th>Effective_Start_DT</th>\n",
       "      <th>Effective_Ending_DT</th>\n",
       "      <th>Termination_Reason</th>\n",
       "      <th>Birth_DT</th>\n",
       "      <th>Edad</th>\n",
       "      <th>...</th>\n",
       "      <th>Media_hora_curso</th>\n",
       "      <th>Estado</th>\n",
       "      <th>Total_number_received_Feedback</th>\n",
       "      <th>Performance_feedback_AVG</th>\n",
       "      <th>Performance_Level_CD</th>\n",
       "      <th>Performance_Level</th>\n",
       "      <th>Potential_Level_CD</th>\n",
       "      <th>Potential_Level</th>\n",
       "      <th>Track_Code</th>\n",
       "      <th>TotalNumberOfficeEmployees</th>\n",
       "    </tr>\n",
       "    <tr>\n",
       "      <th>ID_Country</th>\n",
       "      <th></th>\n",
       "      <th></th>\n",
       "      <th></th>\n",
       "      <th></th>\n",
       "      <th></th>\n",
       "      <th></th>\n",
       "      <th></th>\n",
       "      <th></th>\n",
       "      <th></th>\n",
       "      <th></th>\n",
       "      <th></th>\n",
       "      <th></th>\n",
       "      <th></th>\n",
       "      <th></th>\n",
       "      <th></th>\n",
       "      <th></th>\n",
       "      <th></th>\n",
       "      <th></th>\n",
       "      <th></th>\n",
       "      <th></th>\n",
       "      <th></th>\n",
       "    </tr>\n",
       "  </thead>\n",
       "  <tbody>\n",
       "    <tr>\n",
       "      <th>2</th>\n",
       "      <td>MX</td>\n",
       "      <td>Active</td>\n",
       "      <td>SYINCO</td>\n",
       "      <td>5</td>\n",
       "      <td>Sr. Consultant</td>\n",
       "      <td>12/01/2001</td>\n",
       "      <td>1/29/2021</td>\n",
       "      <td>Still Active</td>\n",
       "      <td>16/09/1971</td>\n",
       "      <td>49</td>\n",
       "      <td>...</td>\n",
       "      <td>16.0</td>\n",
       "      <td>Activo</td>\n",
       "      <td>0.0</td>\n",
       "      <td>91.789248</td>\n",
       "      <td>2</td>\n",
       "      <td>Medium</td>\n",
       "      <td>0</td>\n",
       "      <td>No Employee info</td>\n",
       "      <td>8</td>\n",
       "      <td>1441</td>\n",
       "    </tr>\n",
       "    <tr>\n",
       "      <th>2</th>\n",
       "      <td>MX</td>\n",
       "      <td>Active</td>\n",
       "      <td>DEVELO</td>\n",
       "      <td>5</td>\n",
       "      <td>Sr. Consultant</td>\n",
       "      <td>8/23/2018</td>\n",
       "      <td>1/29/2021</td>\n",
       "      <td>Still Active</td>\n",
       "      <td>10/10/1966</td>\n",
       "      <td>54</td>\n",
       "      <td>...</td>\n",
       "      <td>10.0</td>\n",
       "      <td>Activo</td>\n",
       "      <td>19.0</td>\n",
       "      <td>91.630000</td>\n",
       "      <td>2</td>\n",
       "      <td>Medium</td>\n",
       "      <td>0</td>\n",
       "      <td>No Employee info</td>\n",
       "      <td>3</td>\n",
       "      <td>1441</td>\n",
       "    </tr>\n",
       "    <tr>\n",
       "      <th>2</th>\n",
       "      <td>MX</td>\n",
       "      <td>Active</td>\n",
       "      <td>CONSUL</td>\n",
       "      <td>6</td>\n",
       "      <td>Manager / Master</td>\n",
       "      <td>08/01/2009</td>\n",
       "      <td>1/29/2021</td>\n",
       "      <td>Still Active</td>\n",
       "      <td>03/09/1972</td>\n",
       "      <td>48</td>\n",
       "      <td>...</td>\n",
       "      <td>2.0</td>\n",
       "      <td>Activo</td>\n",
       "      <td>0.0</td>\n",
       "      <td>91.789248</td>\n",
       "      <td>0</td>\n",
       "      <td>High</td>\n",
       "      <td>0</td>\n",
       "      <td>No Employee info</td>\n",
       "      <td>2</td>\n",
       "      <td>1441</td>\n",
       "    </tr>\n",
       "    <tr>\n",
       "      <th>2</th>\n",
       "      <td>MX</td>\n",
       "      <td>Active</td>\n",
       "      <td>MNGSER</td>\n",
       "      <td>3</td>\n",
       "      <td>Experienced Consultant</td>\n",
       "      <td>11/16/2017</td>\n",
       "      <td>1/29/2021</td>\n",
       "      <td>Still Active</td>\n",
       "      <td>22/11/1970</td>\n",
       "      <td>49</td>\n",
       "      <td>...</td>\n",
       "      <td>14.0</td>\n",
       "      <td>Activo</td>\n",
       "      <td>0.0</td>\n",
       "      <td>91.789248</td>\n",
       "      <td>2</td>\n",
       "      <td>Medium</td>\n",
       "      <td>0</td>\n",
       "      <td>No Employee info</td>\n",
       "      <td>4</td>\n",
       "      <td>1441</td>\n",
       "    </tr>\n",
       "    <tr>\n",
       "      <th>2</th>\n",
       "      <td>MX</td>\n",
       "      <td>Active</td>\n",
       "      <td>PROJCT</td>\n",
       "      <td>6</td>\n",
       "      <td>Manager / Master</td>\n",
       "      <td>10/01/1995</td>\n",
       "      <td>1/29/2021</td>\n",
       "      <td>Still Active</td>\n",
       "      <td>25/06/1974</td>\n",
       "      <td>46</td>\n",
       "      <td>...</td>\n",
       "      <td>4.0</td>\n",
       "      <td>Activo</td>\n",
       "      <td>2.0</td>\n",
       "      <td>50.000000</td>\n",
       "      <td>2</td>\n",
       "      <td>Medium</td>\n",
       "      <td>1</td>\n",
       "      <td>RISING TALENT</td>\n",
       "      <td>5</td>\n",
       "      <td>1441</td>\n",
       "    </tr>\n",
       "  </tbody>\n",
       "</table>\n",
       "<p>5 rows × 65 columns</p>\n",
       "</div>"
      ],
      "text/plain": [
       "           Country Employee_Pay_ST   Track  Level_Cat                   Level  \\\n",
       "ID_Country                                                                      \n",
       "2               MX          Active  SYINCO          5          Sr. Consultant   \n",
       "2               MX          Active  DEVELO          5          Sr. Consultant   \n",
       "2               MX          Active  CONSUL          6        Manager / Master   \n",
       "2               MX          Active  MNGSER          3  Experienced Consultant   \n",
       "2               MX          Active  PROJCT          6        Manager / Master   \n",
       "\n",
       "           Effective_Start_DT Effective_Ending_DT Termination_Reason  \\\n",
       "ID_Country                                                             \n",
       "2                  12/01/2001           1/29/2021       Still Active   \n",
       "2                   8/23/2018           1/29/2021       Still Active   \n",
       "2                  08/01/2009           1/29/2021       Still Active   \n",
       "2                  11/16/2017           1/29/2021       Still Active   \n",
       "2                  10/01/1995           1/29/2021       Still Active   \n",
       "\n",
       "              Birth_DT  Edad  ...  Media_hora_curso  Estado  \\\n",
       "ID_Country                    ...                             \n",
       "2           16/09/1971    49  ...              16.0  Activo   \n",
       "2           10/10/1966    54  ...              10.0  Activo   \n",
       "2           03/09/1972    48  ...               2.0  Activo   \n",
       "2           22/11/1970    49  ...              14.0  Activo   \n",
       "2           25/06/1974    46  ...               4.0  Activo   \n",
       "\n",
       "            Total_number_received_Feedback  Performance_feedback_AVG  \\\n",
       "ID_Country                                                             \n",
       "2                                      0.0                 91.789248   \n",
       "2                                     19.0                 91.630000   \n",
       "2                                      0.0                 91.789248   \n",
       "2                                      0.0                 91.789248   \n",
       "2                                      2.0                 50.000000   \n",
       "\n",
       "            Performance_Level_CD  Performance_Level  Potential_Level_CD  \\\n",
       "ID_Country                                                                \n",
       "2                              2             Medium                   0   \n",
       "2                              2             Medium                   0   \n",
       "2                              0               High                   0   \n",
       "2                              2             Medium                   0   \n",
       "2                              2             Medium                   1   \n",
       "\n",
       "             Potential_Level  Track_Code  TotalNumberOfficeEmployees  \n",
       "ID_Country                                                            \n",
       "2           No Employee info           8                        1441  \n",
       "2           No Employee info           3                        1441  \n",
       "2           No Employee info           2                        1441  \n",
       "2           No Employee info           4                        1441  \n",
       "2              RISING TALENT           5                        1441  \n",
       "\n",
       "[5 rows x 65 columns]"
      ]
     },
     "execution_count": 2,
     "metadata": {},
     "output_type": "execute_result"
    }
   ],
   "source": [
    "df = pd.read_csv('../Data/data_churn_model.csv', index_col=0)\n",
    "df.head()"
   ]
  },
  {
   "cell_type": "code",
   "execution_count": 3,
   "metadata": {},
   "outputs": [],
   "source": [
    "df['Effective_Ending_DT']= pd.to_datetime(df['Effective_Ending_DT'])\n",
    "df['Effective_Start_DT']= pd.to_datetime(df['Effective_Start_DT'])\n",
    "df['Duration'] = df['Effective_Ending_DT'] - df['Effective_Start_DT']"
   ]
  },
  {
   "cell_type": "code",
   "execution_count": 4,
   "metadata": {},
   "outputs": [
    {
     "data": {
      "text/html": [
       "<div>\n",
       "<style scoped>\n",
       "    .dataframe tbody tr th:only-of-type {\n",
       "        vertical-align: middle;\n",
       "    }\n",
       "\n",
       "    .dataframe tbody tr th {\n",
       "        vertical-align: top;\n",
       "    }\n",
       "\n",
       "    .dataframe thead th {\n",
       "        text-align: right;\n",
       "    }\n",
       "</style>\n",
       "<table border=\"1\" class=\"dataframe\">\n",
       "  <thead>\n",
       "    <tr style=\"text-align: right;\">\n",
       "      <th></th>\n",
       "      <th>Country</th>\n",
       "      <th>Employee_Pay_ST</th>\n",
       "      <th>Track</th>\n",
       "      <th>Level_Cat</th>\n",
       "      <th>Level</th>\n",
       "      <th>Effective_Start_DT</th>\n",
       "      <th>Effective_Ending_DT</th>\n",
       "      <th>Termination_Reason</th>\n",
       "      <th>Birth_DT</th>\n",
       "      <th>Edad</th>\n",
       "      <th>...</th>\n",
       "      <th>Estado</th>\n",
       "      <th>Total_number_received_Feedback</th>\n",
       "      <th>Performance_feedback_AVG</th>\n",
       "      <th>Performance_Level_CD</th>\n",
       "      <th>Performance_Level</th>\n",
       "      <th>Potential_Level_CD</th>\n",
       "      <th>Potential_Level</th>\n",
       "      <th>Track_Code</th>\n",
       "      <th>TotalNumberOfficeEmployees</th>\n",
       "      <th>Duration</th>\n",
       "    </tr>\n",
       "    <tr>\n",
       "      <th>ID_Country</th>\n",
       "      <th></th>\n",
       "      <th></th>\n",
       "      <th></th>\n",
       "      <th></th>\n",
       "      <th></th>\n",
       "      <th></th>\n",
       "      <th></th>\n",
       "      <th></th>\n",
       "      <th></th>\n",
       "      <th></th>\n",
       "      <th></th>\n",
       "      <th></th>\n",
       "      <th></th>\n",
       "      <th></th>\n",
       "      <th></th>\n",
       "      <th></th>\n",
       "      <th></th>\n",
       "      <th></th>\n",
       "      <th></th>\n",
       "      <th></th>\n",
       "      <th></th>\n",
       "    </tr>\n",
       "  </thead>\n",
       "  <tbody>\n",
       "    <tr>\n",
       "      <th>2</th>\n",
       "      <td>MX</td>\n",
       "      <td>Active</td>\n",
       "      <td>SYINCO</td>\n",
       "      <td>5</td>\n",
       "      <td>Sr. Consultant</td>\n",
       "      <td>2001-12-01</td>\n",
       "      <td>2021-01-29</td>\n",
       "      <td>Still Active</td>\n",
       "      <td>16/09/1971</td>\n",
       "      <td>49</td>\n",
       "      <td>...</td>\n",
       "      <td>Activo</td>\n",
       "      <td>0.0</td>\n",
       "      <td>91.789248</td>\n",
       "      <td>2</td>\n",
       "      <td>Medium</td>\n",
       "      <td>0</td>\n",
       "      <td>No Employee info</td>\n",
       "      <td>8</td>\n",
       "      <td>1441</td>\n",
       "      <td>6999 days</td>\n",
       "    </tr>\n",
       "    <tr>\n",
       "      <th>2</th>\n",
       "      <td>MX</td>\n",
       "      <td>Active</td>\n",
       "      <td>DEVELO</td>\n",
       "      <td>5</td>\n",
       "      <td>Sr. Consultant</td>\n",
       "      <td>2018-08-23</td>\n",
       "      <td>2021-01-29</td>\n",
       "      <td>Still Active</td>\n",
       "      <td>10/10/1966</td>\n",
       "      <td>54</td>\n",
       "      <td>...</td>\n",
       "      <td>Activo</td>\n",
       "      <td>19.0</td>\n",
       "      <td>91.630000</td>\n",
       "      <td>2</td>\n",
       "      <td>Medium</td>\n",
       "      <td>0</td>\n",
       "      <td>No Employee info</td>\n",
       "      <td>3</td>\n",
       "      <td>1441</td>\n",
       "      <td>890 days</td>\n",
       "    </tr>\n",
       "    <tr>\n",
       "      <th>2</th>\n",
       "      <td>MX</td>\n",
       "      <td>Active</td>\n",
       "      <td>CONSUL</td>\n",
       "      <td>6</td>\n",
       "      <td>Manager / Master</td>\n",
       "      <td>2009-08-01</td>\n",
       "      <td>2021-01-29</td>\n",
       "      <td>Still Active</td>\n",
       "      <td>03/09/1972</td>\n",
       "      <td>48</td>\n",
       "      <td>...</td>\n",
       "      <td>Activo</td>\n",
       "      <td>0.0</td>\n",
       "      <td>91.789248</td>\n",
       "      <td>0</td>\n",
       "      <td>High</td>\n",
       "      <td>0</td>\n",
       "      <td>No Employee info</td>\n",
       "      <td>2</td>\n",
       "      <td>1441</td>\n",
       "      <td>4199 days</td>\n",
       "    </tr>\n",
       "    <tr>\n",
       "      <th>2</th>\n",
       "      <td>MX</td>\n",
       "      <td>Active</td>\n",
       "      <td>MNGSER</td>\n",
       "      <td>3</td>\n",
       "      <td>Experienced Consultant</td>\n",
       "      <td>2017-11-16</td>\n",
       "      <td>2021-01-29</td>\n",
       "      <td>Still Active</td>\n",
       "      <td>22/11/1970</td>\n",
       "      <td>49</td>\n",
       "      <td>...</td>\n",
       "      <td>Activo</td>\n",
       "      <td>0.0</td>\n",
       "      <td>91.789248</td>\n",
       "      <td>2</td>\n",
       "      <td>Medium</td>\n",
       "      <td>0</td>\n",
       "      <td>No Employee info</td>\n",
       "      <td>4</td>\n",
       "      <td>1441</td>\n",
       "      <td>1170 days</td>\n",
       "    </tr>\n",
       "    <tr>\n",
       "      <th>2</th>\n",
       "      <td>MX</td>\n",
       "      <td>Active</td>\n",
       "      <td>PROJCT</td>\n",
       "      <td>6</td>\n",
       "      <td>Manager / Master</td>\n",
       "      <td>1995-10-01</td>\n",
       "      <td>2021-01-29</td>\n",
       "      <td>Still Active</td>\n",
       "      <td>25/06/1974</td>\n",
       "      <td>46</td>\n",
       "      <td>...</td>\n",
       "      <td>Activo</td>\n",
       "      <td>2.0</td>\n",
       "      <td>50.000000</td>\n",
       "      <td>2</td>\n",
       "      <td>Medium</td>\n",
       "      <td>1</td>\n",
       "      <td>RISING TALENT</td>\n",
       "      <td>5</td>\n",
       "      <td>1441</td>\n",
       "      <td>9252 days</td>\n",
       "    </tr>\n",
       "  </tbody>\n",
       "</table>\n",
       "<p>5 rows × 66 columns</p>\n",
       "</div>"
      ],
      "text/plain": [
       "           Country Employee_Pay_ST   Track  Level_Cat                   Level  \\\n",
       "ID_Country                                                                      \n",
       "2               MX          Active  SYINCO          5          Sr. Consultant   \n",
       "2               MX          Active  DEVELO          5          Sr. Consultant   \n",
       "2               MX          Active  CONSUL          6        Manager / Master   \n",
       "2               MX          Active  MNGSER          3  Experienced Consultant   \n",
       "2               MX          Active  PROJCT          6        Manager / Master   \n",
       "\n",
       "           Effective_Start_DT Effective_Ending_DT Termination_Reason  \\\n",
       "ID_Country                                                             \n",
       "2                  2001-12-01          2021-01-29       Still Active   \n",
       "2                  2018-08-23          2021-01-29       Still Active   \n",
       "2                  2009-08-01          2021-01-29       Still Active   \n",
       "2                  2017-11-16          2021-01-29       Still Active   \n",
       "2                  1995-10-01          2021-01-29       Still Active   \n",
       "\n",
       "              Birth_DT  Edad  ...  Estado Total_number_received_Feedback  \\\n",
       "ID_Country                    ...                                          \n",
       "2           16/09/1971    49  ...  Activo                            0.0   \n",
       "2           10/10/1966    54  ...  Activo                           19.0   \n",
       "2           03/09/1972    48  ...  Activo                            0.0   \n",
       "2           22/11/1970    49  ...  Activo                            0.0   \n",
       "2           25/06/1974    46  ...  Activo                            2.0   \n",
       "\n",
       "            Performance_feedback_AVG  Performance_Level_CD  Performance_Level  \\\n",
       "ID_Country                                                                      \n",
       "2                          91.789248                     2             Medium   \n",
       "2                          91.630000                     2             Medium   \n",
       "2                          91.789248                     0               High   \n",
       "2                          91.789248                     2             Medium   \n",
       "2                          50.000000                     2             Medium   \n",
       "\n",
       "            Potential_Level_CD   Potential_Level  Track_Code  \\\n",
       "ID_Country                                                     \n",
       "2                            0  No Employee info           8   \n",
       "2                            0  No Employee info           3   \n",
       "2                            0  No Employee info           2   \n",
       "2                            0  No Employee info           4   \n",
       "2                            1     RISING TALENT           5   \n",
       "\n",
       "            TotalNumberOfficeEmployees  Duration  \n",
       "ID_Country                                        \n",
       "2                                 1441 6999 days  \n",
       "2                                 1441  890 days  \n",
       "2                                 1441 4199 days  \n",
       "2                                 1441 1170 days  \n",
       "2                                 1441 9252 days  \n",
       "\n",
       "[5 rows x 66 columns]"
      ]
     },
     "execution_count": 4,
     "metadata": {},
     "output_type": "execute_result"
    }
   ],
   "source": [
    "df.head()"
   ]
  },
  {
   "cell_type": "code",
   "execution_count": 7,
   "metadata": {},
   "outputs": [],
   "source": [
    "#df['Estado'] = df['Estado'].replace(['Inactivo','Activo'],[int(1),int(0)])\n",
    "df.loc[df['Termination_Reason'] == 'Still Active', 'Churn'] = 0\n",
    "df.loc[df['Termination_Reason'] != 'Still Active', 'Churn'] = 1\n"
   ]
  },
  {
   "cell_type": "code",
   "execution_count": 42,
   "metadata": {},
   "outputs": [
    {
     "name": "stdout",
     "output_type": "stream",
     "text": [
      "<class 'pandas.core.frame.DataFrame'>\n",
      "Int64Index: 3429 entries, 2 to 16\n",
      "Data columns (total 67 columns):\n",
      " #   Column                          Non-Null Count  Dtype          \n",
      "---  ------                          --------------  -----          \n",
      " 0   Country                         3429 non-null   object         \n",
      " 1   Employee_Pay_ST                 3429 non-null   object         \n",
      " 2   Track                           3429 non-null   object         \n",
      " 3   Level_Cat                       3429 non-null   int64          \n",
      " 4   Level                           3429 non-null   object         \n",
      " 5   Effective_Start_DT              3429 non-null   datetime64[ns] \n",
      " 6   Effective_Ending_DT             3429 non-null   datetime64[ns] \n",
      " 7   Termination_Reason              3429 non-null   object         \n",
      " 8   Birth_DT                        3429 non-null   object         \n",
      " 9   Edad                            3429 non-null   int64          \n",
      " 10  Marital_CD                      3429 non-null   int64          \n",
      " 11  Marital_ST                      3429 non-null   object         \n",
      " 12  Gender                          3429 non-null   int64          \n",
      " 13  SBR_AMT                         3429 non-null   float64        \n",
      " 14  SCR_AMT                         3429 non-null   float64        \n",
      " 15  Region                          3360 non-null   float64        \n",
      " 16  Office                          3429 non-null   int64          \n",
      " 17  Area                            3429 non-null   int64          \n",
      " 18  Division                        3429 non-null   int64          \n",
      " 19  Department_CD                   3429 non-null   int64          \n",
      " 20  Department                      3429 non-null   object         \n",
      " 21  Billiability                    3429 non-null   int64          \n",
      " 22  Technology                      3429 non-null   int64          \n",
      " 23  Business_Unit                   3429 non-null   int64          \n",
      " 24  Std_Hrs_Week                    3429 non-null   float64        \n",
      " 25  Prime_Skills_CD                 3429 non-null   int64          \n",
      " 26  Prime_Skills                    3429 non-null   object         \n",
      " 27  2020                            3429 non-null   int64          \n",
      " 28  2019                            3429 non-null   int64          \n",
      " 29  Months_Worked                   3429 non-null   int64          \n",
      " 30  Level_Cat.1                     3429 non-null   int64          \n",
      " 31  Proportional_Days               3429 non-null   float64        \n",
      " 32  Days_Taken                      3429 non-null   float64        \n",
      " 33  Vacation_Ratio                  3429 non-null   float64        \n",
      " 34  Number_Unique_Projects          3429 non-null   int64          \n",
      " 35  Number_Unique_Project_Type      3429 non-null   int64          \n",
      " 36  Abscence_Projects               3429 non-null   float64        \n",
      " 37  Administrative_Functions        3429 non-null   float64        \n",
      " 38  Awaiting_Projects               3429 non-null   float64        \n",
      " 39  Billable_Projects               3429 non-null   float64        \n",
      " 40  Corporate_Funded_Projects       3429 non-null   float64        \n",
      " 41  Cost_Centers                    3429 non-null   float64        \n",
      " 42  Indirect_Cost_Centers           3429 non-null   int64          \n",
      " 43  Internal_Investment_Projects    3429 non-null   float64        \n",
      " 44  Internal_Programs               3429 non-null   float64        \n",
      " 45  Proposals                       3429 non-null   float64        \n",
      " 46  Proposals_General               3429 non-null   float64        \n",
      " 47  Training_Programs               3429 non-null   float64        \n",
      " 48  Increase_2018_2019              3429 non-null   float64        \n",
      " 49  Increase_2019_2020              3429 non-null   float64        \n",
      " 50  Bonus_2018                      3346 non-null   float64        \n",
      " 51  Bonus_2019                      3346 non-null   float64        \n",
      " 52  Course_Viewed                   3429 non-null   float64        \n",
      " 53  Logs_Course_Viewed              3429 non-null   float64        \n",
      " 54  Logs_Global_Campus              3429 non-null   float64        \n",
      " 55  Media_hora_curso                3429 non-null   float64        \n",
      " 56  Estado                          3346 non-null   object         \n",
      " 57  Total_number_received_Feedback  3429 non-null   float64        \n",
      " 58  Performance_feedback_AVG        3429 non-null   float64        \n",
      " 59  Performance_Level_CD            3429 non-null   int64          \n",
      " 60  Performance_Level               3429 non-null   object         \n",
      " 61  Potential_Level_CD              3429 non-null   int64          \n",
      " 62  Potential_Level                 3429 non-null   object         \n",
      " 63  Track_Code                      3429 non-null   int64          \n",
      " 64  TotalNumberOfficeEmployees      3429 non-null   int64          \n",
      " 65  Duration                        3429 non-null   timedelta64[ns]\n",
      " 66  Churn                           3429 non-null   float64        \n",
      "dtypes: datetime64[ns](2), float64(29), int64(23), object(12), timedelta64[ns](1)\n",
      "memory usage: 1.9+ MB\n"
     ]
    }
   ],
   "source": [
    "df.info()"
   ]
  },
  {
   "cell_type": "code",
   "execution_count": 9,
   "metadata": {},
   "outputs": [
    {
     "data": {
      "text/plain": [
       "array([0., 1.])"
      ]
     },
     "execution_count": 9,
     "metadata": {},
     "output_type": "execute_result"
    }
   ],
   "source": [
    "df['Churn'].unique()"
   ]
  },
  {
   "cell_type": "code",
   "execution_count": 10,
   "metadata": {},
   "outputs": [
    {
     "name": "stdout",
     "output_type": "stream",
     "text": [
      "0.0    2421\n",
      "1.0    1008\n",
      "Name: Churn, dtype: int64\n"
     ]
    }
   ],
   "source": [
    "item_counts = df[\"Churn\"].value_counts()\n",
    "print(item_counts)"
   ]
  },
  {
   "cell_type": "code",
   "execution_count": 11,
   "metadata": {},
   "outputs": [
    {
     "data": {
      "image/png": "[encoded data removed]",
      "text/plain": [
       "<Figure size 432x288 with 1 Axes>"
      ]
     },
     "metadata": {},
     "output_type": "display_data"
    }
   ],
   "source": [
    "churn_labels = 'Not Churned', 'Churned'\n",
    "plt.pie(item_counts, labels = churn_labels, autopct='%1.1f%%')\n",
    "plt.title('Churn Percentage')\n",
    "plt.axis('equal')\n",
    "plt.show()"
   ]
  },
  {
   "cell_type": "code",
   "execution_count": 12,
   "metadata": {},
   "outputs": [
    {
     "name": "stdout",
     "output_type": "stream",
     "text": [
      "Prime_Skills\n",
      ".NET DEVELOPER                                                        409\n",
      "ANGULAR                                                                48\n",
      "BUSINESS CONSULTANT (PMO + PROCESSES + CHANGE MGT + BUSINESS CASE)     60\n",
      "FINANCE                                                                 4\n",
      "FUNCTIONAL ANALYST                                                    157\n",
      "INFORMATICA POWERCENTER                                                41\n",
      "IT                                                                     98\n",
      "JAVA                                                                  388\n",
      "JIRA (ZEPHYR)                                                          76\n",
      "LINES OF SERVICES MANAGER                                              35\n",
      "MICROFOCUS QC/ALM                                                     137\n",
      "MICROSOFT DYNAMICS 365                                                 36\n",
      "ORACLE                                                                 63\n",
      "Other                                                                 893\n",
      "PHP                                                                    32\n",
      "PL SQL                                                                 39\n",
      "PMO                                                                    41\n",
      "PROJECT LEADER                                                         52\n",
      "PROJECT MANAGER                                                        56\n",
      "SALESFORCE                                                             31\n",
      "SAP                                                                   607\n",
      "TELCO                                                                  38\n",
      "USER EXPERIENCE DESIGNER (UX)                                          31\n",
      "VERTICAL MANAGER                                                       57\n",
      "Name: Churn, dtype: int64\n"
     ]
    }
   ],
   "source": [
    "print(df.groupby(\"Prime_Skills\")[\"Churn\"].count())"
   ]
  },
  {
   "cell_type": "code",
   "execution_count": 13,
   "metadata": {},
   "outputs": [
    {
     "name": "stdout",
     "output_type": "stream",
     "text": [
      "Prime_Skills\n",
      ".NET DEVELOPER                                                        144.0\n",
      "ANGULAR                                                                17.0\n",
      "BUSINESS CONSULTANT (PMO + PROCESSES + CHANGE MGT + BUSINESS CASE)     37.0\n",
      "FINANCE                                                                 0.0\n",
      "FUNCTIONAL ANALYST                                                     49.0\n",
      "INFORMATICA POWERCENTER                                                12.0\n",
      "IT                                                                     15.0\n",
      "JAVA                                                                  137.0\n",
      "JIRA (ZEPHYR)                                                          16.0\n",
      "LINES OF SERVICES MANAGER                                               6.0\n",
      "MICROFOCUS QC/ALM                                                      69.0\n",
      "MICROSOFT DYNAMICS 365                                                  8.0\n",
      "ORACLE                                                                 20.0\n",
      "Other                                                                 227.0\n",
      "PHP                                                                    12.0\n",
      "PL SQL                                                                 11.0\n",
      "PMO                                                                    20.0\n",
      "PROJECT LEADER                                                         19.0\n",
      "PROJECT MANAGER                                                        15.0\n",
      "SALESFORCE                                                             17.0\n",
      "SAP                                                                   125.0\n",
      "TELCO                                                                   7.0\n",
      "USER EXPERIENCE DESIGNER (UX)                                          10.0\n",
      "VERTICAL MANAGER                                                       15.0\n",
      "Name: Churn, dtype: float64\n"
     ]
    }
   ],
   "source": [
    "print(df.groupby(\"Prime_Skills\")[\"Churn\"].sum())"
   ]
  },
  {
   "cell_type": "code",
   "execution_count": 14,
   "metadata": {},
   "outputs": [
    {
     "name": "stdout",
     "output_type": "stream",
     "text": [
      "Track\n",
      "ARCHTC      48\n",
      "BUSMGT     116\n",
      "CONSUL     306\n",
      "DEVELO    1801\n",
      "MNGSER     281\n",
      "PROJCT      95\n",
      "SERMGT      47\n",
      "SUPPOR       6\n",
      "SYINCO     729\n",
      "Name: Churn, dtype: int64\n"
     ]
    }
   ],
   "source": [
    "print(df.groupby(\"Track\")[\"Churn\"].count())"
   ]
  },
  {
   "cell_type": "code",
   "execution_count": 15,
   "metadata": {},
   "outputs": [
    {
     "name": "stdout",
     "output_type": "stream",
     "text": [
      "Track\n",
      "ARCHTC      7.0\n",
      "BUSMGT     24.0\n",
      "CONSUL    106.0\n",
      "DEVELO    599.0\n",
      "MNGSER     54.0\n",
      "PROJCT     27.0\n",
      "SERMGT     11.0\n",
      "SUPPOR      1.0\n",
      "SYINCO    179.0\n",
      "Name: Churn, dtype: float64\n"
     ]
    }
   ],
   "source": [
    "print(df.groupby(\"Track\")[\"Churn\"].sum())"
   ]
  },
  {
   "cell_type": "code",
   "execution_count": 16,
   "metadata": {},
   "outputs": [
    {
     "name": "stdout",
     "output_type": "stream",
     "text": [
      "Duration\n",
      "0 days       4\n",
      "1 days       2\n",
      "2 days       2\n",
      "5 days       1\n",
      "6 days       1\n",
      "            ..\n",
      "8915 days    1\n",
      "8955 days    1\n",
      "9160 days    1\n",
      "9252 days    1\n",
      "9669 days    1\n",
      "Name: Churn, Length: 1610, dtype: int64\n"
     ]
    }
   ],
   "source": [
    "print(df.groupby(\"Duration\")[\"Churn\"].count())"
   ]
  },
  {
   "cell_type": "code",
   "execution_count": 17,
   "metadata": {},
   "outputs": [
    {
     "name": "stdout",
     "output_type": "stream",
     "text": [
      "Duration\n",
      "0 days       4.0\n",
      "1 days       2.0\n",
      "2 days       2.0\n",
      "5 days       1.0\n",
      "6 days       1.0\n",
      "            ... \n",
      "8915 days    0.0\n",
      "8955 days    0.0\n",
      "9160 days    0.0\n",
      "9252 days    0.0\n",
      "9669 days    0.0\n",
      "Name: Churn, Length: 1610, dtype: float64\n"
     ]
    }
   ],
   "source": [
    "print(df.groupby(\"Duration\")[\"Churn\"].sum())"
   ]
  },
  {
   "cell_type": "code",
   "execution_count": 18,
   "metadata": {},
   "outputs": [
    {
     "name": "stdout",
     "output_type": "stream",
     "text": [
      "Termination_Reason\n",
      "Still Active                     2421\n",
      "Vol - Compensation & Benefits     172\n",
      "Vol - Job Abandonment               1\n",
      "Vol - Other                        53\n",
      "Vol - Personal                    154\n",
      "Vol - Project Discomfort          106\n",
      "Vol - Supervisor / Leadership      11\n",
      "Vol - Training & Career Dev       491\n",
      "Vol - Transfer NEORIS Office        2\n",
      "Vol - Transfer to CEMEX            12\n",
      "Vol - Transfer to client            5\n",
      "Vol - Work Environment              1\n",
      "Name: Churn, dtype: int64\n"
     ]
    }
   ],
   "source": [
    "print(df.groupby(\"Termination_Reason\")[\"Churn\"].count())"
   ]
  },
  {
   "cell_type": "code",
   "execution_count": 20,
   "metadata": {},
   "outputs": [
    {
     "name": "stdout",
     "output_type": "stream",
     "text": [
      "Country\n",
      "AR     735\n",
      "BR      94\n",
      "CL     146\n",
      "CO      77\n",
      "CZ      32\n",
      "ES     807\n",
      "HU       5\n",
      "IN      11\n",
      "MX    1465\n",
      "PE      25\n",
      "US      32\n",
      "Name: Churn, dtype: int64\n"
     ]
    }
   ],
   "source": [
    "print(df.groupby(\"Country\")[\"Churn\"].count())"
   ]
  },
  {
   "cell_type": "code",
   "execution_count": 21,
   "metadata": {},
   "outputs": [
    {
     "name": "stdout",
     "output_type": "stream",
     "text": [
      "Country\n",
      "AR    268.0\n",
      "BR     20.0\n",
      "CL     55.0\n",
      "CO     17.0\n",
      "CZ     20.0\n",
      "ES    248.0\n",
      "HU      0.0\n",
      "IN      1.0\n",
      "MX    356.0\n",
      "PE      8.0\n",
      "US     15.0\n",
      "Name: Churn, dtype: float64\n"
     ]
    }
   ],
   "source": [
    "print(df.groupby(\"Country\")[\"Churn\"].sum())"
   ]
  },
  {
   "cell_type": "code",
   "execution_count": 22,
   "metadata": {},
   "outputs": [
    {
     "name": "stdout",
     "output_type": "stream",
     "text": [
      "Months_Worked\n",
      "0      15\n",
      "1      27\n",
      "2      56\n",
      "3      67\n",
      "4      59\n",
      "       ..\n",
      "292     1\n",
      "294     1\n",
      "300     1\n",
      "303     1\n",
      "317     1\n",
      "Name: Churn, Length: 231, dtype: int64\n"
     ]
    }
   ],
   "source": [
    "print(df.groupby(\"Months_Worked\")[\"Churn\"].count())"
   ]
  },
  {
   "cell_type": "code",
   "execution_count": 23,
   "metadata": {},
   "outputs": [
    {
     "name": "stdout",
     "output_type": "stream",
     "text": [
      "Months_Worked\n",
      "0      15.0\n",
      "1      27.0\n",
      "2      31.0\n",
      "3      29.0\n",
      "4      20.0\n",
      "       ... \n",
      "292     0.0\n",
      "294     0.0\n",
      "300     0.0\n",
      "303     0.0\n",
      "317     0.0\n",
      "Name: Churn, Length: 231, dtype: float64\n"
     ]
    }
   ],
   "source": [
    "print(df.groupby(\"Months_Worked\")[\"Churn\"].sum())"
   ]
  },
  {
   "cell_type": "code",
   "execution_count": 27,
   "metadata": {},
   "outputs": [],
   "source": [
    "df_by_month = df.groupby(\"Months_Worked\")[\"Churn\"].sum()"
   ]
  },
  {
   "cell_type": "code",
   "execution_count": 29,
   "metadata": {},
   "outputs": [
    {
     "data": {
      "text/plain": [
       "<matplotlib.axes._subplots.AxesSubplot at 0x19eaffe6bb0>"
      ]
     },
     "execution_count": 29,
     "metadata": {},
     "output_type": "execute_result"
    },
    {
     "data": {
      "image/png": "[encoded data removed]",
      "text/plain": [
       "<Figure size 432x288 with 1 Axes>"
      ]
     },
     "metadata": {},
     "output_type": "display_data"
    }
   ],
   "source": [
    "df_by_month.plot()"
   ]
  },
  {
   "cell_type": "code",
   "execution_count": 30,
   "metadata": {},
   "outputs": [],
   "source": [
    "df_by_age = df.groupby(\"Edad\")[\"Churn\"].sum()"
   ]
  },
  {
   "cell_type": "code",
   "execution_count": 31,
   "metadata": {},
   "outputs": [
    {
     "data": {
      "text/plain": [
       "<matplotlib.axes._subplots.AxesSubplot at 0x19eb1039340>"
      ]
     },
     "execution_count": 31,
     "metadata": {},
     "output_type": "execute_result"
    },
    {
     "data": {
      "image/png": "[encoded data removed]",
      "text/plain": [
       "<Figure size 432x288 with 1 Axes>"
      ]
     },
     "metadata": {},
     "output_type": "display_data"
    }
   ],
   "source": [
    "df_by_age.plot()"
   ]
  },
  {
   "cell_type": "code",
   "execution_count": 32,
   "metadata": {},
   "outputs": [
    {
     "name": "stdout",
     "output_type": "stream",
     "text": [
      "Department\n",
      "303       39\n",
      "D72       42\n",
      "DH3       34\n",
      "H48       51\n",
      "Other    780\n",
      "S04      235\n",
      "S48       31\n",
      "S51      136\n",
      "S63      304\n",
      "S64      929\n",
      "S65       35\n",
      "S66       58\n",
      "S73       39\n",
      "S76      259\n",
      "T22       38\n",
      "T25      151\n",
      "T45      108\n",
      "T57       67\n",
      "T60       47\n",
      "ZZ3       46\n",
      "Name: Churn, dtype: int64\n"
     ]
    }
   ],
   "source": [
    "print(df.groupby(\"Department\")[\"Churn\"].count())"
   ]
  },
  {
   "cell_type": "code",
   "execution_count": 33,
   "metadata": {},
   "outputs": [
    {
     "name": "stdout",
     "output_type": "stream",
     "text": [
      "Department\n",
      "303        3.0\n",
      "D72        7.0\n",
      "DH3        0.0\n",
      "H48        1.0\n",
      "Other    374.0\n",
      "S04        0.0\n",
      "S48       31.0\n",
      "S51        6.0\n",
      "S63      304.0\n",
      "S64       38.0\n",
      "S65       35.0\n",
      "S66       58.0\n",
      "S73       39.0\n",
      "S76       56.0\n",
      "T22       38.0\n",
      "T25        1.0\n",
      "T45        6.0\n",
      "T57        7.0\n",
      "T60        4.0\n",
      "ZZ3        0.0\n",
      "Name: Churn, dtype: float64\n"
     ]
    }
   ],
   "source": [
    "print(df.groupby(\"Department\")[\"Churn\"].sum())"
   ]
  },
  {
   "cell_type": "code",
   "execution_count": 34,
   "metadata": {},
   "outputs": [
    {
     "name": "stdout",
     "output_type": "stream",
     "text": [
      "Increase_2018_2019\n",
      "0.000000      3180\n",
      "3.758906        83\n",
      "10.330000        1\n",
      "17.030000        1\n",
      "19.920000        1\n",
      "26.920000        1\n",
      "28.950000        1\n",
      "29.210000        1\n",
      "30.000000       12\n",
      "32.220000        1\n",
      "32.500000        1\n",
      "36.440000        1\n",
      "36.750000        1\n",
      "39.480000        1\n",
      "39.800000        2\n",
      "41.200000        1\n",
      "43.300000        7\n",
      "44.000000        1\n",
      "44.650000        1\n",
      "47.500000        4\n",
      "47.780000        1\n",
      "49.100000        1\n",
      "49.170000        1\n",
      "50.000000        1\n",
      "51.750000        1\n",
      "52.090000        1\n",
      "52.300000        1\n",
      "52.400000        1\n",
      "52.700000        1\n",
      "59.400000        1\n",
      "60.100000       15\n",
      "64.800000        1\n",
      "65.800000        1\n",
      "70.400000        1\n",
      "75.500000        1\n",
      "77.850000        1\n",
      "77.900000        1\n",
      "78.060000        1\n",
      "79.700000        1\n",
      "80.900000        1\n",
      "82.000000        1\n",
      "85.550000        1\n",
      "86.000000        1\n",
      "88.000000        1\n",
      "88.100000        5\n",
      "90.000000        1\n",
      "90.200000        2\n",
      "90.900000        1\n",
      "91.600000        1\n",
      "93.400000        1\n",
      "93.610000        1\n",
      "96.690000        1\n",
      "98.650000        1\n",
      "99.300000        2\n",
      "100.000000      73\n",
      "Name: Churn, dtype: int64\n"
     ]
    }
   ],
   "source": [
    "print(df.groupby(\"Increase_2018_2019\")[\"Churn\"].count())"
   ]
  },
  {
   "cell_type": "code",
   "execution_count": 35,
   "metadata": {},
   "outputs": [
    {
     "name": "stdout",
     "output_type": "stream",
     "text": [
      "Increase_2018_2019\n",
      "0.000000      993.0\n",
      "3.758906        0.0\n",
      "10.330000       0.0\n",
      "17.030000       0.0\n",
      "19.920000       0.0\n",
      "26.920000       1.0\n",
      "28.950000       0.0\n",
      "29.210000       0.0\n",
      "30.000000       2.0\n",
      "32.220000       0.0\n",
      "32.500000       0.0\n",
      "36.440000       0.0\n",
      "36.750000       0.0\n",
      "39.480000       1.0\n",
      "39.800000       1.0\n",
      "41.200000       0.0\n",
      "43.300000       0.0\n",
      "44.000000       1.0\n",
      "44.650000       0.0\n",
      "47.500000       0.0\n",
      "47.780000       0.0\n",
      "49.100000       0.0\n",
      "49.170000       1.0\n",
      "50.000000       1.0\n",
      "51.750000       0.0\n",
      "52.090000       0.0\n",
      "52.300000       0.0\n",
      "52.400000       0.0\n",
      "52.700000       0.0\n",
      "59.400000       0.0\n",
      "60.100000       0.0\n",
      "64.800000       0.0\n",
      "65.800000       0.0\n",
      "70.400000       0.0\n",
      "75.500000       1.0\n",
      "77.850000       1.0\n",
      "77.900000       1.0\n",
      "78.060000       0.0\n",
      "79.700000       1.0\n",
      "80.900000       0.0\n",
      "82.000000       0.0\n",
      "85.550000       0.0\n",
      "86.000000       0.0\n",
      "88.000000       1.0\n",
      "88.100000       0.0\n",
      "90.000000       0.0\n",
      "90.200000       0.0\n",
      "90.900000       1.0\n",
      "91.600000       0.0\n",
      "93.400000       0.0\n",
      "93.610000       0.0\n",
      "96.690000       0.0\n",
      "98.650000       0.0\n",
      "99.300000       0.0\n",
      "100.000000      1.0\n",
      "Name: Churn, dtype: float64\n"
     ]
    }
   ],
   "source": [
    "print(df.groupby(\"Increase_2018_2019\")[\"Churn\"].sum())"
   ]
  },
  {
   "cell_type": "code",
   "execution_count": 37,
   "metadata": {},
   "outputs": [
    {
     "data": {
      "text/plain": [
       "<matplotlib.axes._subplots.AxesSubplot at 0x19eaff2bac0>"
      ]
     },
     "execution_count": 37,
     "metadata": {},
     "output_type": "execute_result"
    },
    {
     "data": {
      "image/png": "[encoded data removed]",
      "text/plain": [
       "<Figure size 432x288 with 1 Axes>"
      ]
     },
     "metadata": {},
     "output_type": "display_data"
    }
   ],
   "source": [
    "df_by_incr1 = df.groupby(\"Increase_2018_2019\")[\"Churn\"].sum()\n",
    "df_by_incr1.plot()"
   ]
  },
  {
   "cell_type": "code",
   "execution_count": 39,
   "metadata": {},
   "outputs": [
    {
     "name": "stdout",
     "output_type": "stream",
     "text": [
      "Increase_2019_2020\n",
      "0.000000      694.0\n",
      "18.000000       0.0\n",
      "18.656007       0.0\n",
      "20.000000     289.0\n",
      "21.000000       0.0\n",
      "              ...  \n",
      "89.000000       0.0\n",
      "91.000000       0.0\n",
      "92.000000       0.0\n",
      "96.000000       0.0\n",
      "100.000000      1.0\n",
      "Name: Churn, Length: 64, dtype: float64\n"
     ]
    }
   ],
   "source": [
    "print(df.groupby(\"Increase_2019_2020\")[\"Churn\"].sum())"
   ]
  },
  {
   "cell_type": "code",
   "execution_count": 38,
   "metadata": {},
   "outputs": [
    {
     "data": {
      "text/plain": [
       "<matplotlib.axes._subplots.AxesSubplot at 0x19eb10c0670>"
      ]
     },
     "execution_count": 38,
     "metadata": {},
     "output_type": "execute_result"
    },
    {
     "data": {
      "image/png": "[encoded data removed]",
      "text/plain": [
       "<Figure size 432x288 with 1 Axes>"
      ]
     },
     "metadata": {},
     "output_type": "display_data"
    }
   ],
   "source": [
    "df_by_incr2 = df.groupby(\"Increase_2019_2020\")[\"Churn\"].sum()\n",
    "df_by_incr2.plot()"
   ]
  },
  {
   "cell_type": "code",
   "execution_count": 40,
   "metadata": {},
   "outputs": [
    {
     "data": {
      "text/plain": [
       "<matplotlib.axes._subplots.AxesSubplot at 0x19eb1116700>"
      ]
     },
     "execution_count": 40,
     "metadata": {},
     "output_type": "execute_result"
    },
    {
     "data": {
      "image/png": "[encoded data removed]",
      "text/plain": [
       "<Figure size 432x288 with 1 Axes>"
      ]
     },
     "metadata": {},
     "output_type": "display_data"
    }
   ],
   "source": [
    "df_by_vacation = df.groupby(\"Vacation_Ratio\")[\"Churn\"].sum()\n",
    "df_by_vacation.plot()"
   ]
  },
  {
   "cell_type": "code",
   "execution_count": 43,
   "metadata": {},
   "outputs": [
    {
     "name": "stdout",
     "output_type": "stream",
     "text": [
      "Marital_ST\n",
      "C     131\n",
      "D      64\n",
      "M     830\n",
      "S    2401\n",
      "W       3\n",
      "Name: Churn, dtype: int64\n"
     ]
    }
   ],
   "source": [
    "print(df.groupby(\"Marital_ST\")[\"Churn\"].count())"
   ]
  },
  {
   "cell_type": "code",
   "execution_count": 44,
   "metadata": {},
   "outputs": [
    {
     "name": "stdout",
     "output_type": "stream",
     "text": [
      "Marital_ST\n",
      "C     38.0\n",
      "D     16.0\n",
      "M    186.0\n",
      "S    767.0\n",
      "W      1.0\n",
      "Name: Churn, dtype: float64\n"
     ]
    }
   ],
   "source": [
    "print(df.groupby(\"Marital_ST\")[\"Churn\"].sum())"
   ]
  },
  {
   "cell_type": "code",
   "execution_count": 45,
   "metadata": {},
   "outputs": [
    {
     "name": "stdout",
     "output_type": "stream",
     "text": [
      "Gender\n",
      "0    2564\n",
      "1     865\n",
      "Name: Churn, dtype: int64\n"
     ]
    }
   ],
   "source": [
    "print(df.groupby(\"Gender\")[\"Churn\"].count())"
   ]
  },
  {
   "cell_type": "code",
   "execution_count": 46,
   "metadata": {},
   "outputs": [
    {
     "name": "stdout",
     "output_type": "stream",
     "text": [
      "Gender\n",
      "0    790.0\n",
      "1    218.0\n",
      "Name: Churn, dtype: float64\n"
     ]
    }
   ],
   "source": [
    "print(df.groupby(\"Gender\")[\"Churn\"].sum())"
   ]
  },
  {
   "cell_type": "code",
   "execution_count": 47,
   "metadata": {},
   "outputs": [
    {
     "name": "stdout",
     "output_type": "stream",
     "text": [
      "Level\n",
      "Analyst                     640\n",
      "Associate Director           35\n",
      "Consultant                  645\n",
      "Experienced Consultant      741\n",
      "Manager / Master            215\n",
      "Project / Technical Lead    112\n",
      "Sr. Consultant              975\n",
      "Sr. Manager / SME            66\n",
      "Name: Churn, dtype: int64\n"
     ]
    }
   ],
   "source": [
    "print(df.groupby(\"Level\")[\"Churn\"].count())"
   ]
  },
  {
   "cell_type": "code",
   "execution_count": 48,
   "metadata": {},
   "outputs": [
    {
     "name": "stdout",
     "output_type": "stream",
     "text": [
      "Level\n",
      "Analyst                     246.0\n",
      "Associate Director            9.0\n",
      "Consultant                  210.0\n",
      "Experienced Consultant      205.0\n",
      "Manager / Master             37.0\n",
      "Project / Technical Lead     24.0\n",
      "Sr. Consultant              262.0\n",
      "Sr. Manager / SME            15.0\n",
      "Name: Churn, dtype: float64\n"
     ]
    }
   ],
   "source": [
    "print(df.groupby(\"Level\")[\"Churn\"].sum())"
   ]
  },
  {
   "cell_type": "code",
   "execution_count": null,
   "metadata": {},
   "outputs": [],
   "source": []
  }
 ],
 "metadata": {
  "kernelspec": {
   "display_name": "Python 3",
   "language": "python",
   "name": "python3"
  },
  "language_info": {
   "codemirror_mode": {
    "name": "ipython",
    "version": 3
   },
   "file_extension": ".py",
   "mimetype": "text/x-python",
   "name": "python",
   "nbconvert_exporter": "python",
   "pygments_lexer": "ipython3",
   "version": "3.8.3"
  }
 },
 "nbformat": 4,
 "nbformat_minor": 4
}
